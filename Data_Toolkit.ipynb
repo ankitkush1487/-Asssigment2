{
  "nbformat": 4,
  "nbformat_minor": 0,
  "metadata": {
    "colab": {
      "provenance": [],
      "authorship_tag": "ABX9TyOEys4MU+BBr0Co7NNAg+4Z",
      "include_colab_link": true
    },
    "kernelspec": {
      "name": "python3",
      "display_name": "Python 3"
    },
    "language_info": {
      "name": "python"
    }
  },
  "cells": [
    {
      "cell_type": "markdown",
      "metadata": {
        "id": "view-in-github",
        "colab_type": "text"
      },
      "source": [
        "<a href=\"https://colab.research.google.com/github/ankitkush1487/-Asssigment2/blob/master/Data_Toolkit.ipynb\" target=\"_parent\"><img src=\"https://colab.research.google.com/assets/colab-badge.svg\" alt=\"Open In Colab\"/></a>"
      ]
    },
    {
      "cell_type": "markdown",
      "source": [
        "#Data Toolkit Theory Questions\n",
        "\n",
        "\n"
      ],
      "metadata": {
        "id": "EIYhoD38yCIU"
      }
    },
    {
      "cell_type": "markdown",
      "source": [
        "**1. What is NumPy, and why is it widely used in Python?**\n",
        "\n",
        "NumPy (Numerical Python) is a powerful open-source Python library used for numerical computations and data manipulation. It provides an efficient multidimensional array object (ndarray) and supports mathematical, statistical, and linear algebra operations, making it much faster and more memory-efficient than regular Python lists. NumPy is widely used because it enables vectorization (performing operations without explicit loops), broadcasting (handling arrays of different shapes), and seamless integration with other popular libraries like Pandas, SciPy, Matplotlib, and machine learning frameworks such as TensorFlow and PyTorch. Its speed, efficiency, and versatility make it the backbone of scientific computing and data science in Python.\n"
      ],
      "metadata": {
        "id": "DLa7nsmdyR00"
      }
    },
    {
      "cell_type": "markdown",
      "source": [
        "**2. How does broadcasting work in NumPy?**\n",
        "\n",
        "Broadcasting is a method that allows NumPy to perform operations on arrays of different shapes by aligning them in a compatible manner. For example, when a smaller array's dimensions do not match a larger array, NumPy implicitly expands the smaller array's dimensions to match the larger one without copying data. This optimization enhances performance and reduces memory usage.\n"
      ],
      "metadata": {
        "id": "0qCo6mc3zR-F"
      }
    },
    {
      "cell_type": "markdown",
      "source": [
        "**3. What is a Pandas DataFrame?**\n",
        "\n",
        "A Pandas DataFrame is a two-dimensional, size-mutable, and potentially heterogeneous tabular data structure with labeled axes (rows and columns). It is a core data structure in the Pandas library for Python, widely used for data manipulation and analysis.\n",
        "\n"
      ],
      "metadata": {
        "id": "EKkpqSJC1QvE"
      }
    },
    {
      "cell_type": "markdown",
      "source": [
        "**4. Explain the use of the groupby() method in Pandas.**\n",
        "\n",
        "The groupby() method in Pandas is used for grouping data based on one or more keys. After grouping, various aggregation operations such as mean, sum, or count can be performed. For example, grouping sales data by region and then calculating the total sales per region is a common use case. It simplifies data summarization and analysis.\n",
        "\n"
      ],
      "metadata": {
        "id": "TOeB-g4a1eiR"
      }
    },
    {
      "cell_type": "markdown",
      "source": [
        "**5. Why is Seaborn preferred for statistical visualizations?**\n",
        "\n",
        "Seaborn is preferred for statistical visualizations in Python because it is built on top of Matplotlib and provides a high-level interface for creating attractive, informative, and easy-to-read plots with minimal code. It comes with built-in support for statistical analysis and visualization, such as regression plots, distribution plots, box plots, violin plots, and heatmaps, which makes it easier to understand patterns and relationships in data. Seaborn also works seamlessly with Pandas DataFrames, allowing direct plotting using column names, which simplifies the workflow for data analysts. Additionally, it applies aesthetic themes and color palettes by default, producing visually appealing charts without much customization. Overall, Seaborn is widely preferred because it combines statistical insight, ease of use, and elegant design, making it a powerful tool for exploratory data analysis.\n"
      ],
      "metadata": {
        "id": "QjhwizOF2ICI"
      }
    },
    {
      "cell_type": "markdown",
      "source": [
        "**6. What are the differences between NumPy arrays and Python lists?**\n",
        "\n",
        "NumPy arrays are faster and more memory-efficient than Python lists. They support vectorized operations, which allow performing element-wise computations without explicit loops. Unlike Python lists, NumPy arrays require elements of the same type and support multi-dimensional arrays for more complex numerical operations.\n"
      ],
      "metadata": {
        "id": "k71-ZJQ42YFP"
      }
    },
    {
      "cell_type": "markdown",
      "source": [
        "**7. What is a heatmap, and when should it be used?**\n",
        "\n",
        "A heatmap is a data visualization technique that uses color variations to represent the magnitude of values in a two-dimensional grid, effectively showing data density or concentration. It's used to quickly identify areas of high and low activity, patterns, and outliers in datasets. Heatmaps are valuable for understanding user behavior on websites, analyzing spatial data (like crime statistics or temperature variations), and revealing trends in various fields.\n"
      ],
      "metadata": {
        "id": "tMs0AT9l2pnm"
      }
    },
    {
      "cell_type": "markdown",
      "source": [
        "**8. What does the term “vectorized operation” mean in NumPy?**\n",
        "\n",
        "Vectorized operations in NumPy refer to performing element-wise computations across entire arrays without explicit Python loops.\n",
        "\n",
        " For example, adding two arrays element by element can be written as c = a + b. This approach is faster because the computations are executed at the low-level C or Fortran level and avoid the overhead of Python loops.\n",
        "\n"
      ],
      "metadata": {
        "id": "IxbQ3CAR3GDi"
      }
    },
    {
      "cell_type": "markdown",
      "source": [
        "**9. How does Matplotlib differ from Plotly?**\n",
        "\n",
        "Matplotlib and Plotly are both popular Python libraries for data visualization, but they differ in functionality and usage. Matplotlib is a low-level plotting library that provides extensive control over every aspect of a graph, making it highly customizable and suitable for static, publication-quality plots. It is widely used in scientific computing and works well with libraries like NumPy and Pandas, but creating interactive visualizations often requires additional libraries. Plotly, on the other hand, is designed for creating interactive and dynamic visualizations directly in web browsers, allowing users to zoom, pan, and hover over data points. It provides high-level functions that are easier to use, with visually appealing default styles, and is often preferred for dashboards and data storytelling. In short, Matplotlib is best for detailed, static, and research-focused plots, while Plotly is better for interactive, user-friendly, and presentation-focused visualizations."
      ],
      "metadata": {
        "id": "x3dx1Zoy3ZUm"
      }
    },
    {
      "cell_type": "markdown",
      "source": [
        "**10. What is the significance of hierarchical indexing in Pandas?**\n",
        "\n",
        "Hierarchical indexing, or MultiIndexing, allows the use of multiple index levels in a Pandas DataFrame or Series. This feature is useful for working with high-dimensional data and enables operations like slicing and aggregation at different levels. For example, sales data can be indexed by region and year to easily analyze trends over time.\n"
      ],
      "metadata": {
        "id": "sv5FtIP13qQn"
      }
    },
    {
      "cell_type": "markdown",
      "source": [
        "**11. What is the role of Seaborn’s pairplot() function?**\n",
        "\n",
        "\n",
        "Seaborn’s pairplot() function is used to create a grid of plots that shows the pairwise relationships between multiple variables in a dataset, along with the distribution of each variable. It is particularly useful for exploratory data analysis (EDA) because it allows you to quickly visualize how variables are related to each other, detect correlations, and spot patterns or outliers. By default, pairplot() generates scatter plots for numerical variable pairs and histograms (or KDE plots) along the diagonal to show individual distributions. You can also use the hue parameter to color the points based on a categorical variable, which helps in identifying group differences. Overall, pairplot() is a powerful tool for understanding the overall structure of multivariate datasets in a single, compact visualization."
      ],
      "metadata": {
        "id": "YFPzssXx36XQ"
      }
    },
    {
      "cell_type": "markdown",
      "source": [
        "**12. What is the purpose of the describe() function in Pandas?**\n",
        "\n",
        "The describe() function in Pandas is used to generate descriptive statistics of a DataFrame or Series. Its primary purpose is to provide a quick statistical summary of the data, which is essential for understanding the distribution and characteristics of the dataset.\n",
        "\n"
      ],
      "metadata": {
        "id": "yxsPEXsl4S0K"
      }
    },
    {
      "cell_type": "markdown",
      "source": [
        "**13. Why is handling missing data important in Pandas?**\n",
        "\n",
        "Handling missing data in Pandas is important because incomplete or inaccurate data can lead to biased analysis, errors in computation, or misleading results. Real-world datasets often contain missing values due to issues like data entry errors, sensor failures, or incomplete information. If these missing values are not addressed, many operations such as aggregations, statistical calculations, or machine learning model training may fail or produce unreliable outputs. Pandas provides flexible tools like isnull(), dropna(), and fillna() to detect, remove, or replace missing values, ensuring that the dataset is clean and consistent. Proper handling of missing data helps maintain the accuracy, reliability, and interpretability of data analysis and ensures that insights or predictions are based on valid information."
      ],
      "metadata": {
        "id": "gNYN9Z7K4gBt"
      }
    },
    {
      "cell_type": "markdown",
      "source": [
        "**14. What are the benefits of using Plotly for data visualization?**\n",
        "\n",
        "\n",
        "Plotly offers several benefits for data visualization, making it a popular choice in data analysis and reporting. One of the main advantages is its ability to create interactive visualizations, where users can zoom, pan, hover, and filter data directly in the chart, making insights easier to explore. It supports a wide range of charts, from basic plots like line and bar charts to advanced visualizations such as 3D plots, choropleth maps, and network graphs. Plotly integrates seamlessly with Python, R, Julia, and JavaScript, and works well in Jupyter notebooks, web apps (via Dash), and dashboards, making it versatile across different platforms. Another benefit is its aesthetically pleasing and professional-looking default styles, which save time on customization. Since it’s built with web technologies, Plotly is especially useful for creating presentation-ready, shareable, and interactive dashboards, which are highly valued in business analytics and data storytelling."
      ],
      "metadata": {
        "id": "ofB7umpp4v1P"
      }
    },
    {
      "cell_type": "markdown",
      "source": [
        "**15. How does NumPy handle multidimensional arrays?**\n",
        "\n",
        "NumPy supports n-dimensional arrays (ndarrays), which allow for efficient storage and operations on multi dimensional data. Operations like slicing, reshaping, and broadcasting are supported, enabling complex mathematical computations across dimensions.\n",
        "\n"
      ],
      "metadata": {
        "id": "UXHNTtKn48G6"
      }
    },
    {
      "cell_type": "markdown",
      "source": [
        "**16. What is the role of Bokeh in data visualization?**\n",
        "\n",
        "\n",
        "Bokeh is a powerful Python library used for creating interactive, web-ready visualizations that can handle large and streaming datasets efficiently. Its main role is to enable developers and data scientists to build rich, interactive dashboards and plots that can be easily embedded into web applications. Unlike static visualization libraries like Matplotlib, Bokeh leverages modern web technologies (HTML, CSS, JavaScript) to provide features such as zooming, panning, tooltips, and real-time updates. It supports a wide variety of charts including line, bar, scatter, heatmaps, and even complex layouts with multiple linked plots. Bokeh is especially useful when visualizations need to be shared with non-technical users via browsers or integrated into web apps without requiring them to install additional tools. In short, Bokeh’s role is to bridge the gap between interactive data visualization and web deployment, making it ideal for dashboards, reports, and big data exploration."
      ],
      "metadata": {
        "id": "s5zgEwVY7XHA"
      }
    },
    {
      "cell_type": "markdown",
      "source": [
        "**17. Explain the difference between apply() and map() in Pandas?**\n",
        "\n",
        "apply() is used for applying a function along an axis (rows or columns) of a DataFrame or Series, while map() is specific to Series for element-wise operations. For example apply() is useful for row-wise calculations, whereas map() is better for transforming individual elements.\n"
      ],
      "metadata": {
        "id": "85sWHlCH7sbd"
      }
    },
    {
      "cell_type": "markdown",
      "source": [
        "**18. What are some advanced features of NumPy?**\n",
        "\n",
        "Broadcasting: Perform operations on arrays of different shapes without explicit loops.\n",
        "\n",
        "Vectorization: Speed up operations by avoiding Python loops.\n",
        "Masked arrays: Handle missing or invalid data.\n",
        "\n",
        "Memory mapping: Work with large datasets without loading them fully into memory.\n",
        "\n",
        "Structured arrays: Store complex records with mixed data types.\n",
        "Advanced indexing & slicing: Powerful ways to access and modify data.\n",
        "\n",
        "Universal functions (ufuncs): Fast element-wise operations, with support for custom ufuncs.\n",
        "\n",
        "Linear algebra: Built-in support for matrix operations, eigenvalues, decompositions.\n"
      ],
      "metadata": {
        "id": "tQ3KVj7N9Nhc"
      }
    },
    {
      "cell_type": "markdown",
      "source": [
        "**19. How does Pandas simplify time series analysis?**\n",
        "\n",
        "Pandas simplifies time series analysis by providing specialized data structures and functions that make working with dates and times both intuitive and efficient. It allows you to easily create DateTimeIndex objects, which enable powerful indexing, slicing, and resampling of time-based data. With Pandas, you can perform operations such as shifting, rolling windows, frequency conversion (e.g., daily to monthly), and handling of missing time values with just a few commands. It also supports automatic alignment of data on time indices, making it straightforward to compare and merge datasets with different time frequencies. Additionally, Pandas offers convenient parsing of strings into datetime objects and integrates seamlessly with plotting libraries for quick visualization of trends. These features make it a go-to library for financial analysis, forecasting, and any domain where time-dependent data is central.\n"
      ],
      "metadata": {
        "id": "XLBGzEXt9lkv"
      }
    },
    {
      "cell_type": "markdown",
      "source": [
        "**20. What is the role of a pivot table in Pandas?**\n",
        "\n",
        "A pivot table in pandas is a way of summarizing and aggregating data in a DataFrame, especially when you have multiple dimensions or categorical variables. It allows you to reshape and transform your data, making it easier to analyze and gain insights"
      ],
      "metadata": {
        "id": "FzOwTTgU909C"
      }
    },
    {
      "cell_type": "markdown",
      "source": [
        "**21. Why is NumPy’s array slicing faster than Python’s list slicing?**\n",
        "\n",
        "\n",
        "NumPy’s array slicing is faster than Python’s list slicing because of how data is stored and accessed in memory. Python lists are collections of references to objects, meaning that when you slice a list, Python has to create a new list and copy references to each element, which makes the operation slower and less memory-efficient. In contrast, NumPy arrays store elements of the same data type in a contiguous block of memory, enabling highly efficient access through pointer arithmetic. When you slice a NumPy array, it doesn’t copy the data; instead, it creates a view (a new object pointing to the same memory). This means slicing is much faster and uses less memory. These low-level optimizations, written in C, make NumPy array operations far more efficient than Python lists, especially for large datasets used in scientific computing and data analysis."
      ],
      "metadata": {
        "id": "CCAkASVnAGBz"
      }
    },
    {
      "cell_type": "markdown",
      "source": [
        "**22. What are some common use cases for Seaborn?**\n",
        "\n",
        "Statistical plots: Visualize distributions (e.g., histograms, KDEs) and relationships (e.g., scatter, pairplots).\n",
        "\n",
        "Categorical plots: Create box plots, bar plots, violin plots to compare categorical data.\n",
        "\n",
        "Correlation heatmaps: Visualize correlation matrices.\n",
        "Regression plots: Fit and visualize regression lines (e.g., lmplot, regplot).\n",
        "\n",
        "Multi-plot grids: Combine multiple plots with FacetGrid or PairGrid"
      ],
      "metadata": {
        "id": "ZuFYOuREA6lU"
      }
    },
    {
      "cell_type": "markdown",
      "source": [
        "#Data Toolkit Practical Questions\n"
      ],
      "metadata": {
        "id": "r1CUXFtKBHpX"
      }
    },
    {
      "cell_type": "code",
      "source": [
        "# 1. How do you create a 2D NumPy array and calculate the sum of each row.\n",
        "\n",
        "import numpy as np\n",
        "\n",
        "array = np.array ([[1, 2, 3], [4, 5, 6], [7, 8, 9]])\n",
        "row_sums = array.sum(axis =1)\n",
        "\n",
        "print(\"Array:\")\n",
        "print(array)\n",
        "\n",
        "print(\"sum of each row:\")\n",
        "print(row_sums)\n",
        "\n"
      ],
      "metadata": {
        "colab": {
          "base_uri": "https://localhost:8080/"
        },
        "id": "PwpdWXDdBPug",
        "outputId": "4ff81e9b-7ee6-47e0-9395-3ba8cf1ea1a8"
      },
      "execution_count": null,
      "outputs": [
        {
          "output_type": "stream",
          "name": "stdout",
          "text": [
            "Array:\n",
            "[[1 2 3]\n",
            " [4 5 6]\n",
            " [7 8 9]]\n",
            "sum of each row:\n",
            "[ 6 15 24]\n"
          ]
        }
      ]
    },
    {
      "cell_type": "code",
      "source": [
        "# 2. Write a Pandas script to find the mean of a specific column in a DataFrame.\n",
        "\n",
        "import pandas as pd\n",
        "data ={\n",
        "     'Name':['Ankit', 'Naina','Abhishek'],\n",
        "     'Age' :[24, 25, 18 ],\n",
        "     'Salaray': [500000, 600000, 700000]\n",
        " }\n",
        "df= pd.DataFrame(data)\n",
        "mean_age = df ['Age'].mean()\n",
        "print(\"mean age:\",mean_age)"
      ],
      "metadata": {
        "colab": {
          "base_uri": "https://localhost:8080/"
        },
        "id": "OWngdOKRCW2V",
        "outputId": "99733bda-9cc1-4f75-857e-c59dad779841"
      },
      "execution_count": null,
      "outputs": [
        {
          "output_type": "stream",
          "name": "stdout",
          "text": [
            "mean age: 22.333333333333332\n"
          ]
        }
      ]
    },
    {
      "cell_type": "code",
      "source": [
        "# 3. Create a scatter plot using Matplotlib.\n",
        "\n",
        "import matplotlib.pyplot as plt\n",
        "\n",
        "x = [1, 2, 3, 4, 5]\n",
        "y = [2, 4, 5, 4, 5]\n",
        "\n",
        "plt.scatter(x, y)\n",
        "plt.xlabel('X-axis')\n",
        "plt.ylabel('Y-axis')\n",
        "plt.title('Scatter Plot')\n",
        "\n",
        "plt.show()"
      ],
      "metadata": {
        "colab": {
          "base_uri": "https://localhost:8080/",
          "height": 472
        },
        "id": "a8ZUFEMaDqAH",
        "outputId": "07520bcb-4a2c-4ce4-a71f-502882f5c220"
      },
      "execution_count": null,
      "outputs": [
        {
          "output_type": "display_data",
          "data": {
            "text/plain": [
              "<Figure size 640x480 with 1 Axes>"
            ],
            "image/png": "[encoded data removed]"
          },
          "metadata": {}
        }
      ]
    },
    {
      "cell_type": "code",
      "source": [
        "# 4. How do you calculate the correlation matrix using Seaborn and visualize it with a heatmap.\n",
        "\n",
        "import pandas as pd\n",
        "import seaborn as sns\n",
        "import matplotlib.pyplot as plt\n",
        "\n",
        "data = {\n",
        "    'A': [1, 2, 3, 4, 5],\n",
        "    'B' : [5, 4, 2, 3, 1],\n",
        "    'C': [2, 3, 4, 6, 8],\n",
        "}\n",
        "df = pd.DataFrame(data)\n",
        "\n",
        "corr = df.corr()\n",
        "\n",
        "sns.heatmap(corr, annot= True, cmap ='coolwarm')\n",
        "plt.title('Correlation Matrix Heatmap')\n",
        "plt.show()"
      ],
      "metadata": {
        "colab": {
          "base_uri": "https://localhost:8080/",
          "height": 452
        },
        "id": "N9xyvdPwEUH-",
        "outputId": "b9b19d41-672a-4f46-afe1-8b072b2a00d7"
      },
      "execution_count": null,
      "outputs": [
        {
          "output_type": "display_data",
          "data": {
            "text/plain": [
              "<Figure size 640x480 with 2 Axes>"
            ],
            "image/png": "[encoded data removed]"
          },
          "metadata": {}
        }
      ]
    },
    {
      "cell_type": "code",
      "source": [
        "# 5. Generate a bar plot using Plotly.\n",
        "\n",
        "import plotly.express as px\n",
        "import pandas as pd\n",
        "\n",
        "data = {\n",
        "    \"Category\": [\"A\", \"B\", \"C\", \"D\"],\n",
        "    \"Values\": [23, 45, 12, 34]\n",
        "}\n",
        "\n",
        "df = pd.DataFrame(data)\n",
        "\n",
        "\n",
        "fig = px.bar(df, x=\"Category\", y=\"Values\", title=\"Simple Bar Plot using Plotly\",\n",
        "             color=\"Category\", text=\"Values\")\n",
        "\n",
        "\n",
        "fig.show()\n"
      ],
      "metadata": {
        "colab": {
          "base_uri": "https://localhost:8080/",
          "height": 542
        },
        "id": "3-Vdg1o-GUQj",
        "outputId": "f3c92a3d-06eb-45d0-e90b-6b77a752de09"
      },
      "execution_count": null,
      "outputs": [
        {
          "output_type": "display_data",
          "data": {
            "text/html": [
              "<html>\n",
              "<head><meta charset=\"utf-8\" /></head>\n",
              "<body>\n",
              "    <div>            <script src=\"https://cdnjs.cloudflare.com/ajax/libs/mathjax/2.7.5/MathJax.js?config=TeX-AMS-MML_SVG\"></script><script type=\"text/javascript\">if (window.MathJax && window.MathJax.Hub && window.MathJax.Hub.Config) {window.MathJax.Hub.Config({SVG: {font: \"STIX-Web\"}});}</script>                <script type=\"text/javascript\">window.PlotlyConfig = {MathJaxConfig: 'local'};</script>\n",
              "        <script charset=\"utf-8\" src=\"https://cdn.plot.ly/plotly-2.35.2.min.js\"></script>                <div id=\"d2803942-66c5-4223-a531-f63cb5971f9a\" class=\"plotly-graph-div\" style=\"height:525px; width:100%;\"></div>            <script type=\"text/javascript\">                                    window.PLOTLYENV=window.PLOTLYENV || {};                                    if (document.getElementById(\"d2803942-66c5-4223-a531-f63cb5971f9a\")) {                    Plotly.newPlot(                        \"d2803942-66c5-4223-a531-f63cb5971f9a\",                        [{\"alignmentgroup\":\"True\",\"hovertemplate\":\"Category=%{x}\\u003cbr\\u003eValues=%{text}\\u003cextra\\u003e\\u003c\\u002fextra\\u003e\",\"legendgroup\":\"A\",\"marker\":{\"color\":\"#636efa\",\"pattern\":{\"shape\":\"\"}},\"name\":\"A\",\"offsetgroup\":\"A\",\"orientation\":\"v\",\"showlegend\":true,\"text\":[23.0],\"textposition\":\"auto\",\"x\":[\"A\"],\"xaxis\":\"x\",\"y\":[23],\"yaxis\":\"y\",\"type\":\"bar\"},{\"alignmentgroup\":\"True\",\"hovertemplate\":\"Category=%{x}\\u003cbr\\u003eValues=%{text}\\u003cextra\\u003e\\u003c\\u002fextra\\u003e\",\"legendgroup\":\"B\",\"marker\":{\"color\":\"#EF553B\",\"pattern\":{\"shape\":\"\"}},\"name\":\"B\",\"offsetgroup\":\"B\",\"orientation\":\"v\",\"showlegend\":true,\"text\":[45.0],\"textposition\":\"auto\",\"x\":[\"B\"],\"xaxis\":\"x\",\"y\":[45],\"yaxis\":\"y\",\"type\":\"bar\"},{\"alignmentgroup\":\"True\",\"hovertemplate\":\"Category=%{x}\\u003cbr\\u003eValues=%{text}\\u003cextra\\u003e\\u003c\\u002fextra\\u003e\",\"legendgroup\":\"C\",\"marker\":{\"color\":\"#00cc96\",\"pattern\":{\"shape\":\"\"}},\"name\":\"C\",\"offsetgroup\":\"C\",\"orientation\":\"v\",\"showlegend\":true,\"text\":[12.0],\"textposition\":\"auto\",\"x\":[\"C\"],\"xaxis\":\"x\",\"y\":[12],\"yaxis\":\"y\",\"type\":\"bar\"},{\"alignmentgroup\":\"True\",\"hovertemplate\":\"Category=%{x}\\u003cbr\\u003eValues=%{text}\\u003cextra\\u003e\\u003c\\u002fextra\\u003e\",\"legendgroup\":\"D\",\"marker\":{\"color\":\"#ab63fa\",\"pattern\":{\"shape\":\"\"}},\"name\":\"D\",\"offsetgroup\":\"D\",\"orientation\":\"v\",\"showlegend\":true,\"text\":[34.0],\"textposition\":\"auto\",\"x\":[\"D\"],\"xaxis\":\"x\",\"y\":[34],\"yaxis\":\"y\",\"type\":\"bar\"}],                        {\"template\":{\"data\":{\"histogram2dcontour\":[{\"type\":\"histogram2dcontour\",\"colorbar\":{\"outlinewidth\":0,\"ticks\":\"\"},\"colorscale\":[[0.0,\"#0d0887\"],[0.1111111111111111,\"#46039f\"],[0.2222222222222222,\"#7201a8\"],[0.3333333333333333,\"#9c179e\"],[0.4444444444444444,\"#bd3786\"],[0.5555555555555556,\"#d8576b\"],[0.6666666666666666,\"#ed7953\"],[0.7777777777777778,\"#fb9f3a\"],[0.8888888888888888,\"#fdca26\"],[1.0,\"#f0f921\"]]}],\"choropleth\":[{\"type\":\"choropleth\",\"colorbar\":{\"outlinewidth\":0,\"ticks\":\"\"}}],\"histogram2d\":[{\"type\":\"histogram2d\",\"colorbar\":{\"outlinewidth\":0,\"ticks\":\"\"},\"colorscale\":[[0.0,\"#0d0887\"],[0.1111111111111111,\"#46039f\"],[0.2222222222222222,\"#7201a8\"],[0.3333333333333333,\"#9c179e\"],[0.4444444444444444,\"#bd3786\"],[0.5555555555555556,\"#d8576b\"],[0.6666666666666666,\"#ed7953\"],[0.7777777777777778,\"#fb9f3a\"],[0.8888888888888888,\"#fdca26\"],[1.0,\"#f0f921\"]]}],\"heatmap\":[{\"type\":\"heatmap\",\"colorbar\":{\"outlinewidth\":0,\"ticks\":\"\"},\"colorscale\":[[0.0,\"#0d0887\"],[0.1111111111111111,\"#46039f\"],[0.2222222222222222,\"#7201a8\"],[0.3333333333333333,\"#9c179e\"],[0.4444444444444444,\"#bd3786\"],[0.5555555555555556,\"#d8576b\"],[0.6666666666666666,\"#ed7953\"],[0.7777777777777778,\"#fb9f3a\"],[0.8888888888888888,\"#fdca26\"],[1.0,\"#f0f921\"]]}],\"heatmapgl\":[{\"type\":\"heatmapgl\",\"colorbar\":{\"outlinewidth\":0,\"ticks\":\"\"},\"colorscale\":[[0.0,\"#0d0887\"],[0.1111111111111111,\"#46039f\"],[0.2222222222222222,\"#7201a8\"],[0.3333333333333333,\"#9c179e\"],[0.4444444444444444,\"#bd3786\"],[0.5555555555555556,\"#d8576b\"],[0.6666666666666666,\"#ed7953\"],[0.7777777777777778,\"#fb9f3a\"],[0.8888888888888888,\"#fdca26\"],[1.0,\"#f0f921\"]]}],\"contourcarpet\":[{\"type\":\"contourcarpet\",\"colorbar\":{\"outlinewidth\":0,\"ticks\":\"\"}}],\"contour\":[{\"type\":\"contour\",\"colorbar\":{\"outlinewidth\":0,\"ticks\":\"\"},\"colorscale\":[[0.0,\"#0d0887\"],[0.1111111111111111,\"#46039f\"],[0.2222222222222222,\"#7201a8\"],[0.3333333333333333,\"#9c179e\"],[0.4444444444444444,\"#bd3786\"],[0.5555555555555556,\"#d8576b\"],[0.6666666666666666,\"#ed7953\"],[0.7777777777777778,\"#fb9f3a\"],[0.8888888888888888,\"#fdca26\"],[1.0,\"#f0f921\"]]}],\"surface\":[{\"type\":\"surface\",\"colorbar\":{\"outlinewidth\":0,\"ticks\":\"\"},\"colorscale\":[[0.0,\"#0d0887\"],[0.1111111111111111,\"#46039f\"],[0.2222222222222222,\"#7201a8\"],[0.3333333333333333,\"#9c179e\"],[0.4444444444444444,\"#bd3786\"],[0.5555555555555556,\"#d8576b\"],[0.6666666666666666,\"#ed7953\"],[0.7777777777777778,\"#fb9f3a\"],[0.8888888888888888,\"#fdca26\"],[1.0,\"#f0f921\"]]}],\"mesh3d\":[{\"type\":\"mesh3d\",\"colorbar\":{\"outlinewidth\":0,\"ticks\":\"\"}}],\"scatter\":[{\"fillpattern\":{\"fillmode\":\"overlay\",\"size\":10,\"solidity\":0.2},\"type\":\"scatter\"}],\"parcoords\":[{\"type\":\"parcoords\",\"line\":{\"colorbar\":{\"outlinewidth\":0,\"ticks\":\"\"}}}],\"scatterpolargl\":[{\"type\":\"scatterpolargl\",\"marker\":{\"colorbar\":{\"outlinewidth\":0,\"ticks\":\"\"}}}],\"bar\":[{\"error_x\":{\"color\":\"#2a3f5f\"},\"error_y\":{\"color\":\"#2a3f5f\"},\"marker\":{\"line\":{\"color\":\"#E5ECF6\",\"width\":0.5},\"pattern\":{\"fillmode\":\"overlay\",\"size\":10,\"solidity\":0.2}},\"type\":\"bar\"}],\"scattergeo\":[{\"type\":\"scattergeo\",\"marker\":{\"colorbar\":{\"outlinewidth\":0,\"ticks\":\"\"}}}],\"scatterpolar\":[{\"type\":\"scatterpolar\",\"marker\":{\"colorbar\":{\"outlinewidth\":0,\"ticks\":\"\"}}}],\"histogram\":[{\"marker\":{\"pattern\":{\"fillmode\":\"overlay\",\"size\":10,\"solidity\":0.2}},\"type\":\"histogram\"}],\"scattergl\":[{\"type\":\"scattergl\",\"marker\":{\"colorbar\":{\"outlinewidth\":0,\"ticks\":\"\"}}}],\"scatter3d\":[{\"type\":\"scatter3d\",\"line\":{\"colorbar\":{\"outlinewidth\":0,\"ticks\":\"\"}},\"marker\":{\"colorbar\":{\"outlinewidth\":0,\"ticks\":\"\"}}}],\"scattermapbox\":[{\"type\":\"scattermapbox\",\"marker\":{\"colorbar\":{\"outlinewidth\":0,\"ticks\":\"\"}}}],\"scatterternary\":[{\"type\":\"scatterternary\",\"marker\":{\"colorbar\":{\"outlinewidth\":0,\"ticks\":\"\"}}}],\"scattercarpet\":[{\"type\":\"scattercarpet\",\"marker\":{\"colorbar\":{\"outlinewidth\":0,\"ticks\":\"\"}}}],\"carpet\":[{\"aaxis\":{\"endlinecolor\":\"#2a3f5f\",\"gridcolor\":\"white\",\"linecolor\":\"white\",\"minorgridcolor\":\"white\",\"startlinecolor\":\"#2a3f5f\"},\"baxis\":{\"endlinecolor\":\"#2a3f5f\",\"gridcolor\":\"white\",\"linecolor\":\"white\",\"minorgridcolor\":\"white\",\"startlinecolor\":\"#2a3f5f\"},\"type\":\"carpet\"}],\"table\":[{\"cells\":{\"fill\":{\"color\":\"#EBF0F8\"},\"line\":{\"color\":\"white\"}},\"header\":{\"fill\":{\"color\":\"#C8D4E3\"},\"line\":{\"color\":\"white\"}},\"type\":\"table\"}],\"barpolar\":[{\"marker\":{\"line\":{\"color\":\"#E5ECF6\",\"width\":0.5},\"pattern\":{\"fillmode\":\"overlay\",\"size\":10,\"solidity\":0.2}},\"type\":\"barpolar\"}],\"pie\":[{\"automargin\":true,\"type\":\"pie\"}]},\"layout\":{\"autotypenumbers\":\"strict\",\"colorway\":[\"#636efa\",\"#EF553B\",\"#00cc96\",\"#ab63fa\",\"#FFA15A\",\"#19d3f3\",\"#FF6692\",\"#B6E880\",\"#FF97FF\",\"#FECB52\"],\"font\":{\"color\":\"#2a3f5f\"},\"hovermode\":\"closest\",\"hoverlabel\":{\"align\":\"left\"},\"paper_bgcolor\":\"white\",\"plot_bgcolor\":\"#E5ECF6\",\"polar\":{\"bgcolor\":\"#E5ECF6\",\"angularaxis\":{\"gridcolor\":\"white\",\"linecolor\":\"white\",\"ticks\":\"\"},\"radialaxis\":{\"gridcolor\":\"white\",\"linecolor\":\"white\",\"ticks\":\"\"}},\"ternary\":{\"bgcolor\":\"#E5ECF6\",\"aaxis\":{\"gridcolor\":\"white\",\"linecolor\":\"white\",\"ticks\":\"\"},\"baxis\":{\"gridcolor\":\"white\",\"linecolor\":\"white\",\"ticks\":\"\"},\"caxis\":{\"gridcolor\":\"white\",\"linecolor\":\"white\",\"ticks\":\"\"}},\"coloraxis\":{\"colorbar\":{\"outlinewidth\":0,\"ticks\":\"\"}},\"colorscale\":{\"sequential\":[[0.0,\"#0d0887\"],[0.1111111111111111,\"#46039f\"],[0.2222222222222222,\"#7201a8\"],[0.3333333333333333,\"#9c179e\"],[0.4444444444444444,\"#bd3786\"],[0.5555555555555556,\"#d8576b\"],[0.6666666666666666,\"#ed7953\"],[0.7777777777777778,\"#fb9f3a\"],[0.8888888888888888,\"#fdca26\"],[1.0,\"#f0f921\"]],\"sequentialminus\":[[0.0,\"#0d0887\"],[0.1111111111111111,\"#46039f\"],[0.2222222222222222,\"#7201a8\"],[0.3333333333333333,\"#9c179e\"],[0.4444444444444444,\"#bd3786\"],[0.5555555555555556,\"#d8576b\"],[0.6666666666666666,\"#ed7953\"],[0.7777777777777778,\"#fb9f3a\"],[0.8888888888888888,\"#fdca26\"],[1.0,\"#f0f921\"]],\"diverging\":[[0,\"#8e0152\"],[0.1,\"#c51b7d\"],[0.2,\"#de77ae\"],[0.3,\"#f1b6da\"],[0.4,\"#fde0ef\"],[0.5,\"#f7f7f7\"],[0.6,\"#e6f5d0\"],[0.7,\"#b8e186\"],[0.8,\"#7fbc41\"],[0.9,\"#4d9221\"],[1,\"#276419\"]]},\"xaxis\":{\"gridcolor\":\"white\",\"linecolor\":\"white\",\"ticks\":\"\",\"title\":{\"standoff\":15},\"zerolinecolor\":\"white\",\"automargin\":true,\"zerolinewidth\":2},\"yaxis\":{\"gridcolor\":\"white\",\"linecolor\":\"white\",\"ticks\":\"\",\"title\":{\"standoff\":15},\"zerolinecolor\":\"white\",\"automargin\":true,\"zerolinewidth\":2},\"scene\":{\"xaxis\":{\"backgroundcolor\":\"#E5ECF6\",\"gridcolor\":\"white\",\"linecolor\":\"white\",\"showbackground\":true,\"ticks\":\"\",\"zerolinecolor\":\"white\",\"gridwidth\":2},\"yaxis\":{\"backgroundcolor\":\"#E5ECF6\",\"gridcolor\":\"white\",\"linecolor\":\"white\",\"showbackground\":true,\"ticks\":\"\",\"zerolinecolor\":\"white\",\"gridwidth\":2},\"zaxis\":{\"backgroundcolor\":\"#E5ECF6\",\"gridcolor\":\"white\",\"linecolor\":\"white\",\"showbackground\":true,\"ticks\":\"\",\"zerolinecolor\":\"white\",\"gridwidth\":2}},\"shapedefaults\":{\"line\":{\"color\":\"#2a3f5f\"}},\"annotationdefaults\":{\"arrowcolor\":\"#2a3f5f\",\"arrowhead\":0,\"arrowwidth\":1},\"geo\":{\"bgcolor\":\"white\",\"landcolor\":\"#E5ECF6\",\"subunitcolor\":\"white\",\"showland\":true,\"showlakes\":true,\"lakecolor\":\"white\"},\"title\":{\"x\":0.05},\"mapbox\":{\"style\":\"light\"}}},\"xaxis\":{\"anchor\":\"y\",\"domain\":[0.0,1.0],\"title\":{\"text\":\"Category\"},\"categoryorder\":\"array\",\"categoryarray\":[\"A\",\"B\",\"C\",\"D\"]},\"yaxis\":{\"anchor\":\"x\",\"domain\":[0.0,1.0],\"title\":{\"text\":\"Values\"}},\"legend\":{\"title\":{\"text\":\"Category\"},\"tracegroupgap\":0},\"title\":{\"text\":\"Simple Bar Plot using Plotly\"},\"barmode\":\"relative\"},                        {\"responsive\": true}                    ).then(function(){\n",
              "                            \n",
              "var gd = document.getElementById('d2803942-66c5-4223-a531-f63cb5971f9a');\n",
              "var x = new MutationObserver(function (mutations, observer) {{\n",
              "        var display = window.getComputedStyle(gd).display;\n",
              "        if (!display || display === 'none') {{\n",
              "            console.log([gd, 'removed!']);\n",
              "            Plotly.purge(gd);\n",
              "            observer.disconnect();\n",
              "        }}\n",
              "}});\n",
              "\n",
              "// Listen for the removal of the full notebook cells\n",
              "var notebookContainer = gd.closest('#notebook-container');\n",
              "if (notebookContainer) {{\n",
              "    x.observe(notebookContainer, {childList: true});\n",
              "}}\n",
              "\n",
              "// Listen for the clearing of the current output cell\n",
              "var outputEl = gd.closest('.output');\n",
              "if (outputEl) {{\n",
              "    x.observe(outputEl, {childList: true});\n",
              "}}\n",
              "\n",
              "                        })                };                            </script>        </div>\n",
              "</body>\n",
              "</html>"
            ]
          },
          "metadata": {}
        }
      ]
    },
    {
      "cell_type": "code",
      "source": [
        "# 6. Create a DataFrame and add a new column based on an existing column.\n",
        "\n",
        "import pandas as pd\n",
        "\n",
        "data = {\n",
        "     'Product': ['A', 'B', 'C', 'D'],\n",
        "    'Revenue': [500, 800, 600, 1200],\n",
        "    'Cost': [300, 450, 350, 700]\n",
        "}\n",
        "df = pd.DataFrame(data)\n",
        "\n",
        "df['Profit'] = df['Revenue'] - df['Cost']\n",
        "print(df)\n",
        "\n"
      ],
      "metadata": {
        "colab": {
          "base_uri": "https://localhost:8080/"
        },
        "id": "hIAOebJkHK8p",
        "outputId": "aedb4b2f-f5ad-462f-dcae-86e50a6135b9"
      },
      "execution_count": null,
      "outputs": [
        {
          "output_type": "stream",
          "name": "stdout",
          "text": [
            "  Product  Revenue  Cost  Profit\n",
            "0       A      500   300     200\n",
            "1       B      800   450     350\n",
            "2       C      600   350     250\n",
            "3       D     1200   700     500\n"
          ]
        }
      ]
    },
    {
      "cell_type": "code",
      "source": [
        "# 7. Write a program to perform element-wise multiplication of two NumPy arrays.\n",
        "\n",
        "import numpy as np\n",
        "\n",
        "array1 = np.array([1, 2, 3, 4])\n",
        "array2 = np.array([5, 6, 7, 8])\n",
        "\n",
        "result = array1 * array2\n",
        "\n",
        "print('Array 1:', array1)\n",
        "print('Array 2:', array2)\n",
        "print(\"Element-wise multiplication result:\",result)\n"
      ],
      "metadata": {
        "colab": {
          "base_uri": "https://localhost:8080/"
        },
        "id": "4IrdmjzTHwf6",
        "outputId": "e17c5085-1b61-4290-91f0-329b28751488"
      },
      "execution_count": null,
      "outputs": [
        {
          "output_type": "stream",
          "name": "stdout",
          "text": [
            "Array 1: [1 2 3 4]\n",
            "Array 2: [5 6 7 8]\n",
            "Element-wise multiplication result: [ 5 12 21 32]\n"
          ]
        }
      ]
    },
    {
      "cell_type": "code",
      "source": [
        "# 8. Create a line plot with multiple lines using Matplotlib.\n",
        "\n",
        "import matplotlib.pyplot as plt\n",
        "\n",
        "x = [1, 2, 3, 4, 5]\n",
        "y1 =[1, 4, 9, 16, 25]\n",
        "y2 =[1, 2, 3, 4, 5]\n",
        "\n",
        "plt.plot(x, y1, label ='y= x^2', color='b', marker='o')\n",
        "plt.plot(x, y2, label='y= x', color='r', marker='s')\n",
        "\n",
        "plt.xlabel('X-axis')\n",
        "plt.ylabel(\"Y-axis\")\n",
        "plt.title('Multiple lines on a Line Plot')\n",
        "\n",
        "plt.legend()\n",
        "\n",
        "plt.show()"
      ],
      "metadata": {
        "colab": {
          "base_uri": "https://localhost:8080/",
          "height": 472
        },
        "id": "9TAoRX5lyQw_",
        "outputId": "0f9b3213-97fe-427a-c73e-fd0f97230850"
      },
      "execution_count": null,
      "outputs": [
        {
          "output_type": "display_data",
          "data": {
            "text/plain": [
              "<Figure size 640x480 with 1 Axes>"
            ],
            "image/png": "[encoded data removed]"
          },
          "metadata": {}
        }
      ]
    },
    {
      "cell_type": "code",
      "source": [
        "# 9. Generate a Pandas DataFrame and filter rows where a column value is greater than a threshold.\n",
        "\n",
        "import pandas as pd\n",
        "\n",
        "data = {\n",
        "    'Name':['Ankit', 'Aksah', 'Rahul', 'Uttam', 'Manish'],\n",
        "    'Age':[24, 23, 18, 22, 22],\n",
        "    'Salary':[500000, 600000, 550000, 800000, 400000,]\n",
        "}\n",
        "\n",
        "df = pd.DataFrame(data)\n",
        "\n",
        "threshold = 600000\n",
        "\n",
        "filtered_df = df[df['Salary']>threshold]\n",
        "\n",
        "print(\"Filtered DataFrame:\")\n",
        "print(filtered_df)"
      ],
      "metadata": {
        "colab": {
          "base_uri": "https://localhost:8080/"
        },
        "id": "CkNB71600fpu",
        "outputId": "33f0c974-117c-48d2-fd22-9557d5e7f935"
      },
      "execution_count": null,
      "outputs": [
        {
          "output_type": "stream",
          "name": "stdout",
          "text": [
            "Filtered DataFrame:\n",
            "    Name  Age  Salary\n",
            "3  Uttam   22  800000\n"
          ]
        }
      ]
    },
    {
      "cell_type": "code",
      "source": [
        "# 10. Create a histogram using Seaborn to visualize a distribution.\n",
        "\n",
        "import seaborn as sns\n",
        "import matplotlib.pyplot as plt\n",
        "\n",
        "data = [22, 25, 29, 30, 35, 40, 42, 45, 50, 52, 55, 60, 70, 72, 75, 80]\n",
        "\n",
        "sns.histplot(data, kde= True, bins=10, color='skyblue')\n",
        "\n",
        "plt.xlabel('Age')\n",
        "plt.ylabel('Frequency')\n",
        "plt.title('Age Distribution Histogram')\n",
        "\n",
        "plt.show()\n"
      ],
      "metadata": {
        "colab": {
          "base_uri": "https://localhost:8080/",
          "height": 472
        },
        "id": "aq5W5c2u2Oq6",
        "outputId": "dd71d11f-ec22-48e5-bf2b-b96247959cd1"
      },
      "execution_count": null,
      "outputs": [
        {
          "output_type": "display_data",
          "data": {
            "text/plain": [
              "<Figure size 640x480 with 1 Axes>"
            ],
            "image/png": "[encoded data removed]"
          },
          "metadata": {}
        }
      ]
    },
    {
      "cell_type": "code",
      "source": [
        "#11. Perform matrix multiplication using NumPy.\n",
        "\n",
        "import numpy as np\n",
        "\n",
        "A = np.array([[1, 2],[3, 4]])\n",
        "B = np.array([[5,6],[7, 8]])\n",
        "\n",
        "result = np.dot(A, B)\n",
        "\n",
        "print(\"Matrix A:\")\n",
        "print(A)\n",
        "\n",
        "\n",
        "print(\"Matrix B:\")\n",
        "print(B)\n",
        "\n",
        "print(\"Matrix multiplication result:\")\n",
        "print(result)"
      ],
      "metadata": {
        "colab": {
          "base_uri": "https://localhost:8080/"
        },
        "id": "nRJ69fH64TkC",
        "outputId": "58b52854-1519-40a0-fdcf-209f03e6b93f"
      },
      "execution_count": null,
      "outputs": [
        {
          "output_type": "stream",
          "name": "stdout",
          "text": [
            "Matrix A:\n",
            "[[1 2]\n",
            " [3 4]]\n",
            "Matrix B:\n",
            "[[5 6]\n",
            " [7 8]]\n",
            "Matrix multiplication result:\n",
            "[[19 22]\n",
            " [43 50]]\n"
          ]
        }
      ]
    },
    {
      "cell_type": "code",
      "source": [
        "\n",
        "# 12. Use Pandas to load a CSV file and display its first 5 rows.\n",
        "\n",
        "from google.colab import files\n",
        "uploaded = files.upload()\n",
        "import pandas as pd\n",
        "\n",
        "filename = list(uploaded.keys())[0]\n",
        "df = pd.read_csv(filename)\n",
        "print(df.head())"
      ],
      "metadata": {
        "id": "wnVZQxdnCfXm"
      },
      "execution_count": 7,
      "outputs": []
    },
    {
      "cell_type": "code",
      "source": [
        "# 13. Create a 3D scatter plot using Plotly.\n",
        "\n",
        "import plotly.express as px\n",
        "import pandas as pd\n",
        "import numpy as np\n",
        "\n",
        "# Generate random 3D data\n",
        "np.random.seed(42)  # For reproducibility\n",
        "\n",
        "n = 100  # Number of points\n",
        "\n",
        "x = np.random.rand(n) * 100  # x coordinates\n",
        "y = np.random.rand(n) * 100  # y coordinates\n",
        "z = np.random.rand(n) * 100  # z coordinates\n",
        "\n",
        "clusters = np.random.choice(['Cluster A', 'Cluster B', 'Cluster C'], size=n)\n",
        "\n",
        "df = pd.DataFrame({'x': x, 'y': y, 'z': z, 'Cluster': clusters})\n",
        "\n",
        "fig = px.scatter_3d(df, x='x', y='y', z='z', color='Cluster', title=\"3D Scatter Plot with Clusters\")\n",
        "\n",
        "fig.update_layout(\n",
        "    scene = dict(\n",
        "        xaxis_title='X Axis',\n",
        "        yaxis_title='Y Axis',\n",
        "        zaxis_title='Z Axis'\n",
        "    ),\n",
        "    margin=dict(r=0, l=0, b=0, t=40)\n",
        ")\n",
        "\n",
        "fig.show()\n",
        "\n"
      ],
      "metadata": {
        "colab": {
          "base_uri": "https://localhost:8080/",
          "height": 542
        },
        "id": "198g74VHDHho",
        "outputId": "195bfe5d-017e-4e9e-e766-44524e8c07e0"
      },
      "execution_count": 8,
      "outputs": [
        {
          "output_type": "display_data",
          "data": {
            "text/html": [
              "<html>\n",
              "<head><meta charset=\"utf-8\" /></head>\n",
              "<body>\n",
              "    <div>            <script src=\"https://cdnjs.cloudflare.com/ajax/libs/mathjax/2.7.5/MathJax.js?config=TeX-AMS-MML_SVG\"></script><script type=\"text/javascript\">if (window.MathJax && window.MathJax.Hub && window.MathJax.Hub.Config) {window.MathJax.Hub.Config({SVG: {font: \"STIX-Web\"}});}</script>                <script type=\"text/javascript\">window.PlotlyConfig = {MathJaxConfig: 'local'};</script>\n",
              "        <script charset=\"utf-8\" src=\"https://cdn.plot.ly/plotly-2.35.2.min.js\"></script>                <div id=\"35f4a9d0-68b0-41d3-a93b-af146bcd9d82\" class=\"plotly-graph-div\" style=\"height:525px; width:100%;\"></div>            <script type=\"text/javascript\">                                    window.PLOTLYENV=window.PLOTLYENV || {};                                    if (document.getElementById(\"35f4a9d0-68b0-41d3-a93b-af146bcd9d82\")) {                    Plotly.newPlot(                        \"35f4a9d0-68b0-41d3-a93b-af146bcd9d82\",                        [{\"hovertemplate\":\"Cluster=Cluster A\\u003cbr\\u003ex=%{x}\\u003cbr\\u003ey=%{y}\\u003cbr\\u003ez=%{z}\\u003cextra\\u003e\\u003c\\u002fextra\\u003e\",\"legendgroup\":\"Cluster A\",\"marker\":{\"color\":\"#636efa\",\"symbol\":\"circle\"},\"mode\":\"markers\",\"name\":\"Cluster A\",\"scene\":\"scene\",\"showlegend\":true,\"x\":[37.454011884736246,15.599452033620265,2.0584494295802447,30.42422429595377,43.194501864211574,29.214464853521815,36.63618432936917,45.606998421703594,51.42344384136116,6.505159298527952,94.88855372533332,96.56320330745594,80.83973481164611,30.46137691733707,44.01524937396013,49.51769101112702,31.171107608941096,54.67102793432797,18.485445552552704,77.51328233611146,89.48273504276489,19.59828624191452,38.8677289689482,82.87375091519293,54.26960831582485,77.22447692966574,7.4044651734090365,35.84657285442726,11.586905952512971,33.08980248526492,72.96061783380641,63.75574713552131,88.72127425763266,71.3244787222995,56.127719756949624,77.0967179954561,42.75410183585496,2.541912674409519],\"y\":[3.142918568673425,24.929222914887493,28.9751452913768,80.36720768991145,89.25589984899777,31.800347497186387,11.005192452767677,22.793516254194166,86.07305832563435,11.98653673336828,33.7615171403628,94.29097039125192,32.320293202075526,51.87906217433661,97.17820827209607,25.178229582536417,60.956433397989684,5.147875124998935,27.864646423661142,23.95618906669724,48.9452760277563,76.16196153287176,36.77831327192532,63.35297107608947,83.5302495589238,67.75643618422824,38.67353463005374,93.67299887367345,13.752094414599325,92.46936182785628,81.72222002012158,55.52008115994623,52.965057835600646,89.72157579533267,63.31014572732679,33.90297910487007,89.71102599525771,88.70864242651173],\"z\":[64.20316461542878,0.9197051616629648,54.87337893665861,32.539969815926774,64.96328990472146,9.367476782809248,36.77158030594335,26.520236768172545,39.30977246667604,57.69038846263591,49.25176938188639,19.52429877980445,72.24521152615053,28.07723624408558,17.711067940704893,95.39285770025873,42.81841483173143,96.36199770892529,85.300945546736,38.50977286019253,31.692200515627768,69.6029796674973,61.500722669916975,14.008401523652402,74.07686177542044,80.93611554785136,64.99639307777652,70.19668772577033,79.57926694361011,37.5582952639944,46.55980181324602,54.26446347075766,28.65412521282844,3.7348188749214417,36.019064141126286,12.706051265188478,21.582102749684317,62.28904758190003],\"type\":\"scatter3d\"},{\"hovertemplate\":\"Cluster=Cluster B\\u003cbr\\u003ex=%{x}\\u003cbr\\u003ey=%{y}\\u003cbr\\u003ez=%{z}\\u003cextra\\u003e\\u003c\\u002fextra\\u003e\",\"legendgroup\":\"Cluster B\",\"marker\":{\"color\":\"#EF553B\",\"symbol\":\"circle\"},\"mode\":\"markers\",\"name\":\"Cluster B\",\"scene\":\"scene\",\"showlegend\":true,\"x\":[95.07143064099162,5.8083612168199465,86.61761457749351,60.11150117432088,21.233911067827616,18.34045098534338,52.475643163223786,29.122914019804192,78.51759613930136,19.967378215835975,4.645041271999773,60.75448519014384,17.052412368729154,12.203823484477883,25.87799816000169,52.00680211778108,96.95846277645586,59.78999788110851,92.18742350231169,8.84925020519195,4.522728891053807,32.53303307632643,35.67533266935893,28.093450968738075,80.21969807540397,7.455064367977082,98.68869366005173,19.87156815341724,81.54614284548342,70.68573438476172,77.12703466859458,62.329812682755794,31.09823217156622,49.379559636439076],\"y\":[63.64104112637804,41.038292303562976,75.55511385430486,22.879816549162246,80.8120379564417,87.14605901877177,18.657005888603585,53.93422419156507,42.71077886262563,81.80147659224932,51.07473025775657,41.7411003148779,22.210781047073024,96.24472949421113,28.484049437746762,50.26790232288615,90.82658859666537,98.56504541106007,24.20552715115004,67.21355474058785,23.763754399239968,72.82163486118596,53.57746840747585,9.02897700544083,18.651851039985424,4.077514155476392,59.08929431882418,1.6587828927856152,22.649577519793795,64.51727904094498,69.09377381024659,11.347352124058908,25.79416277151556,34.92095746126609],\"z\":[8.413996499504883,10.147154286603211,66.35017691080559,0.5061583846218687,22.42693094605598,23.724908749680008,74.64914051180241,84.9223410494178,24.398964337908357,97.30105547524455,63.11386259972629,79.48113035416485,50.26370931051921,94.04585843529144,1.5456616528867428,96.66548190436696,29.444889206958567,16.94927466860925,55.68012624583501,93.6154774160781,57.0061170089365,9.717649377076853,51.832965236373674,87.73730719279554,70.24840839871092,35.94911512197552,29.359184426449335,81.01133946791808,91.32405525564712,51.13423988609378,79.82951789667752,33.79951568515358,57.8280140996174,52.224326005480435],\"type\":\"scatter3d\"},{\"hovertemplate\":\"Cluster=Cluster C\\u003cbr\\u003ex=%{x}\\u003cbr\\u003ey=%{y}\\u003cbr\\u003ez=%{z}\\u003cextra\\u003e\\u003c\\u002fextra\\u003e\",\"legendgroup\":\"Cluster C\",\"marker\":{\"color\":\"#00cc96\",\"symbol\":\"circle\"},\"mode\":\"markers\",\"name\":\"Cluster C\",\"scene\":\"scene\",\"showlegend\":true,\"x\":[73.1993941811405,59.86584841970366,15.601864044243651,70.80725777960456,96.99098521619943,83.24426408004217,18.182496720710063,61.18528947223795,13.949386065204184,59.24145688620425,9.767211400638388,68.42330265121569,3.4388521115218396,90.9320402078782,66.2522284353982,93.9498941564189,27.134903177389592,14.092422497476264,0.5522117123602399,72.90071680409874,86.31034258755935,6.355835028602364,32.518332202674706,47.22149251619493,11.959424593830171,76.07850486168974,52.27328293819941,10.789142699330444],\"y\":[31.435598107632668,50.85706911647028,90.7566473926093,7.697990982879299,16.122128725400444,92.96976523425731,63.34037565104234,80.74401551640625,89.60912999234932,0.6952130531190703,70.30189588951778,36.3629602379294,49.72485058923854,30.087830981676966,3.6886947354532795,14.48948720912231,63.23058305935795,32.07800649717358,51.2093058299281,17.436642900499145,34.10663510502585,87.7339353380981,65.99840460341791,24.18522909004517,9.310276780589922,90.04180571633304,72.59556788702393,77.98755458576238],\"z\":[16.162871409461378,89.85541885270793,60.642905965958995,16.080805141749867,69.18951976926932,65.19612595026005,71.2179221347536,65.76128923003434,56.830860333547164,89.20465551771133,2.431596643145384,64.54722959071678,91.48643902204485,37.01587002554444,92.83185625877253,85.11366715168569,99.00538501042632,69.7015740995268,86.70723185801037,50.15162946871996,89.00053418175663,9.3981939840869,3.5942273796742086,59.08332605690107,3.050024993904943,82.26005606596583,76.99935530986109,8.5347464993768],\"type\":\"scatter3d\"}],                        {\"template\":{\"data\":{\"histogram2dcontour\":[{\"type\":\"histogram2dcontour\",\"colorbar\":{\"outlinewidth\":0,\"ticks\":\"\"},\"colorscale\":[[0.0,\"#0d0887\"],[0.1111111111111111,\"#46039f\"],[0.2222222222222222,\"#7201a8\"],[0.3333333333333333,\"#9c179e\"],[0.4444444444444444,\"#bd3786\"],[0.5555555555555556,\"#d8576b\"],[0.6666666666666666,\"#ed7953\"],[0.7777777777777778,\"#fb9f3a\"],[0.8888888888888888,\"#fdca26\"],[1.0,\"#f0f921\"]]}],\"choropleth\":[{\"type\":\"choropleth\",\"colorbar\":{\"outlinewidth\":0,\"ticks\":\"\"}}],\"histogram2d\":[{\"type\":\"histogram2d\",\"colorbar\":{\"outlinewidth\":0,\"ticks\":\"\"},\"colorscale\":[[0.0,\"#0d0887\"],[0.1111111111111111,\"#46039f\"],[0.2222222222222222,\"#7201a8\"],[0.3333333333333333,\"#9c179e\"],[0.4444444444444444,\"#bd3786\"],[0.5555555555555556,\"#d8576b\"],[0.6666666666666666,\"#ed7953\"],[0.7777777777777778,\"#fb9f3a\"],[0.8888888888888888,\"#fdca26\"],[1.0,\"#f0f921\"]]}],\"heatmap\":[{\"type\":\"heatmap\",\"colorbar\":{\"outlinewidth\":0,\"ticks\":\"\"},\"colorscale\":[[0.0,\"#0d0887\"],[0.1111111111111111,\"#46039f\"],[0.2222222222222222,\"#7201a8\"],[0.3333333333333333,\"#9c179e\"],[0.4444444444444444,\"#bd3786\"],[0.5555555555555556,\"#d8576b\"],[0.6666666666666666,\"#ed7953\"],[0.7777777777777778,\"#fb9f3a\"],[0.8888888888888888,\"#fdca26\"],[1.0,\"#f0f921\"]]}],\"heatmapgl\":[{\"type\":\"heatmapgl\",\"colorbar\":{\"outlinewidth\":0,\"ticks\":\"\"},\"colorscale\":[[0.0,\"#0d0887\"],[0.1111111111111111,\"#46039f\"],[0.2222222222222222,\"#7201a8\"],[0.3333333333333333,\"#9c179e\"],[0.4444444444444444,\"#bd3786\"],[0.5555555555555556,\"#d8576b\"],[0.6666666666666666,\"#ed7953\"],[0.7777777777777778,\"#fb9f3a\"],[0.8888888888888888,\"#fdca26\"],[1.0,\"#f0f921\"]]}],\"contourcarpet\":[{\"type\":\"contourcarpet\",\"colorbar\":{\"outlinewidth\":0,\"ticks\":\"\"}}],\"contour\":[{\"type\":\"contour\",\"colorbar\":{\"outlinewidth\":0,\"ticks\":\"\"},\"colorscale\":[[0.0,\"#0d0887\"],[0.1111111111111111,\"#46039f\"],[0.2222222222222222,\"#7201a8\"],[0.3333333333333333,\"#9c179e\"],[0.4444444444444444,\"#bd3786\"],[0.5555555555555556,\"#d8576b\"],[0.6666666666666666,\"#ed7953\"],[0.7777777777777778,\"#fb9f3a\"],[0.8888888888888888,\"#fdca26\"],[1.0,\"#f0f921\"]]}],\"surface\":[{\"type\":\"surface\",\"colorbar\":{\"outlinewidth\":0,\"ticks\":\"\"},\"colorscale\":[[0.0,\"#0d0887\"],[0.1111111111111111,\"#46039f\"],[0.2222222222222222,\"#7201a8\"],[0.3333333333333333,\"#9c179e\"],[0.4444444444444444,\"#bd3786\"],[0.5555555555555556,\"#d8576b\"],[0.6666666666666666,\"#ed7953\"],[0.7777777777777778,\"#fb9f3a\"],[0.8888888888888888,\"#fdca26\"],[1.0,\"#f0f921\"]]}],\"mesh3d\":[{\"type\":\"mesh3d\",\"colorbar\":{\"outlinewidth\":0,\"ticks\":\"\"}}],\"scatter\":[{\"fillpattern\":{\"fillmode\":\"overlay\",\"size\":10,\"solidity\":0.2},\"type\":\"scatter\"}],\"parcoords\":[{\"type\":\"parcoords\",\"line\":{\"colorbar\":{\"outlinewidth\":0,\"ticks\":\"\"}}}],\"scatterpolargl\":[{\"type\":\"scatterpolargl\",\"marker\":{\"colorbar\":{\"outlinewidth\":0,\"ticks\":\"\"}}}],\"bar\":[{\"error_x\":{\"color\":\"#2a3f5f\"},\"error_y\":{\"color\":\"#2a3f5f\"},\"marker\":{\"line\":{\"color\":\"#E5ECF6\",\"width\":0.5},\"pattern\":{\"fillmode\":\"overlay\",\"size\":10,\"solidity\":0.2}},\"type\":\"bar\"}],\"scattergeo\":[{\"type\":\"scattergeo\",\"marker\":{\"colorbar\":{\"outlinewidth\":0,\"ticks\":\"\"}}}],\"scatterpolar\":[{\"type\":\"scatterpolar\",\"marker\":{\"colorbar\":{\"outlinewidth\":0,\"ticks\":\"\"}}}],\"histogram\":[{\"marker\":{\"pattern\":{\"fillmode\":\"overlay\",\"size\":10,\"solidity\":0.2}},\"type\":\"histogram\"}],\"scattergl\":[{\"type\":\"scattergl\",\"marker\":{\"colorbar\":{\"outlinewidth\":0,\"ticks\":\"\"}}}],\"scatter3d\":[{\"type\":\"scatter3d\",\"line\":{\"colorbar\":{\"outlinewidth\":0,\"ticks\":\"\"}},\"marker\":{\"colorbar\":{\"outlinewidth\":0,\"ticks\":\"\"}}}],\"scattermapbox\":[{\"type\":\"scattermapbox\",\"marker\":{\"colorbar\":{\"outlinewidth\":0,\"ticks\":\"\"}}}],\"scatterternary\":[{\"type\":\"scatterternary\",\"marker\":{\"colorbar\":{\"outlinewidth\":0,\"ticks\":\"\"}}}],\"scattercarpet\":[{\"type\":\"scattercarpet\",\"marker\":{\"colorbar\":{\"outlinewidth\":0,\"ticks\":\"\"}}}],\"carpet\":[{\"aaxis\":{\"endlinecolor\":\"#2a3f5f\",\"gridcolor\":\"white\",\"linecolor\":\"white\",\"minorgridcolor\":\"white\",\"startlinecolor\":\"#2a3f5f\"},\"baxis\":{\"endlinecolor\":\"#2a3f5f\",\"gridcolor\":\"white\",\"linecolor\":\"white\",\"minorgridcolor\":\"white\",\"startlinecolor\":\"#2a3f5f\"},\"type\":\"carpet\"}],\"table\":[{\"cells\":{\"fill\":{\"color\":\"#EBF0F8\"},\"line\":{\"color\":\"white\"}},\"header\":{\"fill\":{\"color\":\"#C8D4E3\"},\"line\":{\"color\":\"white\"}},\"type\":\"table\"}],\"barpolar\":[{\"marker\":{\"line\":{\"color\":\"#E5ECF6\",\"width\":0.5},\"pattern\":{\"fillmode\":\"overlay\",\"size\":10,\"solidity\":0.2}},\"type\":\"barpolar\"}],\"pie\":[{\"automargin\":true,\"type\":\"pie\"}]},\"layout\":{\"autotypenumbers\":\"strict\",\"colorway\":[\"#636efa\",\"#EF553B\",\"#00cc96\",\"#ab63fa\",\"#FFA15A\",\"#19d3f3\",\"#FF6692\",\"#B6E880\",\"#FF97FF\",\"#FECB52\"],\"font\":{\"color\":\"#2a3f5f\"},\"hovermode\":\"closest\",\"hoverlabel\":{\"align\":\"left\"},\"paper_bgcolor\":\"white\",\"plot_bgcolor\":\"#E5ECF6\",\"polar\":{\"bgcolor\":\"#E5ECF6\",\"angularaxis\":{\"gridcolor\":\"white\",\"linecolor\":\"white\",\"ticks\":\"\"},\"radialaxis\":{\"gridcolor\":\"white\",\"linecolor\":\"white\",\"ticks\":\"\"}},\"ternary\":{\"bgcolor\":\"#E5ECF6\",\"aaxis\":{\"gridcolor\":\"white\",\"linecolor\":\"white\",\"ticks\":\"\"},\"baxis\":{\"gridcolor\":\"white\",\"linecolor\":\"white\",\"ticks\":\"\"},\"caxis\":{\"gridcolor\":\"white\",\"linecolor\":\"white\",\"ticks\":\"\"}},\"coloraxis\":{\"colorbar\":{\"outlinewidth\":0,\"ticks\":\"\"}},\"colorscale\":{\"sequential\":[[0.0,\"#0d0887\"],[0.1111111111111111,\"#46039f\"],[0.2222222222222222,\"#7201a8\"],[0.3333333333333333,\"#9c179e\"],[0.4444444444444444,\"#bd3786\"],[0.5555555555555556,\"#d8576b\"],[0.6666666666666666,\"#ed7953\"],[0.7777777777777778,\"#fb9f3a\"],[0.8888888888888888,\"#fdca26\"],[1.0,\"#f0f921\"]],\"sequentialminus\":[[0.0,\"#0d0887\"],[0.1111111111111111,\"#46039f\"],[0.2222222222222222,\"#7201a8\"],[0.3333333333333333,\"#9c179e\"],[0.4444444444444444,\"#bd3786\"],[0.5555555555555556,\"#d8576b\"],[0.6666666666666666,\"#ed7953\"],[0.7777777777777778,\"#fb9f3a\"],[0.8888888888888888,\"#fdca26\"],[1.0,\"#f0f921\"]],\"diverging\":[[0,\"#8e0152\"],[0.1,\"#c51b7d\"],[0.2,\"#de77ae\"],[0.3,\"#f1b6da\"],[0.4,\"#fde0ef\"],[0.5,\"#f7f7f7\"],[0.6,\"#e6f5d0\"],[0.7,\"#b8e186\"],[0.8,\"#7fbc41\"],[0.9,\"#4d9221\"],[1,\"#276419\"]]},\"xaxis\":{\"gridcolor\":\"white\",\"linecolor\":\"white\",\"ticks\":\"\",\"title\":{\"standoff\":15},\"zerolinecolor\":\"white\",\"automargin\":true,\"zerolinewidth\":2},\"yaxis\":{\"gridcolor\":\"white\",\"linecolor\":\"white\",\"ticks\":\"\",\"title\":{\"standoff\":15},\"zerolinecolor\":\"white\",\"automargin\":true,\"zerolinewidth\":2},\"scene\":{\"xaxis\":{\"backgroundcolor\":\"#E5ECF6\",\"gridcolor\":\"white\",\"linecolor\":\"white\",\"showbackground\":true,\"ticks\":\"\",\"zerolinecolor\":\"white\",\"gridwidth\":2},\"yaxis\":{\"backgroundcolor\":\"#E5ECF6\",\"gridcolor\":\"white\",\"linecolor\":\"white\",\"showbackground\":true,\"ticks\":\"\",\"zerolinecolor\":\"white\",\"gridwidth\":2},\"zaxis\":{\"backgroundcolor\":\"#E5ECF6\",\"gridcolor\":\"white\",\"linecolor\":\"white\",\"showbackground\":true,\"ticks\":\"\",\"zerolinecolor\":\"white\",\"gridwidth\":2}},\"shapedefaults\":{\"line\":{\"color\":\"#2a3f5f\"}},\"annotationdefaults\":{\"arrowcolor\":\"#2a3f5f\",\"arrowhead\":0,\"arrowwidth\":1},\"geo\":{\"bgcolor\":\"white\",\"landcolor\":\"#E5ECF6\",\"subunitcolor\":\"white\",\"showland\":true,\"showlakes\":true,\"lakecolor\":\"white\"},\"title\":{\"x\":0.05},\"mapbox\":{\"style\":\"light\"}}},\"scene\":{\"domain\":{\"x\":[0.0,1.0],\"y\":[0.0,1.0]},\"xaxis\":{\"title\":{\"text\":\"X Axis\"}},\"yaxis\":{\"title\":{\"text\":\"Y Axis\"}},\"zaxis\":{\"title\":{\"text\":\"Z Axis\"}}},\"legend\":{\"title\":{\"text\":\"Cluster\"},\"tracegroupgap\":0},\"title\":{\"text\":\"3D Scatter Plot with Clusters\"},\"margin\":{\"r\":0,\"l\":0,\"b\":0,\"t\":40}},                        {\"responsive\": true}                    ).then(function(){\n",
              "                            \n",
              "var gd = document.getElementById('35f4a9d0-68b0-41d3-a93b-af146bcd9d82');\n",
              "var x = new MutationObserver(function (mutations, observer) {{\n",
              "        var display = window.getComputedStyle(gd).display;\n",
              "        if (!display || display === 'none') {{\n",
              "            console.log([gd, 'removed!']);\n",
              "            Plotly.purge(gd);\n",
              "            observer.disconnect();\n",
              "        }}\n",
              "}});\n",
              "\n",
              "// Listen for the removal of the full notebook cells\n",
              "var notebookContainer = gd.closest('#notebook-container');\n",
              "if (notebookContainer) {{\n",
              "    x.observe(notebookContainer, {childList: true});\n",
              "}}\n",
              "\n",
              "// Listen for the clearing of the current output cell\n",
              "var outputEl = gd.closest('.output');\n",
              "if (outputEl) {{\n",
              "    x.observe(outputEl, {childList: true});\n",
              "}}\n",
              "\n",
              "                        })                };                            </script>        </div>\n",
              "</body>\n",
              "</html>"
            ]
          },
          "metadata": {}
        }
      ]
    }
  ]
}