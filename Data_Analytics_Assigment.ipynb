{
  "nbformat": 4,
  "nbformat_minor": 0,
  "metadata": {
    "colab": {
      "provenance": [],
      "authorship_tag": "ABX9TyMorctRF14/lgATPmeBNhHa",
      "include_colab_link": true
    },
    "kernelspec": {
      "name": "python3",
      "display_name": "Python 3"
    },
    "language_info": {
      "name": "python"
    }
  },
  "cells": [
    {
      "cell_type": "markdown",
      "metadata": {
        "id": "view-in-github",
        "colab_type": "text"
      },
      "source": [
        "<a href=\"https://colab.research.google.com/github/ankitkush1487/-Asssigment2/blob/master/Data_Analytics_Assigment.ipynb\" target=\"_parent\"><img src=\"https://colab.research.google.com/assets/colab-badge.svg\" alt=\"Open In Colab\"/></a>"
      ]
    },
    {
      "cell_type": "markdown",
      "source": [
        "                       **Python Basics Questions**\n",
        "\n",
        "\n"
      ],
      "metadata": {
        "id": "41-LHap5IqZd"
      }
    },
    {
      "cell_type": "markdown",
      "source": [
        "**1. What is Python, and why is it popular?**\n",
        "\n",
        "Python is a high-level, general-purpose, interpreted programming language developed by Guido van Rossum and released in 1991.\n",
        "1. Easy to Learn and Use\n",
        "Python's syntax is simple, clean, and readable Ideal for beginners and non-programmers.\n",
        "2. Massive Library Support Thousands of pre-built libraries for:\n",
        "Data science (NumPy, Pandas, Matplotlib) AI & Machine Learning (TensorFlow, scikit-learn)Saves time and reduces coding effort.\n",
        "3. Versatile and Flexible Used in many fields:\n",
        "Web development Machine learning & AI Data analysis Game development IoT and embedded systems Automation and scripting\n",
        "4. In-Demand in Jobs\n",
        "Python skills are in high demand in tech companies, especially for roles in:\n",
        "Data science AI/ML Software development Web development\n",
        "5. Cross-Platform Compatibility\n",
        "Python runs on Windows, macOS, Linux, and even Android/iOS (via frameworks).\n",
        "6. Supports Multiple Programming Styles\n",
        "Object-oriented, procedural, and functional programming — all are supported."
      ],
      "metadata": {
        "id": "tjvGGv02d13I"
      }
    },
    {
      "cell_type": "markdown",
      "source": [
        "**2. What is an interpreter in Python?**\n",
        "\n",
        "A Python interpreter is a program that reads and executes Python code. Python is an interpreted language, meaning that it executes code line by line, rather than compiling the entire program into machine code before execution\n",
        "This allows for more flexibility and ease of debugging, as errors can be caught and corrected on the fly."
      ],
      "metadata": {
        "id": "gBoESwleho0p"
      }
    },
    {
      "cell_type": "markdown",
      "source": [
        "**3.What are pre-defined keywords in Python?**\n",
        "\n",
        "Pre-defined keywords in Python are reserved words that have special meaning to the Python interpreter.You cannot use them as variable names, function names, or identifiers.\n",
        "\n",
        "Exmaple: None, break, in, return, True etc.         "
      ],
      "metadata": {
        "id": "oi0RGUbcg6k1"
      }
    },
    {
      "cell_type": "markdown",
      "source": [
        "**4.Can keywords be used as variable names?**\n",
        "\n",
        "Python keywords cannot be used as variable name. If you give a variable an illegal name, you will get a syntax error: 1var is illegal because it begins with a number. all@ is illegal because it contains a special character. class and global is illegal because they are keywords."
      ],
      "metadata": {
        "id": "_kNuiN_2nvps"
      }
    },
    {
      "cell_type": "markdown",
      "source": [
        "**5.What is mutability in Python?**\n",
        "\n",
        "Mutability in Python refers to the ability of an object's state or content to be modified after it has been created. If an object is mutable, its value can be changed in place without creating a new object in memory. Conversely, if an object is immutable, its value cannot be changed after creation; any operation that appears to modify an immutable object actually results in the creation of a new object with the desired changes\n"
      ],
      "metadata": {
        "id": "BSKyVsLso7Nw"
      }
    },
    {
      "cell_type": "markdown",
      "source": [
        "**6.Why are lists mutable, but tuples are immutable?**\n",
        "\n",
        "Tuples are immutable, meaning that once a tuple has been created, you can't replace any of its elements with a new value. Lists are mutable, meaning that you can always change a list's elements. Only immutable elements can be used as dictionary keys, and hence only tuples and not lists can be used as keys."
      ],
      "metadata": {
        "id": "UAjmuuUTqOni"
      }
    },
    {
      "cell_type": "markdown",
      "source": [
        "**7.What is the difference between “==” and “is” operators in Python?**\n",
        "\n",
        "The == operator checks for equality of values which means it evaluates whether the values of two objects are the same. On the other hand, is operator checks for identity, meaning it determines whether two variables point to the same object in memory.\n",
        "\n",
        "example: \"==\"\n",
        "\n",
        "a = [1, 2, 3]\n",
        "b = [1, 2, 3]\n",
        "print(a == b)\n",
        "\n",
        "example: \"is\"\n",
        "\n",
        "a = [1, 2, 3]\n",
        "b = [1, 2, 3]\n",
        "print(a is b)\n",
        "\n"
      ],
      "metadata": {
        "id": "YsXsgX9AsqOM"
      }
    },
    {
      "cell_type": "markdown",
      "source": [
        "**8.What are logical operators in Python?**\n",
        "\n",
        "Logical operators in Python are used to combine or modify conditional statements, evaluating expressions to return a Boolean value (True or False). They are crucial for implementing decision-making and control flow in programs\n",
        "\n",
        "**and**\tTrue if both statements are True\n",
        "\n",
        "**or**\tTrue if at least one is True\n",
        "\n",
        "**not**\tReverses the truth value"
      ],
      "metadata": {
        "id": "3ogcprRet1_j"
      }
    },
    {
      "cell_type": "markdown",
      "source": [
        "**9.What is type casting in Python?**\n",
        "\n",
        "Type Casting in Python is the process of converting a variable from one data type to another. Python makes this incredibly flexible, thanks to its built-in functions.\n",
        "\n",
        "Example:  \n",
        "    \n",
        "    integer_value = 10\n",
        "\n",
        "    float_value = 5.5\n",
        "   \n",
        "    result = integer_value + float_value  \n",
        "    \n",
        "    converted to a float\n",
        "    print(result) # Output: 15.5\n",
        "\n"
      ],
      "metadata": {
        "id": "tPlWE4Cdxf5I"
      }
    },
    {
      "cell_type": "markdown",
      "source": [
        " **10.What is the difference between implicit and explicit type casting?**\n",
        "\n",
        "\n",
        "Implicit and explicit type casting (also known as type conversion) differ in how they handle the conversion of data types. Implicit casting, also called automatic type conversion, is done automatically by the compiler when different data types are mixed in an expression.\n",
        "\n",
        " Explicit casting, or type casting, is performed manually by the programmer by explicitly specifying the desired data type.\n",
        "\n"
      ],
      "metadata": {
        "id": "J0KhxQEkQY6D"
      }
    },
    {
      "cell_type": "markdown",
      "source": [
        "**11.What is the purpose of conditional statements in Python?**\n",
        "\n",
        "The purpose of conditional statements in Python is to control the flow of execution in a program based on whether certain conditions are met. They enable programs to make decisions and perform different actions depending on the values of variables, the results of comparisons, or the outcome of logical operations"
      ],
      "metadata": {
        "id": "7dTqiHW0SNox"
      }
    },
    {
      "cell_type": "markdown",
      "source": [
        "**Q11. What is the purpose of conditional statements in Python?**\n",
        "- A conditional statement as the name suggests itself, is used to handle conditions in your program. Like, in real life if one condition is not fulfilled, you will do something else. Similarly it goes to the programming language also if one condition is not TRUE the cod will execute to other parts of the condition.\n",
        "\n",
        "Example:-\n",
        "\n",
        "\t\t\tage = 15\n",
        "      if age >= 18:\n",
        "  \t\t\tprint(\"You will be served alcohal\")\n",
        "      else:\n",
        "   \t\t\t print(\"get out of the bar\")"
      ],
      "metadata": {
        "id": "S5kUNFUQB16i"
      }
    },
    {
      "cell_type": "markdown",
      "source": [
        "**Q12. How does the elif statement work?**\n",
        "- In conditional statements the elif word stands for “else if” , it is use to check multiple condition. Like ,  if the first condition is false, it moves on to the next “elif” statement to check if that condition is true.\n",
        "\n",
        "Example:-\n",
        "\n",
        "    age = 80\n",
        "    if age < 18:\n",
        "        print(\"You are minority\")\n",
        "    elif 18<age<=65:\n",
        "        print(\"Yo are adult\")\n",
        "    else:\n",
        "         print(\"You are senior citizen\")"
      ],
      "metadata": {
        "id": "xu_l4KqYCWUE"
      }
    },
    {
      "cell_type": "markdown",
      "source": [
        "**13 What is the difference between for and while loops**\n",
        "\n",
        "The main difference between for and while loops lies in their structure and usage. For loops are typically used when the number of iterations is known beforehand, often when iterating over a sequence. While loops, on the other hand, are used when the number of iterations is not known in advance and depends on a condition being met.\n",
        "\n",
        "example for loop:\n",
        "\n",
        " for i in range(5):\n",
        "    \n",
        "    print(i)\n",
        "i = 0\n",
        "\n",
        "example while loop:\n",
        "\n",
        "while i < 5:\n",
        "\n",
        "    print(i)\n",
        "    i += 1\n",
        "\n",
        "\n"
      ],
      "metadata": {
        "id": "1ZEYLKhFCcdO"
      }
    },
    {
      "cell_type": "markdown",
      "source": [
        "**14.Describe a scenario where a while loop is more suitable than a for loop.**\n",
        "\n",
        "\n",
        "A while loop is more suitable than a for loop when you don’t know in advance how many times the loop needs to run — that is, when the number of iterations depends on a condition that changes during runtime rather than a fixed range or sequence\n",
        "\n",
        "Scenario Example:\n",
        "You want a program to keep asking the user to enter a positive number until they actually do.\n",
        "\n",
        "number = -1\n",
        "\n",
        "while number <= 0:\n",
        "\n",
        "    number = int(input(\"Enter a positive number: \"))\n",
        "\n",
        "print(\"Thank you! You entered:\", number)\n"
      ],
      "metadata": {
        "id": "6sRpHCnOD-bh"
      }
    },
    {
      "cell_type": "markdown",
      "source": [
        "                                            ** Practical Questions**"
      ],
      "metadata": {
        "id": "6EdHpF1tqOCP"
      }
    },
    {
      "cell_type": "markdown",
      "source": [
        "1 Write a Python program to print \"Hello, World!\""
      ],
      "metadata": {
        "id": "x7wEfFkuIw8C"
      }
    },
    {
      "cell_type": "code",
      "source": [
        "print(\"Hello World\")"
      ],
      "metadata": {
        "colab": {
          "base_uri": "https://localhost:8080/"
        },
        "id": "IpUwQrOUI8ox",
        "outputId": "5c30d3b6-b0cb-43ef-c5a9-2204e2652512"
      },
      "execution_count": null,
      "outputs": [
        {
          "output_type": "stream",
          "name": "stdout",
          "text": [
            "Hello World\n"
          ]
        }
      ]
    },
    {
      "cell_type": "markdown",
      "source": [
        "2 Write a Python program that displays your name and age\n"
      ],
      "metadata": {
        "id": "CEiflPbHJQLy"
      }
    },
    {
      "cell_type": "code",
      "source": [
        "name=\"Ankit kumar kushwaha\"\n",
        "age = 24\n",
        "print(name, age)"
      ],
      "metadata": {
        "colab": {
          "base_uri": "https://localhost:8080/"
        },
        "id": "uQqm_OAsJWXF",
        "outputId": "dfc74812-9c63-44c1-9c8d-6465ecfcf7d2"
      },
      "execution_count": null,
      "outputs": [
        {
          "output_type": "stream",
          "name": "stdout",
          "text": [
            "Ankit kumar kushwaha 24\n"
          ]
        }
      ]
    },
    {
      "cell_type": "markdown",
      "source": [
        "3 Write code to print all the pre-defined keywords in Python using the keyword library"
      ],
      "metadata": {
        "id": "JRKDZ367JuNo"
      }
    },
    {
      "cell_type": "code",
      "source": [
        "import keyword\n",
        "print(keyword.kwlist)"
      ],
      "metadata": {
        "colab": {
          "base_uri": "https://localhost:8080/"
        },
        "id": "25OCFtj4J47v",
        "outputId": "f012b884-1e64-47ee-8df9-9e4c02a479f9"
      },
      "execution_count": null,
      "outputs": [
        {
          "output_type": "stream",
          "name": "stdout",
          "text": [
            "['False', 'None', 'True', 'and', 'as', 'assert', 'async', 'await', 'break', 'class', 'continue', 'def', 'del', 'elif', 'else', 'except', 'finally', 'for', 'from', 'global', 'if', 'import', 'in', 'is', 'lambda', 'nonlocal', 'not', 'or', 'pass', 'raise', 'return', 'try', 'while', 'with', 'yield']\n"
          ]
        }
      ]
    },
    {
      "cell_type": "markdown",
      "source": [
        "4 Write a program that checks if a given word is a Python keyword"
      ],
      "metadata": {
        "id": "iJ2mQH-6KXDL"
      }
    },
    {
      "cell_type": "code",
      "source": [
        "import keyword\n",
        "\n",
        "word = input(\"Enter a word: \")\n",
        "if keyword.iskeyword(word):\n",
        "    print(f\"'{word}' is a Python keyword.\")\n",
        "else:\n",
        "    print(f\"'{word}' is NOT a Python keyword.\")\n"
      ],
      "metadata": {
        "colab": {
          "base_uri": "https://localhost:8080/"
        },
        "id": "5I-oKLmQKpGL",
        "outputId": "041623d4-f406-4ae1-cd7d-27d04c5ab79f"
      },
      "execution_count": null,
      "outputs": [
        {
          "output_type": "stream",
          "name": "stdout",
          "text": [
            "Enter a word: and\n",
            "'and' is a Python keyword.\n"
          ]
        }
      ]
    },
    {
      "cell_type": "markdown",
      "source": [
        "5. Create a list and tuple in Python, and demonstrate how attempting to change an element works differently\n",
        "for each"
      ],
      "metadata": {
        "id": "bqGvU3ZvLEWS"
      }
    },
    {
      "cell_type": "code",
      "source": [
        "\n",
        "list = [10, 20, 30]\n",
        "tuple = (10, 20, 30)\n",
        "\n",
        "# Modifying list\n",
        "print(\"Original list:\", list)\n",
        "list[1] = 200  # lists are mutable\n",
        "print(\"Modified list:\",list)\n",
        "\n",
        "# Attempting to modify the tuple\n",
        "print(\"\\nOriginal tuple:\",tuple)\n",
        "try:\n",
        "    tuple[1] = 200  # an error because tuples are immutable\n",
        "except TypeError as e:\n",
        "    print(\"Error when trying to modify tuple:\", e)\n"
      ],
      "metadata": {
        "id": "sg1vzEC0LMK1",
        "colab": {
          "base_uri": "https://localhost:8080/"
        },
        "outputId": "e07fd8a9-077a-46c1-9d73-f22467ccc010"
      },
      "execution_count": null,
      "outputs": [
        {
          "output_type": "stream",
          "name": "stdout",
          "text": [
            "Original list: [10, 20, 30]\n",
            "Modified list: [10, 200, 30]\n",
            "\n",
            "Original tuple: (10, 20, 30)\n",
            "Error when trying to modify tuple: 'tuple' object does not support item assignment\n"
          ]
        }
      ]
    },
    {
      "cell_type": "markdown",
      "source": [
        "6. Write a function to demonstrate the behavior of mutable and immutable arguments"
      ],
      "metadata": {
        "id": "ACaRFPxcMcmZ"
      }
    },
    {
      "cell_type": "code",
      "source": [
        "def demonstrate_behavior(immutable_arg, mutable_arg):\n",
        "    print(\"Before modification:\")\n",
        "    print(f\"immutable_arg: {immutable_arg}\")\n",
        "    print(f\"mutable_arg: {mutable_arg}\")\n",
        "\n",
        "    # Try modifying both\n",
        "    immutable_arg += 1\n",
        "    mutable_arg.append(\"new item\")\n",
        "\n",
        "    print(\"\\nInside function after modification:\")\n",
        "    print(f\"immutable_arg: {immutable_arg}\")\n",
        "    print(f\"mutable_arg: {mutable_arg}\")\n",
        "\n",
        "# Immutable type (int)\n",
        "num = 10\n",
        "\n",
        "# Mutable type (list)\n",
        "items = [\"apple\", \"banana\"]\n",
        "\n",
        "# Call the function\n",
        "demonstrate_behavior(num, items)\n",
        "\n",
        "print(\"\\nAfter function call:\")\n",
        "print(f\"num (immutable): {num}\")        # Remains unchanged\n",
        "print(f\"items (mutable): {items}\")      # Reflects the change\n"
      ],
      "metadata": {
        "id": "dCQGqZieMhrg",
        "colab": {
          "base_uri": "https://localhost:8080/"
        },
        "outputId": "0ef837a9-a31b-463c-b344-680d7b1c534f"
      },
      "execution_count": null,
      "outputs": [
        {
          "output_type": "stream",
          "name": "stdout",
          "text": [
            "Before modification:\n",
            "immutable_arg: 10\n",
            "mutable_arg: ['apple', 'banana']\n",
            "\n",
            "Inside function after modification:\n",
            "immutable_arg: 11\n",
            "mutable_arg: ['apple', 'banana', 'new item']\n",
            "\n",
            "After function call:\n",
            "num (immutable): 10\n",
            "items (mutable): ['apple', 'banana', 'new item']\n"
          ]
        }
      ]
    },
    {
      "cell_type": "markdown",
      "source": [
        "7. Write a program that performs basic arithmetic operations on two user-input numbers"
      ],
      "metadata": {
        "id": "5l36VXkgMip_"
      }
    },
    {
      "cell_type": "code",
      "source": [
        "a= float(input (\"Enter a number = \"))\n",
        "b= float(input (\"Enter a number = \"))\n",
        "print(\"sum\", a+b )\n",
        "print(\"Subtract\", a-b)\n",
        "print(\"multiply\", a*b)\n",
        "print (\"Div\", a/b)\n",
        "\n"
      ],
      "metadata": {
        "colab": {
          "base_uri": "https://localhost:8080/"
        },
        "id": "oUfMKY4lMqLZ",
        "outputId": "4f68f930-33a7-4a2d-a61c-b536730c089f"
      },
      "execution_count": null,
      "outputs": [
        {
          "output_type": "stream",
          "name": "stdout",
          "text": [
            "Enter a number = 60\n",
            "Enter a number = 5\n",
            "sum 65.0\n",
            "Subtract 55.0\n",
            "multiply 300.0\n",
            "Div 12.0\n"
          ]
        }
      ]
    },
    {
      "cell_type": "markdown",
      "source": [
        "8. Write a program to demonstrate the use of logical operators"
      ],
      "metadata": {
        "id": "6Vt-8FTlsOgH"
      }
    },
    {
      "cell_type": "code",
      "source": [
        "\n",
        "a = 10\n",
        "b = 5\n",
        "c = 15\n",
        "\n",
        "# Logical AND\n",
        "print(\"Logical AND:\")\n",
        "print((a > b) and (a < c))\n",
        "print((a > b) and (a > c))\n",
        "\n",
        "# Logical OR\n",
        "print(\"\\nLogical OR:\")\n",
        "print((a > b) or (a > c))\n",
        "print((a < b) or (a > c))\n",
        "\n",
        "# Logical NOT\n",
        "print(\"\\nLogical NOT:\")\n",
        "print(not (a > b))\n",
        "print(not (a < b))\n"
      ],
      "metadata": {
        "id": "Bf_hdnIysPkc",
        "colab": {
          "base_uri": "https://localhost:8080/"
        },
        "outputId": "99f109bf-3c72-4a94-8167-e91252d55b28"
      },
      "execution_count": null,
      "outputs": [
        {
          "output_type": "stream",
          "name": "stdout",
          "text": [
            "Logical AND:\n",
            "True\n",
            "False\n",
            "\n",
            "Logical OR:\n",
            "True\n",
            "False\n",
            "\n",
            "Logical NOT:\n",
            "False\n",
            "True\n"
          ]
        }
      ]
    },
    {
      "cell_type": "markdown",
      "source": [
        "9. Write a Python program to convert user input from string to integer, float, and boolean types"
      ],
      "metadata": {
        "id": "4QgNFHpGsowV"
      }
    },
    {
      "cell_type": "code",
      "source": [
        "# user input as a string\n",
        "user_input = input(\"Enter a value: \")\n",
        "\n",
        "# Convert to integer\n",
        "try:\n",
        "    int_value = int(user_input)\n",
        "    print(f\"Integer conversion: {int_value}\")\n",
        "except ValueError:\n",
        "    print(\"Cannot convert to integer.\")\n",
        "\n",
        "# Convert to float\n",
        "try:\n",
        "    float_value = float(user_input)\n",
        "    print(f\"Float conversion: {float_value}\")\n",
        "except ValueError:\n",
        "    print(\"Cannot convert to float.\")\n",
        "\n",
        "# Convert to boolean\n",
        "bool_value = bool(user_input)\n",
        "print(f\"Boolean conversion: {bool_value}\")\n"
      ],
      "metadata": {
        "id": "CbrFOxHus5Co",
        "colab": {
          "base_uri": "https://localhost:8080/"
        },
        "outputId": "0a5d056b-9db2-4136-eaf7-f62104fd718b"
      },
      "execution_count": null,
      "outputs": [
        {
          "output_type": "stream",
          "name": "stdout",
          "text": [
            "Enter a value: \n",
            "Cannot convert to integer.\n",
            "Cannot convert to float.\n",
            "Boolean conversion: False\n"
          ]
        }
      ]
    },
    {
      "cell_type": "markdown",
      "source": [],
      "metadata": {
        "id": "KXhg2-EYs5yS"
      }
    },
    {
      "cell_type": "markdown",
      "source": [
        ":10. Write code to demonstrate type casting with list elements"
      ],
      "metadata": {
        "id": "81SN8vChtdeI"
      }
    },
    {
      "cell_type": "code",
      "source": [
        "\n",
        "str_list = ['1', '2', '3', '4']\n",
        "\n",
        "# string to integers\n",
        "int_list = [int(x) for x in str_list]\n",
        "print(\"Integer List:\", int_list)\n",
        "\n",
        "# integers to floats\n",
        "float_list = [float(x) for x in int_list]\n",
        "print(\"Float List:\", float_list)\n",
        "\n",
        "# floats to strings\n",
        "str_again_list = [str(x) for x in float_list]\n",
        "print(\"String List Again:\", str_again_list)\n"
      ],
      "metadata": {
        "id": "eAic0MTNti6g",
        "colab": {
          "base_uri": "https://localhost:8080/"
        },
        "outputId": "75b42c4e-ca6a-4a4f-d200-ee1c0f6997a2"
      },
      "execution_count": null,
      "outputs": [
        {
          "output_type": "stream",
          "name": "stdout",
          "text": [
            "Integer List: [1, 2, 3, 4]\n",
            "Float List: [1.0, 2.0, 3.0, 4.0]\n",
            "String List Again: ['1.0', '2.0', '3.0', '4.0']\n"
          ]
        }
      ]
    },
    {
      "cell_type": "markdown",
      "source": [],
      "metadata": {
        "id": "lLOHa18etjfG"
      }
    },
    {
      "cell_type": "markdown",
      "source": [
        "11. Write a program that checks if a number is positive, negative, or zero.\n"
      ],
      "metadata": {
        "id": "Rw1VZWdttw1K"
      }
    },
    {
      "cell_type": "code",
      "source": [
        "num = float(input(\"enter a number\"))\n",
        "if num >0:\n",
        "  print(\"positive\")\n",
        "elif num <0:\n",
        "  print(\"Negative\")\n",
        "else:\n",
        "  print(\"Zero\")"
      ],
      "metadata": {
        "colab": {
          "base_uri": "https://localhost:8080/"
        },
        "id": "VssiWK-St1P0",
        "outputId": "cdda4ed5-ea4b-48f9-9ee7-32885b50be8a"
      },
      "execution_count": null,
      "outputs": [
        {
          "output_type": "stream",
          "name": "stdout",
          "text": [
            "enter a number-5\n",
            "Negative\n"
          ]
        }
      ]
    },
    {
      "cell_type": "markdown",
      "source": [
        "12. Write a for loop to print numbers from 1 to 10"
      ],
      "metadata": {
        "id": "kFz38HCs25wH"
      }
    },
    {
      "cell_type": "code",
      "source": [
        "for i in range(1,11):\n",
        "  print(i)"
      ],
      "metadata": {
        "colab": {
          "base_uri": "https://localhost:8080/"
        },
        "id": "6cgVJx3g2_mG",
        "outputId": "61644993-8580-4199-b637-b0d021d15a8c"
      },
      "execution_count": null,
      "outputs": [
        {
          "output_type": "stream",
          "name": "stdout",
          "text": [
            "1\n",
            "2\n",
            "3\n",
            "4\n",
            "5\n",
            "6\n",
            "7\n",
            "8\n",
            "9\n",
            "10\n"
          ]
        }
      ]
    },
    {
      "cell_type": "markdown",
      "source": [
        "13. Write a Python program to find the sum of all even numbers between 1 and 50.\n"
      ],
      "metadata": {
        "id": "qZEcTyPe9Kek"
      }
    },
    {
      "cell_type": "code",
      "source": [
        "sum_even=0\n",
        "for num in range(2,51):\n",
        "    if num %2 ==0:\n",
        "      sum_even += num\n",
        "print(sum_even)"
      ],
      "metadata": {
        "id": "Dt_CkVZX9LoY",
        "colab": {
          "base_uri": "https://localhost:8080/"
        },
        "outputId": "9a933c31-1e49-4f7e-ecfe-38410cea9371"
      },
      "execution_count": null,
      "outputs": [
        {
          "output_type": "stream",
          "name": "stdout",
          "text": [
            "650\n"
          ]
        }
      ]
    },
    {
      "cell_type": "markdown",
      "source": [
        "14. Write a program to reverse a string using a while loop.\n"
      ],
      "metadata": {
        "id": "mxs_O4vBPbyJ"
      }
    },
    {
      "cell_type": "code",
      "source": [
        "\n",
        "original_str = input(\"Enter a string: \")\n",
        "\n",
        "# Initialize variables\n",
        "reversed_str = \"\"\n",
        "index = len(original_str) - 1\n",
        "\n",
        "# Reverse using while loop\n",
        "while index >= 0:\n",
        "    reversed_str += original_str[index]\n",
        "    index -= 1\n",
        "\n",
        "# Print the reversed string\n",
        "print(\"Reversed string:\", reversed_str)\n"
      ],
      "metadata": {
        "id": "2-cYfl9YPdc-",
        "colab": {
          "base_uri": "https://localhost:8080/"
        },
        "outputId": "4ad44d0a-ae03-4d85-ef9a-104a4fb436a2"
      },
      "execution_count": null,
      "outputs": [
        {
          "output_type": "stream",
          "name": "stdout",
          "text": [
            "Enter a string: tejs\n",
            "Reversed string: sjet\n"
          ]
        }
      ]
    },
    {
      "cell_type": "markdown",
      "source": [
        "15. Write a Python program to calculate the factorial of a number provided by the user using a while loop."
      ],
      "metadata": {
        "id": "raQOezMCPyfr"
      }
    },
    {
      "cell_type": "code",
      "source": [
        "num =int(input(\"enter a number\"))\n",
        "factorial=1\n",
        "i =num\n",
        "while i >1:\n",
        "  factorial*=i\n",
        "  i -=1\n",
        "print(factorial)\n"
      ],
      "metadata": {
        "colab": {
          "base_uri": "https://localhost:8080/"
        },
        "id": "wg3VFjOXPz6K",
        "outputId": "27b5f287-056d-47db-cc1b-4068e6e7032e"
      },
      "execution_count": null,
      "outputs": [
        {
          "output_type": "stream",
          "name": "stdout",
          "text": [
            "enter a number5\n",
            "120\n"
          ]
        }
      ]
    }
  ]
}