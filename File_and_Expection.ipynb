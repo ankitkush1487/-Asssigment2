{
  "nbformat": 4,
  "nbformat_minor": 0,
  "metadata": {
    "colab": {
      "provenance": [],
      "authorship_tag": "ABX9TyNOiZ9q63Vl2bK+F5VQMtKH",
      "include_colab_link": true
    },
    "kernelspec": {
      "name": "python3",
      "display_name": "Python 3"
    },
    "language_info": {
      "name": "python"
    }
  },
  "cells": [
    {
      "cell_type": "markdown",
      "metadata": {
        "id": "view-in-github",
        "colab_type": "text"
      },
      "source": [
        "<a href=\"https://colab.research.google.com/github/ankitkush1487/-Asssigment2/blob/master/File_and_Expection.ipynb\" target=\"_parent\"><img src=\"https://colab.research.google.com/assets/colab-badge.svg\" alt=\"Open In Colab\"/></a>"
      ]
    },
    {
      "cell_type": "markdown",
      "source": [
        "**1. What is the difference between interpreted and compiled languages?**\n",
        "\n",
        "The main difference between interpreted and compiled languages lies in how the source code is executed. Compiled languages are translated into machine code before runtime, allowing for faster execution, while interpreted languages are executed line by line by an interpreter at runtime, offering more flexibility."
      ],
      "metadata": {
        "id": "zzHjM5Ld5PU6"
      }
    },
    {
      "cell_type": "markdown",
      "source": [
        "**2. What is exception handling in Python?**\n",
        "\n",
        "Exception handling in Python is a mechanism for managing runtime errors, known as exceptions, that occur during program execution. It allows developers to anticipate potential errors and define specific actions to take when such exceptions arise, preventing abrupt program termination and enhancing software robustness."
      ],
      "metadata": {
        "id": "4rrHELHD6_D7"
      }
    },
    {
      "cell_type": "markdown",
      "source": [
        "**3. What is the purpose of the finally block in exception handling?**\n",
        "\n",
        "\n",
        "The finally block in exception handling ensures that a specific block of code is always executed, regardless of whether an exception is thrown or caught within the corresponding try or catch blocks. It's primarily used for resource cleanup, like closing files or releasing network connections, guaranteeing these actions happen even if an error disrupts the normal flow of execution"
      ],
      "metadata": {
        "id": "Ysy_kp7u7V0P"
      }
    },
    {
      "cell_type": "markdown",
      "source": [
        "**4. What is logging in Python?**\n",
        "\n",
        "Logging in Python is a way to record messages (like errors, warnings, or info) during program execution. It helps with debugging and tracking the flow of the program. It’s done using the logging module.\n"
      ],
      "metadata": {
        "id": "02YewWqp7qY4"
      }
    },
    {
      "cell_type": "markdown",
      "source": [
        "**5. What is the significance of the __del__ method in Python?**\n",
        "\n",
        "\n",
        "The __del__ method in Python is a destructor. It is automatically called when an object is about to be destroyed, allowing you to clean up resources (e.g., close files or connections). However, it's not guaranteed when it will be called, as Python uses garbage collection.\n"
      ],
      "metadata": {
        "id": "AzXk_Xfq8pE3"
      }
    },
    {
      "cell_type": "markdown",
      "source": [
        "**6. What is the difference between import and from ... import in Python?**\n",
        "\n",
        "\n",
        "import module_name: This statement imports the entire module into the current namespace. To access any function, class, or variable from this module, you must use the module name as a prefix, followed by a dot (.) and the item's name.\n",
        "\n",
        "    import math\n",
        "    print(math.sqrt(25)\n",
        "\n",
        "from module_name import item1, item2, ...: This statement allows you to import specific items (functions, classes, variables) directly from a module into the current namespace. Once imported, these items can be used directly without needing to prefix them with the module name.\n",
        "\n",
        "    from math import sqrt\n",
        "    print(sqrt(25))"
      ],
      "metadata": {
        "id": "ak7Pnxfi9BkB"
      }
    },
    {
      "cell_type": "markdown",
      "source": [
        "**7. How can you handle multiple exceptions in Python?**\n",
        "\n",
        "\n",
        "You can handle multiple exceptions in Python by using multiple except blocks or by specifying multiple exceptions in a single except block like this:\n",
        "\n",
        "\n",
        "try:\n",
        "   \n",
        "    value = int(\"abc\")  # Example: ValueError\n",
        "    another_result = 5 / 0 # Example: ZeroDivisionError\n",
        "except ValueError:\n",
        "\n",
        "    print(\"Invalid input: Please enter a number.\")\n",
        "\n",
        "except ZeroDivisionError:\n",
        "\n",
        "    print(\"Cannot divide by zero.\")\n",
        "except Exception as e: # Catch-all for other unexpected exceptions\n",
        "\n",
        "    print(f\"An unexpected error occurred: {e}\")"
      ],
      "metadata": {
        "id": "n0EwJY6q9mgo"
      }
    },
    {
      "cell_type": "markdown",
      "source": [
        "**8.What is the purpose of the with statement when handling files in Python?**\n",
        "\n",
        "The with statement in Python, when used with file handling, serves the purpose of ensuring proper resource management, specifically guaranteeing that files are automatically closed after their use, even if errors or exceptions occur during the process.\n",
        "\n",
        "with open(\"my_file.txt\", \"r\") as file:\n",
        "\n",
        "    content = file.read()\n",
        "    print(content)\n"
      ],
      "metadata": {
        "id": "wOs0Z1Ct_ORp"
      }
    },
    {
      "cell_type": "markdown",
      "source": [
        "**9. What is the difference between multithreading and multiprocessing?**\n",
        "\n",
        "Multithreading and multiprocessing are both techniques for achieving concurrency, but they differ in how they divide tasks. Multithreading involves creating multiple threads within a single process, allowing them to run concurrently within the same memory space.\n",
        "\n",
        "Multiprocessing, on the other hand, uses multiple processes, each with its own memory space, to achieve true parallelism\n"
      ],
      "metadata": {
        "id": "OJw92I8jACnR"
      }
    },
    {
      "cell_type": "markdown",
      "source": [
        "**10. What are the advantages of using logging in a program?**\n",
        "\n",
        "The advantages of using logging in a program include:\n",
        "\n",
        "Error Tracking: Helps identify and track errors and exceptions in your program.\n",
        "\n",
        "Debugging: Provides insights into program flow and variable values, aiding debugging.\n",
        "\n",
        "Persistence: Logs can be saved to a file, which makes it easy to review past events.\n",
        "\n",
        "Customization: You can set different log levels (e.g., INFO, WARNING, ERROR) to filter messages.\n",
        "\n",
        "Non-intrusive: Unlike print() statements, logs are less disruptive and can be disabled or redirected without changing the code.\n"
      ],
      "metadata": {
        "id": "dbX_D3l7Ajbk"
      }
    },
    {
      "cell_type": "markdown",
      "source": [
        "**11. What is memory management in Python?**\n",
        "\n",
        "\n",
        "Memory management in Python refers to how Python allocates, stores, and frees memory for variables, objects, and data structures during program execution.\n",
        "\n",
        "Python handles memory automatically using built-in mechanisms so you don’t have to manually allocate or free memory like in C or C++.\n",
        "\n",
        "Automatic memory allocation: Python handles memory allocation for variables and objects.\n",
        "\n",
        "Garbage collection: Unused objects are automatically cleaned up to free memory.\n",
        "\n",
        "Reference counting: Python tracks how many references exist for an object to determine when it’s no longer needed and can be deleted.\n",
        "\n",
        "Memory pools: Python uses memory pools to manage memory more efficiently and reduce fragmentation.\n"
      ],
      "metadata": {
        "id": "vD_X_tQXBk_F"
      }
    },
    {
      "cell_type": "markdown",
      "source": [
        "**12. What are the basic steps involved in exception handling in Python?**\n",
        "\n",
        "The basic steps involved in exception handling in Python are as follows:\n",
        "\n",
        "try Block:\n",
        "This block contains the code that might potentially raise an exception. Python attempts to execute the code within this block.\n",
        "\n",
        "except Block(s):\n",
        "If an exception occurs within the try block, Python immediately stops executing the rest of the try block and jumps to the corresponding except block. You can have multiple except blocks to handle different types of exceptions specifically. If no exception occurs, the except blocks are skipped.\n",
        "\n",
        "else Block:\n",
        "This block is executed only if no exception occurs within the try block. It is useful for code that should run only when the try block completes successfully.\n",
        "\n",
        "finally Block:\n",
        "This block is always executed, regardless of whether an exception occurred or not, and whether it was handled. It is commonly used for cleanup operations, such as closing files or database connections, to ensure resources are properly released.\n",
        "\n",
        "raise Statement:\n",
        "While not directly part of handling, the raise statement is used to explicitly trigger an exception. This is useful for signaling errors in your own code or for re-raising caught exceptions after some processing.\n"
      ],
      "metadata": {
        "id": "RQDQ3t-4CEaw"
      }
    },
    {
      "cell_type": "markdown",
      "source": [
        "**13. Why is memory management important in Python?**\n",
        "\n",
        "Memory management is important in Python for several reasons:\n",
        "Efficient Resource Use: Proper memory management ensures the program uses system memory effectively, preventing memory leaks and reducing unnecessary memory consumption.\n",
        "\n",
        "Performance: Efficient memory handling helps the program run faster and avoids slowdowns due to excessive memory usage.\n",
        "\n",
        "Garbage Collection: Python automatically manages memory with its garbage collection system, ensuring objects are cleaned up when no longer needed, which helps in maintaining optimal performance.\n",
        "\n",
        "Avoid Crashes: Poor memory management can lead to crashes or unexpected behavior due to running out of memory.\n",
        "\n",
        "Scalability: As programs grow, proper memory management ensures they can scale without running into memory-related issues.\n"
      ],
      "metadata": {
        "id": "7zhwWPtgC88I"
      }
    },
    {
      "cell_type": "markdown",
      "source": [
        "**14. What is the role of try and except in exception handling?**\n",
        "\n",
        "In exception handling, the try and except blocks play a crucial role in managing errors that occur during program execution.\n",
        "\n",
        "try block:\n",
        "This block encloses the code that is susceptible to raising exceptions. It acts as a \"watchdog\" for potential problems. If the code within the try block executes without any issues, the program continues its normal flow. However, if an error (an \"exception\") occurs within this block, the execution of the try block is immediately halted, and control is transferred to the corresponding except block.\n",
        "\n",
        "except block:\n",
        "This block is designed to \"catch\" and handle specific types of exceptions that might be raised in the preceding try block. When an exception occurs in the try block, the program searches for an except block that can handle that particular type of exception. If a matching except block is found, the code within that block is executed, allowing for graceful error recovery, logging, or user feedback, instead of the program abruptly terminating. Multiple except blocks can be used to handle different types of exceptions separately.\n",
        "\n",
        "try:\n",
        "\n",
        "    result = 10 / 0\n",
        "except ZeroDivisionError:\n",
        "\n",
        "    print(\"Cannot divide by zero!\")"
      ],
      "metadata": {
        "id": "og3hJom-Dio5"
      }
    },
    {
      "cell_type": "markdown",
      "source": [
        "**15. How does Python's garbage collection system work?**\n",
        "\n",
        "Python's garbage collection system works through reference counting and cyclic garbage collection:\n",
        "\n",
        "Reference Counting: Every object in Python has a reference count, which tracks how many references point to it. When the reference count drops to zero (no references to the object), Python automatically frees the memory used by that object.\n",
        "\n",
        "Cyclic Garbage Collection: Python also detects and handles reference cycles (e.g., objects referencing each other in a cycle). The gc module helps in this process, periodically checking for circular references and cleaning them up.\n"
      ],
      "metadata": {
        "id": "IyXcJR1-GFUS"
      }
    },
    {
      "cell_type": "markdown",
      "source": [
        "**16. What is the purpose of the else block in exception handling?**\n",
        "\n",
        "\n",
        "The else block in exception handling is used to define code that should run only if no exception was raised in the try block. It allows you to separate the error-handling code from the regular code that should execute when everything works fine.\n",
        "\n",
        "Example:\n",
        "\n",
        "try:\n",
        "\n",
        "    result = 10 / 2\n",
        "\n",
        "except ZeroDivisionError:\n",
        "\n",
        "    print(\"Cannot divide by zero!\")\n",
        "else:\n",
        "\n",
        "    print(\"Division successful! The result is:\", result)\n",
        "Here, the else block runs only if there is no exception in the try block. If there’s an exception, the except block runs instead."
      ],
      "metadata": {
        "id": "gBggb6OJGy8R"
      }
    },
    {
      "cell_type": "markdown",
      "source": [
        "**17. What are the common logging levels in Python?**\n",
        "\n",
        "\n",
        "The common logging levels in Python, in order of increasing severity, are:\n",
        "\n",
        "DEBUG: Detailed information, typically useful for diagnosing issues. This is the lowest level.\n",
        "\n",
        "INFO: General information about the program’s execution, used to track the progress.\n",
        "\n",
        "WARNING: Indicates something unexpected, but the program can still continue running.\n",
        "\n",
        "ERROR: Indicates a more serious problem, but the program can still run.\n",
        "\n",
        "CRITICAL: A very serious error, often causing the program to terminate.\n",
        "\n",
        "Each level filters messages of that level and higher. For example, setting the log level to WARNING will show only WARNING, ERROR, and CRITICAL messages."
      ],
      "metadata": {
        "id": "QyW4R5HjHnFO"
      }
    },
    {
      "cell_type": "markdown",
      "source": [
        "18. What is the difference between os.fork() and multiprocessing in Python?\n",
        "\n",
        "The main differences between os.fork() and the multiprocessing module in Python are:\n",
        "os.fork():\n",
        "\n",
        "Creates a child process by duplicating the parent process.\n",
        "Available only on Unix-based systems (Linux, macOS).\n",
        "The child process gets a copy of the parent’s memory space.\n",
        "It’s lower-level and requires manual management of processes and resources.\n",
        "\n",
        "multiprocessing:\n",
        "\n",
        "Provides a higher-level API for creating and managing processes.\n",
        "Works across different platforms (Linux, macOS, Windows).\n",
        "Handles process creation, synchronization, and communication more easily (e.g., through queues, pipes).\n",
        "Uses separate memory space for each process, preventing memory sharing issues."
      ],
      "metadata": {
        "id": "hgqGCj8gD8Gx"
      }
    },
    {
      "cell_type": "markdown",
      "source": [
        "**19. What is the importance of closing a file in Python?**\n",
        "\n",
        "Closing a file in Python is important for several reasons:\n",
        "Resource Management: When a file is open, it uses system resources (like memory and file handles). Closing the file releases those resources, preventing resource leaks.\n",
        "\n",
        "Data Integrity: When writing to a file, data might not be written immediately to disk. Closing the file ensures that all data is properly flushed and saved to the file.\n",
        "\n",
        "Avoiding Errors: Keeping files open can cause issues, especially if you try to open them again or perform other operations on them. Closing the file helps avoid such errors.\n",
        "\n",
        "Using the with statement is a convenient way to ensure the file gets automatically closed after use:\n",
        "\n",
        "with open('file.txt', 'r') as file:\n",
        "\n",
        "    content = file.read()\n",
        "\n"
      ],
      "metadata": {
        "id": "zA6_dsbwEDYF"
      }
    },
    {
      "cell_type": "markdown",
      "source": [
        "**20. What is the difference between file.read() and file.readline() in Python?**\n",
        "\n",
        "The difference between file.read() and file.readline() in Python is:\n",
        "file.read():\n",
        "\n",
        "Reads the entire content of the file as a single string.\n",
        "It loads everything at once, which can be inefficient for large files.\n",
        "\n",
        "Example:\n",
        "\n",
        "with open('file.txt', 'r') as file:\n",
        "\n",
        "    content = file.read()\n",
        "file.readline():\n",
        "\n",
        "Reads one line at a time from the file.\n",
        "It’s more memory-efficient for large files because it only loads one line into memory at a time.\n",
        "\n",
        "Example:\n",
        "\n",
        "with open('file.txt', 'r') as file:\n",
        "\n",
        "    line = file.readline()\n",
        "    print(line)"
      ],
      "metadata": {
        "id": "MluvXepyEc5m"
      }
    },
    {
      "cell_type": "markdown",
      "source": [
        "**21. What is the logging module in Python used for?**\n",
        "\n",
        "The logging module in Python is used for tracking and recording events that happen during the execution of a program. It allows you to log messages of different severity levels (e.g., debug, info, warning, error, and critical), which helps with:\n",
        "\n",
        "Debugging: By tracking the flow of execution and variables, it aids in identifying issues.\n",
        "\n",
        "Error Reporting: It provides a way to log errors, making it easier to monitor and fix problems.\n",
        "\n",
        "Monitoring: Logs can be used for ongoing monitoring of program behavior, especially in production environments.\n",
        "\n",
        "Persistence: Logs can be written to files, allowing you to review past events and behaviors of the program.\n",
        "\n",
        "The logging module is more flexible and configurable compared to simple print() statements. Example usage:\n",
        "\n",
        "import logging\n",
        "\n",
        "logging.basicConfig(level=logging.INFO)\n",
        "\n",
        "logging.info(\"This is an info message.\")\n",
        "\n",
        "logging.error(\"This is an error message.\")"
      ],
      "metadata": {
        "id": "Gufrip6WErsf"
      }
    },
    {
      "cell_type": "markdown",
      "source": [
        "**22. What is the os module in Python used for in file handling?**\n",
        "\n",
        "The os module in Python is used for interacting with the operating system, and in file handling, it provides functions to perform tasks like:\n",
        "\n",
        "File and Directory Manipulation:\n",
        "\n",
        "os.mkdir() and os.makedirs() for creating directories.\n",
        "\n",
        "os.remove() for deleting files.\n",
        "\n",
        "os.rename() for renaming files or directories.\n",
        "\n",
        "os.rmdir() and os.removedirs() for removing directories.\n",
        "Path Operations:\n",
        "\n",
        "os.path.exists() to check if a file or directory exists.\n",
        "\n",
        "os.path.join() to join paths in a cross-platform way.\n",
        "\n",
        "os.path.basename() and os.path.dirname() to get the file or directory name from a path.\n",
        "\n",
        "os.path.abspath() to get the absolute path of a file.\n",
        "Working with the Current Directory:\n",
        "\n",
        "os.getcwd() to get the current working directory.\n",
        "\n",
        "os.chdir() to change the current working directory.\n",
        "Listing Files:\n",
        "\n",
        "os.listdir() to list all files and directories in a given directory.\n",
        "Example of using the os module for file handling:\n",
        "\n",
        "import os\n",
        "\n",
        "\n",
        "os.mkdir('new_folder')\n",
        "\n",
        "\n",
        "if os.path.exists('file.txt'):\n",
        "\n",
        "    print(\"File exists\")\n",
        "\n",
        "\n",
        "current_dir = os.getcwd()\n",
        "\n",
        "print(\"Current Directory:\", current_dir)"
      ],
      "metadata": {
        "id": "bTpJBetdE7iR"
      }
    },
    {
      "cell_type": "markdown",
      "source": [
        "**23. What are the challenges associated with memory management in Python?**\n",
        "\n",
        "Memory management in Python, while automated, comes with some challenges:\n",
        "\n",
        "Garbage Collection Overhead:\n",
        "\n",
        "Python uses reference counting and cyclic garbage collection, which can introduce performance overhead, especially in large applications with many objects. The garbage collector might not run immediately, leading to potential memory spikes.\n",
        "\n",
        "Reference Cycles:\n",
        "\n",
        "Objects that reference each other in a cycle (e.g., two objects pointing to each other) may not be cleaned up by reference counting alone. While Python’s cyclic garbage collector helps, managing these cycles can still be tricky.\n",
        "\n",
        "Memory Fragmentation:\n",
        "\n",
        "While Python’s memory management reduces fragmentation, it can still occur over time. This issue arises when small memory blocks are allocated and freed in ways that prevent large contiguous blocks of memory from being used efficiently.\n",
        "\n",
        "Memory Leaks:\n",
        "\n",
        "Despite automatic memory management, memory leaks can occur if objects are unintentionally held in memory (e.g., through circular references that aren’t collected). This can lead to the application consuming more memory over time.\n",
        "\n",
        "Large Object Management:\n",
        "\n",
        "Python’s automatic memory management is less efficient when dealing with large objects. For example, large data structures (like big lists or dictionaries) can be difficult to manage, and they may require more manual intervention to avoid excessive memory usage.\n",
        "Global Interpreter Lock (GIL):\n",
        "\n",
        "The GIL in CPython prevents multiple threads from running simultaneously in a multi-core processor. This can affect the performance of multi-threaded applications, especially in CPU-bound tasks, as Python’s memory management isn't fully parallelized across multiple cores.\n",
        "\n",
        "Unpredictability of __del__:\n",
        "\n",
        "The __del__ method (destructor) for object cleanup is not always called when expected, especially with circular references or complex object graphs, making it hard to manage when resources like file handles or network connections are released."
      ],
      "metadata": {
        "id": "lVd8aw8zGbaI"
      }
    },
    {
      "cell_type": "markdown",
      "source": [
        "**24. How do you raise an exception manually in Python?**\n",
        "\n",
        "In Python, we can raise an exception manually using the raise keyword. You can raise built-in exceptions or create your own custom exceptions. Here's how to do both:\n",
        "1. Raising a Built-in Exception:\n",
        "raise Exception(\"This is a custom error message.\")\n",
        "2. Raising a Specific Built-in Exception:\n",
        "raise ValueError(\"This is a ValueError.\")\n",
        "3. Raising a Custom Exception:\n",
        "You can also create your own custom exceptions by subclassing the built-in Exception class.\n",
        "\n",
        "class CustomError(Exception):\n",
        "    pass\n",
        "\n",
        "raise CustomError(\"This is a custom exception.\")\n",
        "\n",
        "Example in Context:\n",
        "\n",
        "def check_age(age):\n",
        "\n",
        "    if age < 18:\n",
        "        raise ValueError(\"Age must be 18 or older.\")\n",
        "    else:\n",
        "        print(\"Age is valid.\")\n",
        "\n",
        "try:\n",
        "\n",
        "    check_age(16)\n",
        "except ValueError as e:\n",
        "\n",
        "    print(f\"Error: {e}\")"
      ],
      "metadata": {
        "id": "Onm4XqlLGxHX"
      }
    },
    {
      "cell_type": "markdown",
      "source": [
        "**25. Why is it important to use multithreading in certain applications?**\n",
        "\n",
        "Multithreading is important in certain applications for the following reasons:\n",
        "\n",
        "Improved Performance for I/O-bound Tasks:\n",
        "\n",
        "In applications that spend a lot of time waiting for external resources (like reading from files, making network requests, or waiting for database queries), multithreading can help by running multiple tasks concurrently. This improves the efficiency of the application by not wasting time waiting for I/O operations to complete.\n",
        "Responsiveness in User Interfaces:\n",
        "\n",
        "For graphical user interfaces (GUIs) or interactive applications, multithreading can ensure that the main thread remains responsive to user actions while other threads handle tasks like background data processing or network communication.\n",
        "Concurrency:\n",
        "\n",
        "Multithreading allows multiple threads to run at the same time (in environments that support true parallelism, like multi-core CPUs). This can make applications more efficient by splitting tasks and executing them concurrently, though the extent of parallelism is limited in Python due to the Global Interpreter Lock (GIL) for CPU-bound tasks.\n",
        "Better Resource Utilization:\n",
        "\n",
        "In multi-core systems, multithreading allows tasks to run in parallel, making better use of available CPU cores and improving overall system performance for suitable workloads.\n",
        "Simplified Program Structure:\n",
        "\n",
        "Multithreading helps organize programs that involve multiple tasks that can be executed concurrently, like data processing, web scraping, or performing calculations in parallel. It simplifies the management of these tasks in the code, especially when they are independent of each other.\n",
        "Example Use Cases:\n",
        "\n",
        "Web Servers: Handling multiple incoming requests simultaneously.\n",
        "\n",
        "File Processing: Reading and writing files concurrently to improve speed.\n",
        "\n",
        "Real-time Applications: Managing sensors or handling multiple devices in real-time without freezing the application."
      ],
      "metadata": {
        "id": "AL5y2ZNWIKHh"
      }
    },
    {
      "cell_type": "markdown",
      "source": [
        "    ***Files, exceptional handling, logging and memory management Practical Questions:***\n"
      ],
      "metadata": {
        "id": "upKT-_vMIhXz"
      }
    },
    {
      "cell_type": "code",
      "execution_count": null,
      "metadata": {
        "id": "JU8rfy3q2v3Y"
      },
      "outputs": [],
      "source": [
        "#1. How can you open a file for writing in Python and write a string to it?\n",
        "\n",
        "with open(\"example.txt\",\"w\") as file:\n",
        "  file.write(\"Hello,i am Ankit \")"
      ]
    },
    {
      "cell_type": "code",
      "source": [
        "#2. Write a Python program to read the contents of a file and print each line.\n",
        "with open(\"example.txt\",\"r\") as file:\n",
        "  for line in file:\n",
        "    print(line, end='')"
      ],
      "metadata": {
        "colab": {
          "base_uri": "https://localhost:8080/"
        },
        "id": "l8MSes5LJZOo",
        "outputId": "0348813f-5e0d-4f18-b350-394f0f5c32a7"
      },
      "execution_count": null,
      "outputs": [
        {
          "output_type": "stream",
          "name": "stdout",
          "text": [
            "Hello,i am Ankit "
          ]
        }
      ]
    },
    {
      "cell_type": "code",
      "source": [
        "#3. How would you handle a case where the file doesn't exist while trying to open it for reading?\n",
        "try:\n",
        "  with open(\"example.txt\",\"r\") as file:\n",
        "    for line in file:\n",
        "      print(line, end='')\n",
        "except FileNotFoundError:\n",
        "    print(\"Error: The file 'example.txt' does not exist.\")"
      ],
      "metadata": {
        "id": "x11b2_ykJ6YH",
        "colab": {
          "base_uri": "https://localhost:8080/"
        },
        "outputId": "6778781a-bfe0-438f-f3d9-4cfde7c05b7b"
      },
      "execution_count": null,
      "outputs": [
        {
          "output_type": "stream",
          "name": "stdout",
          "text": [
            "Hello,i am Ankit "
          ]
        }
      ]
    },
    {
      "cell_type": "code",
      "source": [
        "#4.Write a Python script that reads from one file and writes its content to another file.\n",
        "\n",
        "\n",
        "with open('source.txt', 'w') as source_file_setup:\n",
        "    source_file_setup.write(\"This is the content of the source file.\")\n",
        "\n",
        "with open('source.txt', 'r') as source_file, open('destination.txt', 'w') as dest_file:\n",
        "    content = source_file.read()\n",
        "    dest_file.write(content)\n",
        "\n",
        "print(\"Content has been copied from 'source.txt' to 'destination.txt'.\")"
      ],
      "metadata": {
        "colab": {
          "base_uri": "https://localhost:8080/"
        },
        "id": "mLossmdum12l",
        "outputId": "6f6db338-80b5-4837-c83b-bec2eedb374a"
      },
      "execution_count": null,
      "outputs": [
        {
          "output_type": "stream",
          "name": "stdout",
          "text": [
            "Content has been copied from 'source.txt' to 'destination.txt'.\n"
          ]
        }
      ]
    },
    {
      "cell_type": "code",
      "source": [
        "#5. How would you catch and handle division by zero error in Python?\n",
        "try:\n",
        "  div = 4/0\n",
        "except ZeroDivisionError:\n",
        "  print(\"Can not divided by zero\")\n",
        "else:\n",
        "    print(f\"The result is {div}\")"
      ],
      "metadata": {
        "colab": {
          "base_uri": "https://localhost:8080/"
        },
        "id": "Ch0lkLOynPxN",
        "outputId": "d432c57d-3942-4259-87ef-9903acfe6c77"
      },
      "execution_count": null,
      "outputs": [
        {
          "output_type": "stream",
          "name": "stdout",
          "text": [
            "Can not divided by zero\n"
          ]
        }
      ]
    },
    {
      "cell_type": "code",
      "source": [
        "#6.Write a Python program that logs an error message to a log file when a division by zero exception occurs.\n",
        "\n",
        "import logging\n",
        "\n",
        "logging.basicConfig(filename='error_log.txt', level=logging.ERROR,\n",
        "                    format='%(asctime)s - %(levelname)s - %(message)s')\n",
        "\n",
        "try:\n",
        "    result = 10 / 0\n",
        "except ZeroDivisionError as e:\n",
        "    logging.error(f\"Division by zero error: {e}\")\n",
        "    print(\"Error: Cannot divide by zero. Check the log file for details.\")"
      ],
      "metadata": {
        "colab": {
          "base_uri": "https://localhost:8080/"
        },
        "id": "nsbsXG5ln7pf",
        "outputId": "97bcbcad-4eed-4ecb-ffbb-87ddc0bb6f13"
      },
      "execution_count": null,
      "outputs": [
        {
          "output_type": "stream",
          "name": "stderr",
          "text": [
            "ERROR:root:Division by zero error: division by zero\n"
          ]
        },
        {
          "output_type": "stream",
          "name": "stdout",
          "text": [
            "Error: Cannot divide by zero. Check the log file for details.\n"
          ]
        }
      ]
    },
    {
      "cell_type": "code",
      "source": [
        "#7. How do you log information at different levels (INFO, ERROR, WARNING) in Python using the logging module?\n",
        "\n",
        "import logging\n",
        "\n",
        "\n",
        "logging.basicConfig(filename='app.log', level=logging.DEBUG,\n",
        "                    format='%(asctime)s - %(levelname)s - %(message)s')\n",
        "\n",
        "\n",
        "logging.info('This is an info message.')\n",
        "\n",
        "logging.warning('This is a warning message.')\n",
        "\n",
        "logging.error('This is an error message.')\n",
        "\n",
        "logging.debug('This is a debug message.')\n",
        "\n",
        "logging.critical('This is a critical message.')"
      ],
      "metadata": {
        "colab": {
          "base_uri": "https://localhost:8080/"
        },
        "id": "XTqUPafroUA8",
        "outputId": "b72e1fcb-9265-4ce9-ad99-76fd825cb3b9"
      },
      "execution_count": null,
      "outputs": [
        {
          "output_type": "stream",
          "name": "stderr",
          "text": [
            "WARNING:root:This is a warning message.\n",
            "ERROR:root:This is an error message.\n",
            "CRITICAL:root:This is a critical message.\n"
          ]
        }
      ]
    },
    {
      "cell_type": "code",
      "source": [
        "#8. Write a program to handle a file opening error using exception handling.\n",
        "\n",
        "try:\n",
        "    with open('non_existent_file.txt', 'r') as file:\n",
        "        content = file.read()\n",
        "        print(content)\n",
        "except FileNotFoundError:\n",
        "    print(\"Error: The file does not exist.\")\n",
        "except IOError:\n",
        "    print(\"Error: An error occurred while trying to read the file.\")\n"
      ],
      "metadata": {
        "colab": {
          "base_uri": "https://localhost:8080/"
        },
        "id": "bp_0WvvdoxPi",
        "outputId": "716f8f4d-9e04-4d91-9b51-11945072019b"
      },
      "execution_count": null,
      "outputs": [
        {
          "output_type": "stream",
          "name": "stdout",
          "text": [
            "Error: The file does not exist.\n"
          ]
        }
      ]
    },
    {
      "cell_type": "code",
      "source": [
        "#9. How can you read a file line by line and store its content in a list in Python?\n",
        "\n",
        "with open(\"example.txt\",\"r\") as file:\n",
        "  lines = [line.strip() for line in file]\n",
        "\n",
        "print(lines)"
      ],
      "metadata": {
        "colab": {
          "base_uri": "https://localhost:8080/"
        },
        "id": "OkXecigbpA3m",
        "outputId": "e84d076d-1276-41eb-bf2b-c8aa500bdc3f"
      },
      "execution_count": null,
      "outputs": [
        {
          "output_type": "stream",
          "name": "stdout",
          "text": [
            "['Hello,i am Ankit']\n"
          ]
        }
      ]
    },
    {
      "cell_type": "code",
      "source": [
        "#10. How can you append data to an existing file in Python?\n",
        "\n",
        "with open('example.txt', 'a') as file:\n",
        "    file.write(\"\\nThis is new data appended to the file.\")\n",
        "\n",
        "print(\"Data has been appended to 'example.txt'.\")"
      ],
      "metadata": {
        "colab": {
          "base_uri": "https://localhost:8080/"
        },
        "id": "N2ZnVCj1qOjN",
        "outputId": "16af67b0-0873-4da1-8ef2-f2a33e79551f"
      },
      "execution_count": null,
      "outputs": [
        {
          "output_type": "stream",
          "name": "stdout",
          "text": [
            "Data has been appended to 'example.txt'.\n"
          ]
        }
      ]
    },
    {
      "cell_type": "code",
      "source": [
        "#11. Write a Python program that uses a try-except block to handle an error when attempting to access a dictionary key that doesn't exist."
      ],
      "metadata": {
        "id": "AzyWXOnoqrvo"
      },
      "execution_count": null,
      "outputs": []
    },
    {
      "cell_type": "code",
      "source": [
        "my_dict= {\"name\":\"Ankit\", \"age\":25}\n",
        "\n",
        "try:\n",
        "  value = my_dict[\"address\"]\n",
        "except KeyError as e:\n",
        "  print(\"not found in dictionary\")\n",
        "else:\n",
        "  print(value)"
      ],
      "metadata": {
        "colab": {
          "base_uri": "https://localhost:8080/"
        },
        "id": "Twb-_zdFqukD",
        "outputId": "3d08e97c-ff2e-49bc-d2da-46197aeea2c6"
      },
      "execution_count": null,
      "outputs": [
        {
          "output_type": "stream",
          "name": "stdout",
          "text": [
            "not found in dictionary\n"
          ]
        }
      ]
    },
    {
      "cell_type": "code",
      "source": [
        "#12. Write a program that demonstrates using multiple except blocks to handle different types of exceptions.\n",
        "# Program to demonstrate multiple except blocks\n",
        "\n",
        "try:\n",
        "    # User input for\n",
        "    num = int(input(\"Enter a number to divide: \"))\n",
        "    divisor = int(input(\"Enter a divisor: \"))\n",
        "\n",
        "    result = num / divisor\n",
        "\n",
        "    print(f\"Result of {num} / {divisor} = {result}\")\n",
        "\n",
        "except ValueError:\n",
        "    print(\"Error: Please enter a valid integer.\")\n",
        "\n",
        "except ZeroDivisionError:\n",
        "    print(\"Error: Division by zero is not allowed.\")\n",
        "\n",
        "except Exception as e:\n",
        "    print(f\"An unexpected error occurred: {e}\")\n",
        "\n"
      ],
      "metadata": {
        "colab": {
          "base_uri": "https://localhost:8080/"
        },
        "id": "rwF81UM0rwfD",
        "outputId": "466013a2-bf26-479f-a2a5-9bdffae15dbc"
      },
      "execution_count": null,
      "outputs": [
        {
          "output_type": "stream",
          "name": "stdout",
          "text": [
            "Enter a number to divide: a\n",
            "Error: Please enter a valid integer.\n"
          ]
        }
      ]
    },
    {
      "cell_type": "code",
      "source": [
        "#13. How would you check if a file exists before attempting to read it in Python?\n",
        "\n",
        "import os\n",
        "\n",
        "file_path =\"example.txt\"\n",
        "\n",
        "if os.path.exists(file_path):\n",
        "  with open (file_path, 'r') as file:\n",
        "    content = file.read()\n",
        "    print(content)\n",
        "\n",
        "else:\n",
        "  print(f\"The file'{file_path}' does not exist\")"
      ],
      "metadata": {
        "colab": {
          "base_uri": "https://localhost:8080/"
        },
        "id": "4imxdwnts9xY",
        "outputId": "fe40d8da-fce9-40d4-8ce6-93cb07e56506"
      },
      "execution_count": null,
      "outputs": [
        {
          "output_type": "stream",
          "name": "stdout",
          "text": [
            "Hello,i am Ankit \n",
            "This is new data appended to the file.\n"
          ]
        }
      ]
    },
    {
      "cell_type": "code",
      "source": [
        "#14.Write a program that uses the logging module to log both informational and error messages?\n",
        "\n",
        "import logging\n",
        "\n",
        "\n",
        "logging.basicConfig(\n",
        "    level=logging.DEBUG,\n",
        "    format='%(asctime)s - %(levelname)s - %(message)s',\n",
        "    handlers=[\n",
        "        logging.FileHandler('app.log'),\n",
        "        logging.StreamHandler()\n",
        "    ]\n",
        ")\n",
        "\n",
        "\n",
        "logging.info(\"This is an informational message.\")\n",
        "\n",
        "\n",
        "try:\n",
        "    x = 10 / 0\n",
        "except ZeroDivisionError as e:\n",
        "    logging.error(f\"An error occurred: {e}\")\n",
        "\n"
      ],
      "metadata": {
        "colab": {
          "base_uri": "https://localhost:8080/"
        },
        "id": "Xt-U_4VZy8m1",
        "outputId": "4d216556-f59d-425b-f183-42f427e6bc1b"
      },
      "execution_count": 27,
      "outputs": [
        {
          "output_type": "stream",
          "name": "stderr",
          "text": [
            "ERROR:root:An error occurred: division by zero\n"
          ]
        }
      ]
    },
    {
      "cell_type": "code",
      "source": [
        "#15. Write a Python program that prints the content of a file and handles the case when the file is empty.\n",
        "\n",
        "file_path = \"example.txt\"\n",
        "\n",
        "try:\n",
        "\n",
        "    with open(file_path, 'r') as file:\n",
        "        content = file.read().strip()\n",
        "\n",
        "        if not content:\n",
        "            print(f\"The file '{file_path}' is empty.\")\n",
        "        else:\n",
        "            print(f\"Content of the file '{file_path}':\")\n",
        "            print(content)\n",
        "\n",
        "except FileNotFoundError:\n",
        "    print(f\"Error: The file '{file_path}' does not exist.\")\n",
        "except Exception as e:\n",
        "    print(f\"An unexpected error occurred: {e}\")\n"
      ],
      "metadata": {
        "colab": {
          "base_uri": "https://localhost:8080/"
        },
        "id": "5HFhmCxtzSRh",
        "outputId": "e5a66f5d-1db1-4e4e-e4ee-89043c09f6b9"
      },
      "execution_count": 28,
      "outputs": [
        {
          "output_type": "stream",
          "name": "stdout",
          "text": [
            "Content of the file 'example.txt':\n",
            "Hello,i am Ankit \n",
            "This is new data appended to the file.\n"
          ]
        }
      ]
    },
    {
      "cell_type": "code",
      "source": [
        "#16. Demonstrate how to use memory profiling to check the memory usage of a small program\n",
        "\n",
        "!pip install memory_profiler\n",
        "from memory_profiler import profile\n",
        "\n",
        "@profile\n",
        "def my_function():\n",
        "    a = [i for i in range(1000)]\n",
        "    b = [i**2 for i in range(1000)]\n",
        "    result = sum(a) + sum(b)\n",
        "    print(f\"Sum of elements: {result}\")\n",
        "    return result\n",
        "\n",
        "if __name__ == \"__main__\":\n",
        "    my_function()\n"
      ],
      "metadata": {
        "colab": {
          "base_uri": "https://localhost:8080/"
        },
        "id": "6nvT7vTHzyF1",
        "outputId": "2c3f14b3-955a-46c7-e6a4-e4f97a915951"
      },
      "execution_count": 29,
      "outputs": [
        {
          "output_type": "stream",
          "name": "stdout",
          "text": [
            "Collecting memory_profiler\n",
            "  Downloading memory_profiler-0.61.0-py3-none-any.whl.metadata (20 kB)\n",
            "Requirement already satisfied: psutil in /usr/local/lib/python3.11/dist-packages (from memory_profiler) (5.9.5)\n",
            "Downloading memory_profiler-0.61.0-py3-none-any.whl (31 kB)\n",
            "Installing collected packages: memory_profiler\n",
            "Successfully installed memory_profiler-0.61.0\n",
            "ERROR: Could not find file /tmp/ipython-input-768905296.py\n",
            "Sum of elements: 333333000\n"
          ]
        }
      ]
    },
    {
      "cell_type": "code",
      "source": [
        "#17. Write a Python program to create and write a list of numbers to a file, one number per line.\n",
        "\n",
        "numbers_list = [10,20,30,40,50]\n",
        "file_name = \"my _numbers.txt\"\n",
        "\n",
        "with open(file_name, 'w') as file:\n",
        "  for number in numbers_list:\n",
        "    file.write(f\"{number}\\n\")\n",
        "\n",
        "print (f\"sucessfully wrote number to {file_name}\")"
      ],
      "metadata": {
        "colab": {
          "base_uri": "https://localhost:8080/"
        },
        "id": "Fbqtn1ye0L_g",
        "outputId": "f729b7c3-aaaf-4cc6-a498-e301a678fcad"
      },
      "execution_count": 30,
      "outputs": [
        {
          "output_type": "stream",
          "name": "stdout",
          "text": [
            "sucessfully wrote number to my _numbers.txt\n"
          ]
        }
      ]
    },
    {
      "cell_type": "code",
      "source": [
        "#18.How would you implement a basic logging setup that logs to a file with rotation after 1MB?\n",
        "\n",
        "\n",
        "import logging\n",
        "from logging.handlers import RotatingFileHandler\n",
        "\n",
        "\n",
        "log_file = \"app.log\"\n",
        "\n",
        "handler = RotatingFileHandler(log_file, maxBytes=1 * 1024 * 1024, backupCount=3)\n",
        "\n",
        "\n",
        "logging.basicConfig(\n",
        "    level=logging.INFO,  # Log level set to INFO (will log INFO, WARNING, ERROR, CRITICAL)\n",
        "    format='%(asctime)s - %(levelname)s - %(message)s',  # Log message format\n",
        "    handlers=[handler]  # Add the rotating file handler to the logger\n",
        ")\n",
        "\n",
        "# Example log messages\n",
        "logging.info(\"This is an informational message.\")\n",
        "logging.warning(\"This is a warning message.\")\n",
        "logging.error(\"This is an error message.\")\n",
        "\n",
        "# Simulate more logging messages to fill the log file\n",
        "for i in range(1000):\n",
        "    logging.debug(f\"Debug message #{i}\")"
      ],
      "metadata": {
        "colab": {
          "base_uri": "https://localhost:8080/"
        },
        "id": "UBw0px2z1RZw",
        "outputId": "5bc2a362-c411-41a3-eac8-85ad9a04c556"
      },
      "execution_count": 31,
      "outputs": [
        {
          "output_type": "stream",
          "name": "stderr",
          "text": [
            "WARNING:root:This is a warning message.\n",
            "ERROR:root:This is an error message.\n"
          ]
        }
      ]
    },
    {
      "cell_type": "code",
      "source": [
        "#19. Write a program that handles both IndexError and KeyError using a try-except block.\n",
        "\n",
        "my_list = [1,2,3,4]\n",
        "my_dict = {\"name\":\"Ankit\", \"age\": 36 }\n",
        "\n",
        "try:\n",
        "  print(my_list[5])\n",
        "  print (my_dict[\"address\"])\n",
        "except IndexError as e:\n",
        "  print(f\"IndexError occured:{e}\")\n",
        "\n",
        "except KeyError as e:\n",
        "  print(f\"KeyError occured: {e}\")\n"
      ],
      "metadata": {
        "colab": {
          "base_uri": "https://localhost:8080/"
        },
        "id": "0ARag1pN1k3N",
        "outputId": "c9dd0a35-70a4-4fe4-88a0-39e640fb1aff"
      },
      "execution_count": 32,
      "outputs": [
        {
          "output_type": "stream",
          "name": "stdout",
          "text": [
            "IndexError occured:list index out of range\n"
          ]
        }
      ]
    },
    {
      "cell_type": "code",
      "source": [
        "#20. How would you open a file and read its contents using a context manager in Python?\n",
        "\n",
        "file_path = \"example.txt\"\n",
        "\n",
        "with open(file_path, 'r') as file:\n",
        "  content = file.read()\n",
        "\n",
        "  if content:\n",
        "    print(content)\n",
        "  else:\n",
        "    print(\"The file is empty.\")"
      ],
      "metadata": {
        "colab": {
          "base_uri": "https://localhost:8080/"
        },
        "id": "eMRptKxl2x0F",
        "outputId": "e4584a76-cf21-417c-fb37-fd3535931a03"
      },
      "execution_count": 33,
      "outputs": [
        {
          "output_type": "stream",
          "name": "stdout",
          "text": [
            "Hello,i am Ankit \n",
            "This is new data appended to the file.\n"
          ]
        }
      ]
    },
    {
      "cell_type": "code",
      "source": [
        "#21. Write a Python program that reads a file and prints the number of occurrences of a specific word.\n",
        "\n",
        "def count_word_occurrences(file_path, target_word):\n",
        "    try:\n",
        "        with open(file_path, 'r') as file:\n",
        "                      word_count = 0\n",
        "                      for line in file:\n",
        "                                word_count += line.lower().split().count(target_word.lower())\n",
        "\n",
        "        return word_count\n",
        "\n",
        "    except FileNotFoundError:\n",
        "        print(f\"Error: The file '{file_path}' does not exist.\")\n",
        "        return 0\n",
        "\n",
        "file_path = \"example.txt\"\n",
        "target_word = \"python\"\n",
        "\n",
        "occurrences = count_word_occurrences(file_path, target_word)\n",
        "\n",
        "if occurrences > 0:\n",
        "    print(f\"The word '{target_word}' occurs {occurrences} time(s) in the file.\")\n",
        "else:\n",
        "    print(f\"The word '{target_word}' does not occur in the file.\")"
      ],
      "metadata": {
        "colab": {
          "base_uri": "https://localhost:8080/"
        },
        "id": "1rI2lTW43VBN",
        "outputId": "31c1995c-b62f-4d15-ea6f-b55d12c16342"
      },
      "execution_count": 34,
      "outputs": [
        {
          "output_type": "stream",
          "name": "stdout",
          "text": [
            "The word 'python' does not occur in the file.\n"
          ]
        }
      ]
    },
    {
      "cell_type": "code",
      "source": [
        "#22. How can you check if a file is empty before attempting to read its contents?\n",
        "import os\n",
        "\n",
        "def is_file_empty(file_path):\n",
        "    return os.path.getsize(file_path) == 0\n",
        "\n",
        "file_path = \"example.txt\"\n",
        "\n",
        "if is_file_empty(file_path):\n",
        "    print(f\"The file '{file_path}' is empty.\")\n",
        "else:\n",
        "    with open(file_path, 'r') as file:\n",
        "        content = file.read()\n",
        "        print(\"File content:\")\n",
        "        print(content)\n",
        "\n"
      ],
      "metadata": {
        "colab": {
          "base_uri": "https://localhost:8080/"
        },
        "id": "XmS4usZX4DDS",
        "outputId": "5e46cc5d-eb2e-40d9-87b3-5e0424079139"
      },
      "execution_count": 35,
      "outputs": [
        {
          "output_type": "stream",
          "name": "stdout",
          "text": [
            "File content:\n",
            "Hello,i am Ankit \n",
            "This is new data appended to the file.\n"
          ]
        }
      ]
    },
    {
      "cell_type": "code",
      "source": [
        "#23. Write a Python program that writes to a log file when an error occurs during file handling.\n",
        "\n",
        "import logging\n",
        "\n",
        "logging.basicConfig(\n",
        "    filename='file_handling_errors.log',\n",
        "    level=logging.ERROR,\n",
        "    format='%(asctime)s - %(levelname)s - %(message)s'\n",
        ")\n",
        "\n",
        "def read_file(file_path):\n",
        "    try:\n",
        "        with open(file_path, 'r') as file:\n",
        "            content = file.read()\n",
        "            print(content)\n",
        "    except FileNotFoundError as e:\n",
        "        logging.error(f\"File not found: {file_path} - {e}\")\n",
        "        print(f\"Error: The file '{file_path}' was not found.\")\n",
        "    except PermissionError as e:\n",
        "        logging.error(f\"Permission error: {file_path} - {e}\")\n",
        "        print(f\"Error: Permission denied for the file '{file_path}'.\")\n",
        "    except Exception as e:\n",
        "        logging.error(f\"Unexpected error with file {file_path} - {e}\")\n",
        "        print(f\"An unexpected error occurred with the file '{file_path}'.\")\n",
        "\n",
        "file_path = \"example.txt\"\n",
        "read_file(file_path)"
      ],
      "metadata": {
        "colab": {
          "base_uri": "https://localhost:8080/"
        },
        "id": "VjP_jJBV4QtZ",
        "outputId": "4d7dbe27-b6ae-46c6-c46b-ccd984e94975"
      },
      "execution_count": 36,
      "outputs": [
        {
          "output_type": "stream",
          "name": "stdout",
          "text": [
            "Hello,i am Ankit \n",
            "This is new data appended to the file.\n"
          ]
        }
      ]
    }
  ]
}