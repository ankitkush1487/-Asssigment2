{
  "nbformat": 4,
  "nbformat_minor": 0,
  "metadata": {
    "colab": {
      "provenance": [],
      "authorship_tag": "ABX9TyPhfQPT3jDmblJJ7qyi8KYk",
      "include_colab_link": true
    },
    "kernelspec": {
      "name": "python3",
      "display_name": "Python 3"
    },
    "language_info": {
      "name": "python"
    }
  },
  "cells": [
    {
      "cell_type": "markdown",
      "metadata": {
        "id": "view-in-github",
        "colab_type": "text"
      },
      "source": [
        "<a href=\"https://colab.research.google.com/github/ankitkush1487/-Asssigment2/blob/master/OOPs.ipynb\" target=\"_parent\"><img src=\"https://colab.research.google.com/assets/colab-badge.svg\" alt=\"Open In Colab\"/></a>"
      ]
    },
    {
      "cell_type": "markdown",
      "source": [
        "\n",
        "\n",
        ">**Python OOPs Assignment Theory Questions**\n"
      ],
      "metadata": {
        "id": "WtMmlgxh6jGG"
      }
    },
    {
      "cell_type": "markdown",
      "source": [
        "**1. What is Object-Oriented Programming (OOP)?**\n",
        "\n",
        "Object-Oriented Programming (OOP) is a programming paradigm that structures software design around objects, which are instances of classes. These objects encapsulate data (attributes) and code (methods) that operate on that data, promoting modularity, reusability, and maintainability in software development."
      ],
      "metadata": {
        "id": "fiWlcGzh5x-k"
      }
    },
    {
      "cell_type": "markdown",
      "source": [
        "**2. What is a class in OOP?**\n",
        "\n",
        "In Object-Oriented Programming (OOP), a class is a blueprint or template for creating objects. It defines the structure and behaviors that the objects created from it will have. Essentially, a class provides a way to group related data and functions together, so that they can be managed in a modular way\n",
        "\n",
        "Attributes(Properties): These are variables that represent the state or data of an object. They are sometimes called fields or member variables. Every object created from the class can have different values for these attributes.\n",
        "\n",
        "Methods(Functions): These are functions that define the behavior of the objects. Methods usually operate on the object's attributes and can perform tasks like changing their values or providing output based on them.\n",
        "\n",
        "Constructor: A special method that is automatically called when a new object of the class is created. It initializes the object and sets up its attributes with initial values.\n"
      ],
      "metadata": {
        "id": "wJXU3TuD7C3C"
      }
    },
    {
      "cell_type": "markdown",
      "source": [
        "**3. What is an object in OOP?**\n",
        "\n",
        "In Object-Oriented Programming (OOP), an object is an instance of a class. While a class is the blueprint or template, an object is the actual entity created based on that blueprint.\n",
        "\n",
        "An object combines data (attributes) and functions (methods) into a single unit. It is the concrete manifestation of a class and can be thought of as an individual entity that can hold its own state and behavior.\n",
        "\n",
        "\n",
        "Instance of a Class: When you create an object, it is an instance of a particular class. A class defines the structure and behavior, and an object is a specific instantiation of that class.\n",
        "\n",
        "Attributes (State): The data that belongs to the object. These are the variables associated with the object, and each object can have its own distinct set of values for these attributes.\n",
        "\n",
        "Methods (Behavior): The functions that are associated with the object. These methods define the actions that an object can perform."
      ],
      "metadata": {
        "id": "CSUPm-dT6fJQ"
      }
    },
    {
      "cell_type": "markdown",
      "source": [
        "**4. What is the difference between abstraction and encapsulation?**\n",
        "\n",
        "**Abstraction**\n",
        "\n",
        "Abstraction is about hiding the complexity and showing only the essential features of an object or system. In other words, abstraction lets you focus on what an object does, rather than how it does it. It provides a simplified view by hiding unnecessary details.\n",
        "The goal of abstraction is to reduce complexity and allow a programmer to work with a higher-level view of the problem.\n",
        "\n",
        "Example::\n",
        "\n",
        "abstract class Animal {\n",
        "\n",
        "    abstract void makeSound();\n",
        "\n",
        "}\n",
        "\n",
        "    class Dog extends Animal {\n",
        "\n",
        "     void makeSound() {\n",
        "\n",
        "     System.out.println(\"Bark\");\n",
        "    }\n",
        "}\n",
        "\n",
        "\n",
        "\n",
        "\n",
        "**Encapsulation**\n",
        "\n",
        "Encapsulation is about bundling the data (attributes) and the methods (functions) that operate on that data into a single unit (class). It also refers to restricting access to some of an object’s internal state or data and controlling how that data is accessed or modified. This is done using private or protected access modifiers.\n",
        "Encapsulation helps to protect the object’s data from unauthorized access and modification. It makes sure that the object’s state remains consistent.\n",
        "\n",
        "Example::\n",
        "\n",
        "class Person {\n",
        "\n",
        "    private String name;  \n",
        "\n",
        "    public String getName() {\n",
        "        return name;\n",
        "    }\n",
        "\n",
        "    public void setName(String name) {\n",
        "        this.name = name;\n",
        "    }\n",
        "}\n"
      ],
      "metadata": {
        "id": "2q5UdPII8OLN"
      }
    },
    {
      "cell_type": "markdown",
      "source": [
        "**5. What are dunder methods in Python?**\n",
        "\n",
        "\n",
        "Dunder methods, also known as magic methods, are special methods in Python that have double underscores at both the beginning and end of their names (e.g., __init__, __str__, __add__). The term \"dunder\" is a contraction of \"double underscore.\"\n",
        "\n",
        "These methods are integral to Python's object model and allow you to define how your custom classes interact with built-in operations and functions. They are not explicitly called by the programmer in most cases; instead, they are invoked automatically by Python when certain operations are performed on an object\n",
        "\n",
        "class Book:\n",
        "\n",
        "    def __init__(self, title):\n",
        "        self.title = title\n",
        "\n",
        "    def __str__(self):\n",
        "        return f\"Book title: {self.title}\"\n",
        "\n",
        "    def __len__(self):\n",
        "        return len(self.title)\n",
        "\n",
        "book = Book(\"Python Basics\")\n",
        "\n",
        "print(book)         \n",
        "print(len(book))    \n"
      ],
      "metadata": {
        "id": "gXWd98eRZLhq"
      }
    },
    {
      "cell_type": "markdown",
      "source": [
        "**6. Explain the concept of inheritance in OOP.**\n",
        "\n",
        "Inheritance in Object-Oriented Programming (OOP) is a fundamental concept that allows a new class to derive properties and behaviors from an existing class. This creates a hierarchical relationship where the new class, known as the subclass, derived class, or child class, inherits attributes and methods from the existing class, known as the superclass, base class, or parent class\n",
        "\n",
        "Reusability: The child class can use the code from the parent class, avoiding repetition.\n",
        "\n",
        "Extension: The child class can add new attributes and methods or override (change) the parent class's methods.\n",
        "\n",
        "\n",
        "class Animal:\n",
        "\n",
        "    def speak(self):\n",
        "\n",
        "        print(\"Animal speaks\")\n",
        "\n",
        "class Dog(Animal):\n",
        "\n",
        "    def bark(self):\n",
        "        print(\"Dog barks\")\n",
        "\n",
        "\n",
        "d = Dog()\n",
        "\n",
        "d.speak()\n",
        "\n",
        "d.bark()   \n"
      ],
      "metadata": {
        "id": "KGMVF8h0Z8Mz"
      }
    },
    {
      "cell_type": "markdown",
      "source": [
        "**7. What is polymorphism in OOP?**\n",
        "\n",
        "\n",
        "Polymorphism in object-oriented programming (OOP) is the ability of an object to take on many forms. It allows objects of different classes to be treated as objects of a common type, enabling a single interface to be used for different underlying implementations. This concept is fundamental to OOP and allows for greater flexibility, code reusability, and maintainability\n",
        "\n",
        "class Circle:\n",
        "\n",
        "    def area(self):\n",
        "        return 3.14 * 5 * 5  # radius = 5\n",
        "\n",
        "class Square:\n",
        "\n",
        "    def area(self):\n",
        "        return 4 * 4  # side = 4\n",
        "\n",
        "def print_area(shape):\n",
        "\n",
        "    print(\"Area:\", shape.area())\n",
        "\n",
        "\n",
        "c = Circle()\n",
        "\n",
        "s = Square()\n",
        "\n",
        "print_area(c)\n",
        "\n",
        "print_area(s)  \n"
      ],
      "metadata": {
        "id": "f3041-oda3Px"
      }
    },
    {
      "cell_type": "markdown",
      "source": [
        "**8. How is encapsulation achieved in Python?**\n",
        "\n",
        "Encapsulation in Python is achieved by bundling data (attributes) and methods that operate on that data within a single unit, which is a class. While Python does not have strict access modifiers like public, private, and protected keywords found in some other object-oriented languages (e.g., Java), it achieves encapsulation through conventions and mechanisms like:\n",
        "\n",
        "**Private Attributes:**\n",
        "\n",
        " Add __ before an attribute to make it private.\n",
        "\n",
        "class Person:\n",
        "    def __init__(self, name):\n",
        "        self.__name = name  # Private attribute\n",
        "\n",
        "\n",
        "**Public Methods:**\n",
        "\n",
        " Use methods (functions) to access or modify private data.\n",
        "\n",
        "class Person:\n",
        "    def __init__(self, name):\n",
        "        self.__name = name\n",
        "\n",
        "    def get_name(self):  # Getter method\n",
        "        return self.__name\n",
        "\n",
        "**Getter and Setter:**\n",
        "\n",
        " Use getter methods to access private attributes and setter methods to modify them.\n",
        "\n",
        "class Person:\n",
        "    def __init__(self, name):\n",
        "        self.__name = name\n",
        "\n",
        "    def get_name(self):\n",
        "        return self.__name\n",
        "\n",
        "    def set_name(self, name):\n",
        "        self.__name = name"
      ],
      "metadata": {
        "id": "UW4X01bohAa9"
      }
    },
    {
      "cell_type": "markdown",
      "source": [
        "**9. What is a constructor in Python?**\n",
        "\n",
        "In Python, a constructor is a special method within a class that is automatically invoked when a new object (instance) of that class is created. Its primary purpose is to initialize the attributes or state of the newly created object.\n",
        "\n",
        "A constructor in Python is a special method called __init__(). It is automatically called when an object of a class is created. The constructor is used to initialize the object's attributes.\n",
        "\n",
        "class Student:\n",
        "\n",
        "    def __init__(self, name, age):\n",
        "        self.name = name\n",
        "        self.age = age\n",
        "\n",
        "\n",
        "s = Student(\"Ankit\", 21)\n",
        "\n",
        "print(s.name)  \n",
        "print(s.age)   \n"
      ],
      "metadata": {
        "id": "gkhbadV_iCZ7"
      }
    },
    {
      "cell_type": "markdown",
      "source": [
        "**10. What are class and static methods in Python.**\n",
        "\n",
        "**Class Methods:**\n",
        "\n",
        "Class methods are bound to the class and receive the class itself as their first argument, conventionally named cls.\n",
        "\n",
        "They are defined using the @classmethod decorator.\n",
        "Class methods can access and modify class-level attributes.\n",
        "\n",
        "They are often used for alternative constructors, factory methods, or operations that affect the class as a whole.\n",
        "\n",
        "\n",
        "class Student:\n",
        "\n",
        "    school_name = \"ABC School\"\n",
        "\n",
        "    @classmethod\n",
        "    def change_school(cls, name):\n",
        "        cls.school_name = name\n",
        "\n",
        "Student.change_school(\"XYZ School\")\n",
        "\n",
        "print(Student.school_name)  \n",
        "\n",
        "\n",
        "\n",
        "**Static Methods:**\n",
        "\n",
        "Static methods are not bound to the class or any instance. They do not receive self (instance) or cls (class) as their first argument.\n",
        "They are defined using the @staticmethod decorator.\n",
        "Static methods are essentially regular functions that are placed within a class for organizational purposes, without requiring access to class or instance state.\n",
        "They are typically used for utility functions that perform tasks related to the class but do not depend on its internal state.\n",
        "\n",
        "\n",
        "class MyClass:\n",
        "\n",
        "    @staticmethod\n",
        "    def greet(name):\n",
        "        print(f\"Hello, {name}!\")\n",
        "\n",
        "\n",
        "MyClass.greet(\"Alice\")"
      ],
      "metadata": {
        "id": "cAWi-fBGji56"
      }
    },
    {
      "cell_type": "markdown",
      "source": [
        "**11. What is method overloading in Python?**\n",
        "\n",
        "Method overloading in Python refers to the concept where a single method name can be used to perform different operations based on the number or type of arguments passed to it. While Python does not support classical method overloading as seen in languages like Java or C++ (where multiple methods with the same name but different signatures can coexist), it achieves similar functionality through different mechanism\n",
        "\n",
        "\n",
        "    class Calculator:\n",
        "        def add(self, a, b=0):\n",
        "            return a + b\n",
        "\n",
        "    calc = Calculator()\n",
        "    print(calc.add(5))       \n",
        "    print(calc.add(5, 3))    "
      ],
      "metadata": {
        "id": "YqB-Ls3Ukze6"
      }
    },
    {
      "cell_type": "markdown",
      "source": [
        "**12. What is method overriding in OOP?**\n",
        "\n",
        "Method overriding in OOP is when a subclass provides its own implementation of a method that is already defined in its parent class. The subclass method has the same name and signature but a different behavior.\n",
        "\n",
        "Example:\n",
        "\n",
        "class Animal:\n",
        "\n",
        "    def speak(self):\n",
        "        print(\"Animal speaks\")\n",
        "\n",
        "class Dog(Animal):\n",
        "\n",
        "    def speak(self):\n",
        "        print(\"Dog barks\")\n",
        "\n",
        "\n",
        "dog = Dog()\n",
        "\n",
        "dog.speak()"
      ],
      "metadata": {
        "id": "b52WSbN2lW0X"
      }
    },
    {
      "cell_type": "markdown",
      "source": [
        "**13. What is a property decorator in Python?**\n",
        "\n",
        "The @property decorator in Python allows you to define a method as an attribute, so you can access it like an attribute, but still run logic (like a method) behind the scenes.\n",
        "\n",
        "Example:\n",
        "\n",
        "class Circle:\n",
        "\n",
        "    def __init__(self, radius):\n",
        "        self._radius = radius\n",
        "\n",
        "    @property\n",
        "    def radius(self):\n",
        "        return self._radius\n",
        "\n",
        "    @property\n",
        "    def area(self):  \n",
        "        return 3.14 * self._radius ** 2\n",
        "\n",
        "\n",
        "circle = Circle(5)\n",
        "\n",
        "print(circle.radius)  \n",
        "\n",
        "print(circle.area)"
      ],
      "metadata": {
        "id": "CMmc5GxUmBKa"
      }
    },
    {
      "cell_type": "markdown",
      "source": [
        "**14. Why is polymorphism important in OOP?**\n",
        "\n",
        "\n",
        "Polymorphism is a core concept in Object-Oriented Programming (OOP) that means \"many forms.\" It allows objects of different classes to be treated as objects of a common superclass, especially when they share a method name or interface.\n",
        "\n",
        "class Dog:\n",
        "\n",
        "    def speak(self):\n",
        "        print(\"Bark\")\n",
        "\n",
        "class Cat:\n",
        "\n",
        "    def speak(self):\n",
        "        print(\"Meow\")\n",
        "\n",
        "def make_animal_speak(animal):\n",
        "\n",
        "    animal.speak()  # Polymorphism in action\n",
        "\n",
        "make_animal_speak(Dog())  \n",
        "make_animal_speak(Cat())"
      ],
      "metadata": {
        "id": "E9eOp9zJok0-"
      }
    },
    {
      "cell_type": "markdown",
      "source": [
        "**15. What is an abstract class in Python?**\n",
        "\n",
        "An abstract class in Python is a class that cannot be instantiated directly. It is meant to be a blueprint for other classes. Abstract classes can have abstract methods (methods without implementation), which must be implemented by subclasses\n",
        "\n",
        "Example:\n",
        "\n",
        "from abc import ABC, abstractmethod\n",
        "\n",
        "class Animal(ABC):\n",
        "\n",
        "    @abstractmethod\n",
        "    def speak(self):  # Abstract method\n",
        "        pass\n",
        "\n",
        "class Dog(Animal):\n",
        "\n",
        "    def speak(self):  # Implementing the abstract method\n",
        "        print(\"Bark\")\n",
        "\n",
        "\n",
        "dog = Dog()\n",
        "\n",
        "dog.speak()"
      ],
      "metadata": {
        "id": "rFAJ83WNpARz"
      }
    },
    {
      "cell_type": "markdown",
      "source": [
        "**16. What are the advantages of OOP?**\n",
        "\n",
        "The advantages of Object-Oriented Programming (OOP) are:\n",
        "\n",
        "Modularity: Code is organized into classes and objects, making it easier to manage and update.\n",
        "\n",
        "Reusability: You can reuse code through inheritance and create new functionality without changing existing code.\n",
        "\n",
        "Scalability: OOP makes it easier to scale and extend applications as you can add new classes and features without affecting existing ones.\n",
        "\n",
        "Maintainability: Since objects are self-contained, it's easier to fix bugs and make changes to the code.\n",
        "\n",
        "Encapsulation: Keeps data safe by restricting direct access to it, and ensures data integrity by using methods for interaction.\n",
        "\n",
        "Flexibility (Polymorphism): Allows different objects to be treated as the same type, making the code more flexible and reusable."
      ],
      "metadata": {
        "id": "pOFsE0iPpeKF"
      }
    },
    {
      "cell_type": "markdown",
      "source": [
        "**17. What is the difference between a class variable and an instance variable.**\n",
        "\n",
        "Class Variable:\n",
        "\n",
        "Shared by all instances of the class.\n",
        "Defined directly within the class (outside any methods).\n",
        "Changes to the class variable affect all instances.\n",
        "\n",
        "Instance Variable:\n",
        "Unique to each instance (object) of the class.\n",
        "Defined within methods (usually in __init__).\n",
        "Each object can have different values for its instance variables.\n",
        "\n",
        "\n",
        "class Dog:\n",
        "\n",
        "    species = \"Canine\"  # Class variable\n",
        "\n",
        "    def __init__(self, name):\n",
        "        self.name = name  \n",
        "\n",
        "\n",
        "dog1 = Dog(\"Buddy\")\n",
        "\n",
        "dog2 = Dog(\"Max\")\n",
        "\n",
        "print(dog1.species)\n",
        "\n",
        "print(dog2.species)  \n",
        "\n",
        "print(dog1.name)    \n",
        "\n",
        "print(dog2.name)"
      ],
      "metadata": {
        "id": "GPi60x7zpuXa"
      }
    },
    {
      "cell_type": "markdown",
      "source": [
        "**18. What is multiple inheritance in Python?**\n",
        "\n",
        "\n",
        "\n",
        "Multiple inheritance in Python is a feature that allows a class to inherit attributes and methods from more than one parent (or base) class. This means a single child class can combine the functionalities of multiple distinct parent classes.\n",
        "\n",
        "    class Parent1:\n",
        "        def method1(self):\n",
        "            print(\"Method from Parent1\")\n",
        "\n",
        "    class Parent2:\n",
        "        def method2(self):\n",
        "            print(\"Method from Parent2\")\n",
        "\n",
        "    class Child(Parent1, Parent2):\n",
        "        def method_child(self):\n",
        "            print(\"Method from Child\")\n",
        "\n",
        "\n",
        "    obj = Child()\n",
        "    obj.method1()  \n",
        "    obj.method2()  \n",
        "    obj.method_child()\n"
      ],
      "metadata": {
        "id": "zTIr_brHqKlF"
      }
    },
    {
      "cell_type": "markdown",
      "source": [
        "**19.Explain the purpose of __str__ and __repr__ methods in Python.**\n",
        "\n",
        "In Python, __str__ and __repr__ are special methods (often called \"dunder methods\" for \"double underscore\") that define how an object is represented as a string. While both return a string, their intended purposes differ significantly:\n",
        "\n",
        "__str__ (for \"string\"):\n",
        "\n",
        "Purpose: To provide an easily readable, \"informal\" string representation of an object, primarily intended for human consumption.\n",
        "\n",
        "Use Cases: Displaying information to users, logging, or when you use print() on an object.\n",
        "\n",
        "Goal: Readability. The output should be user-friendly and concise.\n",
        "\n",
        "class Dog:\n",
        "\n",
        "    def __init__(self, name):\n",
        "        self.name = name\n",
        "\n",
        "    def __str__(self):\n",
        "        return f\"Dog named {self.name}\"\n",
        "\n",
        "dog = Dog(\"Buddy\")\n",
        "\n",
        "print(dog)\n",
        "\n",
        "\n",
        "\n",
        "__repr__ (for \"representation\"):\n",
        "\n",
        "Purpose: To provide an \"official\" or \"unambiguous\" string representation of an object, primarily intended for developers and debugging.\n",
        "\n",
        "Use Cases: Debugging, interactive console sessions, or when you need a string that could potentially be used to recreate the object.\n",
        "\n",
        "Goal: Unambiguity. The output should ideally be a valid Python expression that, when evaluated, would recreate an equivalent object. If this is not feasible, it should at least provide enough information to unambiguously identify the object's state.\n",
        "\n",
        "class Dog:\n",
        "\n",
        "    def __init__(self, name):\n",
        "        self.name = name\n",
        "\n",
        "    def __repr__(self):\n",
        "        return f\"Dog('{self.name}')\"\n",
        "\n",
        "dog = Dog(\"Buddy\")\n",
        "\n",
        "print(repr(dog))\n"
      ],
      "metadata": {
        "id": "djEHwtTIqov0"
      }
    },
    {
      "cell_type": "markdown",
      "source": [
        "**20. What is the significance of the super() function in Python.**\n",
        "\n",
        "\n",
        "The super() function is used to give access to methods and properties of a parent or sibling class. The super() function returns an object that represents the parent class.\n",
        "\n",
        "1. Access parent class methods\n",
        "Without hardcoding the parent class name.\n",
        "\n",
        "2. Support multiple inheritance\n",
        "Ensures the correct Method Resolution Order (MRO) is followed.\n",
        "\n",
        "3. Avoid code duplication\n",
        "Useful for extending the behavior of a parent class method rather than completely overriding it.\n",
        "\n",
        "\n",
        "class Parent:\n",
        "\n",
        "    def show(self):\n",
        "        print(\"Parent class\")\n",
        "\n",
        "class Child(Parent):\n",
        "\n",
        "    def show(self):\n",
        "        super().show()\n",
        "        print(\"Child class\")\n",
        "\n",
        "c = Child()\n",
        "\n",
        "c.show()\n"
      ],
      "metadata": {
        "id": "X33hjMWHrHDb"
      }
    },
    {
      "cell_type": "markdown",
      "source": [
        "**21. What is the significance of the __del__ method in Python?**\n",
        "\n",
        "The __del__ method in Python serves as a destructor or finalizer for a class. It is a special method that is automatically called by the Python interpreter when an object is about to be garbage collected, meaning its reference count drops to zero and no other part of the program refers to it.\n",
        "\n",
        "\n",
        "class Person:\n",
        "\n",
        "    def __init__(self, name):\n",
        "        self.name = name\n",
        "        print(f\"{self.name} is created\")\n",
        "\n",
        "    def __del__(self):\n",
        "        print(f\"{self.name} is destroyed\")\n",
        "\n",
        "p = Person(\"Ankit\")\n",
        "\n",
        "del p  \n"
      ],
      "metadata": {
        "id": "H4LCNy5ksFIV"
      }
    },
    {
      "cell_type": "markdown",
      "source": [
        "**22. What is the difference between @staticmethod and @classmethod in Python?**\n",
        "\n",
        "\n",
        "The primary difference between @staticmethod and @classmethod in Python lies in their access to the class and instance state:\n",
        "\n",
        "@classmethod:\n",
        "\n",
        "Takes the class itself as its first argument, conventionally named cls.\n",
        "Can access and modify class-level attributes.\n",
        "\n",
        "Commonly used for factory methods (alternative constructors) or methods that operate on class-level data.\n",
        "\n",
        "    class MyClass:\n",
        "\n",
        "        class_attribute = \"I am a class attribute\"\n",
        "\n",
        "        @classmethod\n",
        "        def create_instance(cls, value):\n",
        "            return cls(value) # Creates a new instance of MyClass\n",
        "\n",
        "        @classmethod\n",
        "        def modify_class_attribute(cls, new_value):\n",
        "            cls.class_attribute = new_value\n",
        "\n",
        "@staticmethod:\n",
        "\n",
        "Does not take any specific first argument (neither self for instance nor cls for class).\n",
        "\n",
        "Cannot access or modify instance-specific or class-specific data directly within the method.\n",
        "\n",
        "Essentially a regular function that is logically grouped within a class, often for utility purposes.\n",
        "\n",
        "    class MathOperations:\n",
        "        @staticmethod\n",
        "        def add(a, b):\n",
        "            return a + b\n",
        "\n",
        "        @staticmethod\n",
        "        def multiply(a, b):\n",
        "            return a * b"
      ],
      "metadata": {
        "id": "jLDtU5Ydstgb"
      }
    },
    {
      "cell_type": "markdown",
      "source": [
        "**23. How does polymorphism work in Python with inheritance?**\n",
        "\n",
        "Polymorphism in Python, particularly in conjunction with inheritance, allows objects of different classes to be treated as instances of a common base class, while each object responds to the same method call in a way specific to its own class. This is primarily achieved through method overriding.\n",
        "\n",
        "\n",
        "class Animal:\n",
        "\n",
        "    def speak(self):\n",
        "        return \"Generic animal sound\"\n",
        "\n",
        "class Dog(Animal):\n",
        "\n",
        "    def speak(self):\n",
        "        return \"Woof!\"\n",
        "\n",
        "class Cat(Animal):\n",
        "\n",
        "    def speak(self):\n",
        "        return \"Meow!\"\n",
        "\n",
        "def make_sound(animal):\n",
        "\n",
        "    print(animal.speak())\n",
        "\n",
        "\n",
        "dog = Dog()\n",
        "\n",
        "cat = Cat()\n",
        "\n",
        "animal = Animal()\n",
        "\n",
        "\n",
        "make_sound(dog)  \n",
        "\n",
        "make_sound(cat)\n",
        "\n",
        "make_sound(animal)"
      ],
      "metadata": {
        "id": "LJfEP9W0tOKK"
      }
    },
    {
      "cell_type": "markdown",
      "source": [
        "**24. What is method chaining in Python OOP?**\n",
        "\n",
        "Method chaining in Python Object-Oriented Programming (OOP) is a technique where multiple method calls are invoked sequentially on the same object in a single line of code. This is achieved by having each method return the instance of the object (self) after performing its operation.\n",
        "\n",
        "class Calculator:\n",
        "    def __init__(self, value=0):\n",
        "        self.value = value\n",
        "\n",
        "    def add(self, num):\n",
        "        self.value += num\n",
        "        return self  # Return self for chaining\n",
        "\n",
        "    def subtract(self, num):\n",
        "        self.value -= num\n",
        "        return self  # Return self for chaining\n",
        "\n",
        "    def get_result(self):\n",
        "        return self.value\n",
        "\n",
        "\n",
        "result = Calculator(10).add(5).subtract(2).get_result()\n",
        "\n",
        "print(result)"
      ],
      "metadata": {
        "id": "wGCD7CO1uCLZ"
      }
    },
    {
      "cell_type": "markdown",
      "source": [
        "**25. What is the purpose of the __call__ method in Python?**\n",
        "\n",
        "The purpose of the __call__ method in Python is to enable instances of a class to be called as if they were functions. When an object that has a __call__ method defined is invoked using parentheses, like obj(), the __call__ method of that object is automatically executed.\n",
        "\n",
        "\n",
        "class Adder:\n",
        "\n",
        "    def __init__(self, value):\n",
        "        self.value = value\n",
        "\n",
        "    def __call__(self, x):\n",
        "        return self.value + x  \n",
        "\n",
        "\n",
        "add_five = Adder(5)\n",
        "\n",
        "\n",
        "result = add_five(10)  \n",
        "print(result)"
      ],
      "metadata": {
        "id": "-oKkHhbtvxab"
      }
    },
    {
      "cell_type": "markdown",
      "source": [
        "**Python OOPs Assignment Practical Questions**"
      ],
      "metadata": {
        "id": "MzXVSDFW0lAw"
      }
    },
    {
      "cell_type": "markdown",
      "source": [
        "**1. Create a parent class Animal with a method speak() that prints a generic message. Create a child class Dog that overrides the speak() method to print \"Bark!\".**"
      ],
      "metadata": {
        "id": "d07SBe_20xXs"
      }
    },
    {
      "cell_type": "code",
      "source": [
        "class Animal:\n",
        "    def speak(self):\n",
        "        print(\"Animal makes a sound\")\n",
        "\n",
        "\n",
        "class Dog(Animal):\n",
        "    def speak(self):\n",
        "        print(\"Bark!\")\n",
        "\n",
        "\n",
        "dog = Dog()\n",
        "dog.speak()"
      ],
      "metadata": {
        "colab": {
          "base_uri": "https://localhost:8080/"
        },
        "id": "c3wJUyy00s0D",
        "outputId": "47461023-afed-471b-b862-e5f2d2ef55d2"
      },
      "execution_count": 1,
      "outputs": [
        {
          "output_type": "stream",
          "name": "stdout",
          "text": [
            "Bark!\n"
          ]
        }
      ]
    },
    {
      "cell_type": "markdown",
      "source": [
        "**2. Write a program to create an abstract class Shape with a method area(). Derive classes Circle and Rectangle from it and implement the area() method in both.**\n"
      ],
      "metadata": {
        "id": "UkanT1lF1Pbl"
      }
    },
    {
      "cell_type": "code",
      "source": [
        "from abc import ABC, abstractmethod\n",
        "import math\n",
        "\n",
        "# Abstract class Shape\n",
        "class Shape(ABC):\n",
        "    @abstractmethod\n",
        "    def area(self):\n",
        "        pass\n",
        "\n",
        "# Derived class Circle\n",
        "class Circle(Shape):\n",
        "    def __init__(self, radius):\n",
        "        self.radius = radius\n",
        "\n",
        "    def area(self):\n",
        "        return math.pi * self.radius ** 2  # Area of circle: π * r^2\n",
        "\n",
        "# Derived class Rectangle\n",
        "class Rectangle(Shape):\n",
        "    def __init__(self, length, width):\n",
        "        self.length = length\n",
        "        self.width = width\n",
        "\n",
        "    def area(self):\n",
        "        return self.length * self.width  # Area of rectangle: length * width\n",
        "\n",
        "# Creating objects of Circle and Rectangle\n",
        "circle = Circle(5)\n",
        "rectangle = Rectangle(4, 6)\n",
        "\n",
        "print(f\"Area of Circle: {circle.area()}\")\n",
        "print(f\"Area of Rectangle: {rectangle.area()}\")"
      ],
      "metadata": {
        "colab": {
          "base_uri": "https://localhost:8080/"
        },
        "id": "RYJDV8n41W_a",
        "outputId": "16f8b960-d992-453e-84ce-2c401ef13cd1"
      },
      "execution_count": 2,
      "outputs": [
        {
          "output_type": "stream",
          "name": "stdout",
          "text": [
            "Area of Circle: 78.53981633974483\n",
            "Area of Rectangle: 24\n"
          ]
        }
      ]
    },
    {
      "cell_type": "markdown",
      "source": [
        "**3. Implement a multi-level inheritance scenario where a class Vehicle has an attribute type. Derive a class Car and further derive a class ElectricCar that adds a battery attribute.**"
      ],
      "metadata": {
        "id": "F8mtmczB1q3y"
      }
    },
    {
      "cell_type": "code",
      "source": [
        "\n",
        "class Vehicle:\n",
        "    def __init__(self, type):\n",
        "        self.type = type\n",
        "\n",
        "    def display_type(self):\n",
        "        print(f\"This is a {self.type}.\")\n",
        "\n",
        "\n",
        "class Car(Vehicle):\n",
        "    def __init__(self, type, model):\n",
        "        super().__init__(type)\n",
        "        self.model = model\n",
        "\n",
        "    def display_model(self):\n",
        "        print(f\"This car is a {self.model}.\")\n",
        "\n",
        "class ElectricCar(Car):\n",
        "    def __init__(self, type, model, battery):\n",
        "        super().__init__(type, model)\n",
        "        self.battery = battery\n",
        "\n",
        "    def display_battery(self):\n",
        "        print(f\"This electric car has a {self.battery} battery.\")\n",
        "\n",
        "electric_car = ElectricCar(\"Electric Vehicle\", \"Tesla Model S\", \"100 kWh\")\n",
        "\n",
        "electric_car.display_type()\n",
        "electric_car.display_model()\n",
        "electric_car.display_battery()"
      ],
      "metadata": {
        "colab": {
          "base_uri": "https://localhost:8080/"
        },
        "id": "5QO4W2cP11L_",
        "outputId": "dfc9f8e7-e7db-4fa2-d4ab-54792c387370"
      },
      "execution_count": 3,
      "outputs": [
        {
          "output_type": "stream",
          "name": "stdout",
          "text": [
            "This is a Electric Vehicle.\n",
            "This car is a Tesla Model S.\n",
            "This electric car has a 100 kWh battery.\n"
          ]
        }
      ]
    },
    {
      "cell_type": "markdown",
      "source": [
        "**4. Demonstrate polymorphism by creating a base class Bird with a method fly(). Create two derived classes Sparrow and Penguin that override the fly() method.**"
      ],
      "metadata": {
        "id": "1WaLR3T12NMX"
      }
    },
    {
      "cell_type": "code",
      "source": [
        "\n",
        "class Bird:\n",
        "    def fly(self):\n",
        "        print(\"This bird can fly.\")\n",
        "\n",
        "\n",
        "class Sparrow(Bird):\n",
        "    def fly(self):\n",
        "        print(\"The sparrow flies high in the sky.\")\n",
        "\n",
        "\n",
        "class Penguin(Bird):\n",
        "    def fly(self):\n",
        "        print(\"The penguin cannot fly, it swims.\")\n",
        "\n",
        "\n",
        "sparrow = Sparrow()\n",
        "penguin = Penguin()\n",
        "\n",
        "\n",
        "sparrow.fly()\n",
        "penguin.fly()"
      ],
      "metadata": {
        "colab": {
          "base_uri": "https://localhost:8080/"
        },
        "id": "drGXD7xt2QXc",
        "outputId": "0f215549-6bb7-4883-dae1-5ed26c8f5ebe"
      },
      "execution_count": 4,
      "outputs": [
        {
          "output_type": "stream",
          "name": "stdout",
          "text": [
            "The sparrow flies high in the sky.\n",
            "The penguin cannot fly, it swims.\n"
          ]
        }
      ]
    },
    {
      "cell_type": "markdown",
      "source": [
        "**5. Write a program to demonstrate encapsulation by creating a class BankAccount with private attributes balance and methods to deposit, withdraw, and check balance.**"
      ],
      "metadata": {
        "id": "7ydRA3J82Paa"
      }
    },
    {
      "cell_type": "code",
      "source": [
        "class BankAccount:\n",
        "    def __init__(self, initial_balance=0):\n",
        "        self.__balance = initial_balance  # Private attribute\n",
        "\n",
        "    def deposit(self, amount):\n",
        "        if amount > 0:\n",
        "            self.__balance += amount\n",
        "            print(f\"Deposited: ${amount}\")\n",
        "        else:\n",
        "            print(\"Deposit amount must be positive.\")\n",
        "\n",
        "    def withdraw(self, amount):\n",
        "        if 0 < amount <= self.__balance:\n",
        "            self.__balance -= amount\n",
        "            print(f\"Withdrew: ${amount}\")\n",
        "        else:\n",
        "            print(\"Invalid withdrawal amount or insufficient balance.\")\n",
        "\n",
        "    def check_balance(self):\n",
        "        print(f\"Current Balance: ${self.__balance}\")\n",
        "\n",
        "account = BankAccount(1000)\n",
        "\n",
        "# Checking balance\n",
        "account.check_balance()\n",
        "\n",
        "# Depositing money\n",
        "account.deposit(500)\n",
        "account.check_balance()\n",
        "\n",
        "# Withdrawing money\n",
        "account.withdraw(200)\n",
        "account.check_balance()\n",
        "\n",
        "\n",
        "account.withdraw(2000)"
      ],
      "metadata": {
        "colab": {
          "base_uri": "https://localhost:8080/"
        },
        "id": "p2V5UYeI2m9q",
        "outputId": "f3587ebe-fa78-4a0e-ed38-2a41addbdf23"
      },
      "execution_count": 5,
      "outputs": [
        {
          "output_type": "stream",
          "name": "stdout",
          "text": [
            "Current Balance: $1000\n",
            "Deposited: $500\n",
            "Current Balance: $1500\n",
            "Withdrew: $200\n",
            "Current Balance: $1300\n",
            "Invalid withdrawal amount or insufficient balance.\n"
          ]
        }
      ]
    },
    {
      "cell_type": "markdown",
      "source": [
        "**6. Demonstrate runtime polymorphism using a method play() in a base class Instrument. Derive classes Guitar and Piano that implement their own version of play().**"
      ],
      "metadata": {
        "id": "Fb__ca-R3CzW"
      }
    },
    {
      "cell_type": "code",
      "source": [
        "\n",
        "# Base class Instrument\n",
        "class Instrument:\n",
        "    def play(self):\n",
        "        print(\"This instrument is being played.\")\n",
        "\n",
        "# Derived class Guitar\n",
        "class Guitar(Instrument):\n",
        "    def play(self):\n",
        "        print(\"The guitar is strumming.\")\n",
        "\n",
        "# Derived class Piano\n",
        "class Piano(Instrument):\n",
        "    def play(self):\n",
        "        print(\"The piano is being played.\")\n",
        "\n",
        "\n",
        "guitar = Guitar()\n",
        "piano = Piano()\n",
        "\n",
        "guitar.play()\n",
        "piano.play()"
      ],
      "metadata": {
        "colab": {
          "base_uri": "https://localhost:8080/"
        },
        "id": "RUZnfB5J3Em6",
        "outputId": "7b6552ec-a331-4a5f-95f7-2e583887a42d"
      },
      "execution_count": 6,
      "outputs": [
        {
          "output_type": "stream",
          "name": "stdout",
          "text": [
            "The guitar is strumming.\n",
            "The piano is being played.\n"
          ]
        }
      ]
    },
    {
      "cell_type": "markdown",
      "source": [
        "**7. Create a class MathOperations with a class method add_numbers() to add two numbers and a static method subtract_numbers() to subtract two numbers.**"
      ],
      "metadata": {
        "id": "6KrtmQcg3PDz"
      }
    },
    {
      "cell_type": "code",
      "source": [
        "class MathOperations:\n",
        "    @classmethod\n",
        "    def add_numbers(cls, a, b):\n",
        "        return a + b\n",
        "\n",
        "    @staticmethod\n",
        "    def subtract_numbers(a, b):\n",
        "        return a - b\n",
        "\n",
        "\n",
        "sum_result = MathOperations.add_numbers(10, 5)\n",
        "print(f\"Sum: {sum_result}\")\n",
        "\n",
        "\n",
        "difference_result = MathOperations.subtract_numbers(10, 5)\n",
        "print(f\"Difference: {difference_result}\")"
      ],
      "metadata": {
        "colab": {
          "base_uri": "https://localhost:8080/"
        },
        "id": "OeFDSLCu3cxd",
        "outputId": "d47dd0ee-af30-40be-8812-871e4de35c81"
      },
      "execution_count": 9,
      "outputs": [
        {
          "output_type": "stream",
          "name": "stdout",
          "text": [
            "Sum: 15\n",
            "Difference: 5\n"
          ]
        }
      ]
    },
    {
      "cell_type": "markdown",
      "source": [
        "**8. Implement a class Person with a class method to count the total number of persons created.**"
      ],
      "metadata": {
        "id": "rP7NV9jZ3xgB"
      }
    },
    {
      "cell_type": "code",
      "source": [
        "class Person:\n",
        "\n",
        "    total_persons = 0\n",
        "\n",
        "    def __init__(self, name, age):\n",
        "        self.name = name\n",
        "        self.age = age\n",
        "        Person.total_persons += 1\n",
        "\n",
        "    @classmethod\n",
        "    def get_total_persons(cls):\n",
        "        return cls.total_persons\n",
        "\n",
        "\n",
        "person1 = Person(\"Ram\", 30)\n",
        "person2 = Person(\"Aman\", 25)\n",
        "person3 = Person(\"Krishna\", 35)\n",
        "\n",
        "\n",
        "total = Person.get_total_persons()\n",
        "print(f\"Total persons created: {total}\")"
      ],
      "metadata": {
        "colab": {
          "base_uri": "https://localhost:8080/"
        },
        "id": "7c-ldi6F35gL",
        "outputId": "00a65234-e7d1-4545-eca6-7b59e5f488dd"
      },
      "execution_count": 10,
      "outputs": [
        {
          "output_type": "stream",
          "name": "stdout",
          "text": [
            "Total persons created: 3\n"
          ]
        }
      ]
    },
    {
      "cell_type": "markdown",
      "source": [
        "**9. Write a class Fraction with attributes numerator and denominator. Override the str method to display the fraction as \"numerator/denominator\".**"
      ],
      "metadata": {
        "id": "FVf4RMSy4IzM"
      }
    },
    {
      "cell_type": "code",
      "source": [
        "class Fraction:\n",
        "    def __init__(self, numerator, denominator):\n",
        "        self.numerator = numerator\n",
        "        self.denominator = denominator\n",
        "\n",
        "    def __str__(self):\n",
        "        return f\"{self.numerator}/{self.denominator}\"\n",
        "\n",
        "\n",
        "fraction = Fraction(3, 4)\n",
        "\n",
        "print(fraction)"
      ],
      "metadata": {
        "colab": {
          "base_uri": "https://localhost:8080/"
        },
        "id": "xILZpQ9p4QzY",
        "outputId": "0b9b3997-e8c3-46e6-f954-82994f469e5d"
      },
      "execution_count": 11,
      "outputs": [
        {
          "output_type": "stream",
          "name": "stdout",
          "text": [
            "3/4\n"
          ]
        }
      ]
    },
    {
      "cell_type": "markdown",
      "source": [
        "**10. Demonstrate operator overloading by creating a class Vector and overriding the add method to add two vectors**"
      ],
      "metadata": {
        "id": "1JGuNuZv4PXN"
      }
    },
    {
      "cell_type": "code",
      "source": [
        "class Vector:\n",
        "    def __init__(self, x, y):\n",
        "        self.x = x\n",
        "        self.y = y\n",
        "\n",
        "    def __add__(self, other):\n",
        "        if isinstance(other, Vector):\n",
        "\n",
        "            return Vector(self.x + other.x, self.y + other.y)\n",
        "        return NotImplemented\n",
        "\n",
        "\n",
        "    def __str__(self):\n",
        "        return f\"({self.x}, {self.y})\"\n",
        "\n",
        "\n",
        "v1 = Vector(2, 3)\n",
        "v2 = Vector(4, 5)\n",
        "v3 = v1 + v2\n",
        "\n",
        "print(f\"v1 + v2 = {v3}\")\n",
        ""
      ],
      "metadata": {
        "colab": {
          "base_uri": "https://localhost:8080/"
        },
        "id": "MHX5DfDY4htA",
        "outputId": "d81c80e0-3bcf-485f-ab05-54ed44f3b4a1"
      },
      "execution_count": 12,
      "outputs": [
        {
          "output_type": "stream",
          "name": "stdout",
          "text": [
            "v1 + v2 = (6, 8)\n"
          ]
        }
      ]
    },
    {
      "cell_type": "markdown",
      "source": [
        "**11. Create a class Person with attributes name and age. Add a method greet() that prints \"Hello, my name is {name} and I am {age} years old\".**"
      ],
      "metadata": {
        "id": "_qRRSr5f5Nqj"
      }
    },
    {
      "cell_type": "code",
      "source": [
        "class Person:\n",
        "    def __init__(self, name, age):\n",
        "        self.name = name\n",
        "        self.age = age\n",
        "\n",
        "    def greet(self):\n",
        "        print(f\"Hello, my name is {self.name} and I am {self.age} years old\")\n",
        "\n",
        "person1 = Person(\"Rahul\", 30)\n",
        "\n",
        "person1.greet()"
      ],
      "metadata": {
        "colab": {
          "base_uri": "https://localhost:8080/"
        },
        "id": "5ef_JuIm5VFo",
        "outputId": "29d94c19-3672-4ca5-b95d-c738c9f3366b"
      },
      "execution_count": 13,
      "outputs": [
        {
          "output_type": "stream",
          "name": "stdout",
          "text": [
            "Hello, my name is Rahul and I am 30 years old\n"
          ]
        }
      ]
    },
    {
      "cell_type": "markdown",
      "source": [
        "**12. Implement a class Student with attributes name and grades. Create a method average_grade() to compute the average of the grades.**"
      ],
      "metadata": {
        "id": "OYPYzmVH5hkK"
      }
    },
    {
      "cell_type": "code",
      "source": [
        "class Student:\n",
        "    def __init__(self, name, grades):\n",
        "        self.name = name\n",
        "        self.grades = grades\n",
        "\n",
        "    def average_grade(self):\n",
        "        if len(self.grades) == 0:\n",
        "            return 0\n",
        "        return sum(self.grades) / len(self.grades)\n",
        "\n",
        "\n",
        "student1 = Student(\"Rahul\", [85, 90, 78, 92])\n",
        "\n",
        "average = student1.average_grade()\n",
        "print(f\"{student1.name}'s average grade is: {average:.2f}\")"
      ],
      "metadata": {
        "colab": {
          "base_uri": "https://localhost:8080/"
        },
        "id": "eo25E2pD5j3Z",
        "outputId": "4b9eee5f-b6c8-4a92-ca02-c7376be3676b"
      },
      "execution_count": 14,
      "outputs": [
        {
          "output_type": "stream",
          "name": "stdout",
          "text": [
            "Rahul's average grade is: 86.25\n"
          ]
        }
      ]
    },
    {
      "cell_type": "markdown",
      "source": [
        "**13. Create a class Rectangle with methods set_dimensions() to set the dimensions and area() to calculate the area.**"
      ],
      "metadata": {
        "id": "MVdIM_-J5xAC"
      }
    },
    {
      "cell_type": "code",
      "source": [
        "class Rectangle:\n",
        "    def __init__(self):\n",
        "        self.length = 0\n",
        "        self.width = 0\n",
        "\n",
        "    def set_dimensions(self, length, width):\n",
        "        self.length = length\n",
        "        self.width = width\n",
        "\n",
        "    def area(self):\n",
        "        return self.length * self.width\n",
        "\n",
        "rect = Rectangle()\n",
        "\n",
        "rect.set_dimensions(5, 3)\n",
        "\n",
        "area = rect.area()\n",
        "print(f\"The area of the rectangle is: {area}\")"
      ],
      "metadata": {
        "colab": {
          "base_uri": "https://localhost:8080/"
        },
        "id": "cDIx9bHS50Kw",
        "outputId": "b8ad80e0-87f4-4694-b63a-205e79f4052f"
      },
      "execution_count": 15,
      "outputs": [
        {
          "output_type": "stream",
          "name": "stdout",
          "text": [
            "The area of the rectangle is: 15\n"
          ]
        }
      ]
    },
    {
      "cell_type": "markdown",
      "source": [
        "**14. Create a class Employee with a method calculate_salary() that computes the salary based on hours worked and hourly rate. Create a derived class Manager that adds a bonus to the salary.**"
      ],
      "metadata": {
        "id": "N52DYR4F6Jah"
      }
    },
    {
      "cell_type": "code",
      "source": [
        "class Employee:\n",
        "    def __init__(self, name, hours_worked, hourly_rate):\n",
        "        self.name = name\n",
        "        self.hours_worked = hours_worked\n",
        "        self.hourly_rate = hourly_rate\n",
        "\n",
        "    def calculate_salary(self):\n",
        "        return self.hours_worked * self.hourly_rate\n",
        "\n",
        "class Manager(Employee):\n",
        "    def __init__(self, name, hours_worked, hourly_rate, bonus):\n",
        "        super().__init__(name, hours_worked, hourly_rate)\n",
        "        self.bonus = bonus\n",
        "\n",
        "    def calculate_salary(self):\n",
        "        salary = super().calculate_salary()\n",
        "        return salary + self.bonus\n",
        "\n",
        "employee = Employee(\"Rahul\", 40, 20)\n",
        "\n",
        "manager = Manager(\"Anjali\", 40, 25, 500)\n",
        "\n",
        "employee_salary = employee.calculate_salary()\n",
        "manager_salary = manager.calculate_salary()\n",
        "\n",
        "print(f\"{employee.name}'s salary: ${employee_salary}\")\n",
        "print(f\"{manager.name}'s salary (with bonus): ${manager_salary}\")"
      ],
      "metadata": {
        "colab": {
          "base_uri": "https://localhost:8080/"
        },
        "id": "mcCSQZXW6LYf",
        "outputId": "6de24f37-4417-4c4b-9442-89b944317a60"
      },
      "execution_count": 16,
      "outputs": [
        {
          "output_type": "stream",
          "name": "stdout",
          "text": [
            "Rahul's salary: $800\n",
            "Anjali's salary (with bonus): $1500\n"
          ]
        }
      ]
    },
    {
      "cell_type": "markdown",
      "source": [
        "**15. Create a class Product with attributes name, price, and quantity. Implement a method total_price() that calculates the total price of the product.**"
      ],
      "metadata": {
        "id": "2uwp_Zqb6ldT"
      }
    },
    {
      "cell_type": "code",
      "source": [
        "class Product:\n",
        "    def __init__(self, name, price, quantity):\n",
        "        self.name = name\n",
        "        self.price = price\n",
        "        self.quantity = quantity\n",
        "\n",
        "    def total_price(self):\n",
        "        return self.price * self.quantity\n",
        "\n",
        "product1 = Product(\"Laptop\", 1000, 3)\n",
        "\n",
        "total = product1.total_price()\n",
        "\n",
        "print(f\"The total price for {product1.name} is: ${total}\")"
      ],
      "metadata": {
        "colab": {
          "base_uri": "https://localhost:8080/"
        },
        "id": "Py1-ZPjm6sRx",
        "outputId": "4abf6c59-c7f8-4765-9f5d-e621d9c195fd"
      },
      "execution_count": 17,
      "outputs": [
        {
          "output_type": "stream",
          "name": "stdout",
          "text": [
            "The total price for Laptop is: $3000\n"
          ]
        }
      ]
    },
    {
      "cell_type": "markdown",
      "source": [
        "**16. Create a class Animal with an abstract method sound(). Create two derived classes Cow and Sheep that implement the sound() method.**"
      ],
      "metadata": {
        "id": "PJF5cyEK65XU"
      }
    },
    {
      "cell_type": "code",
      "source": [
        "from abc import ABC, abstractmethod\n",
        "\n",
        "class Animal(ABC):\n",
        "    @abstractmethod\n",
        "    def sound(self):\n",
        "        pass\n",
        "\n",
        "\n",
        "class Cow(Animal):\n",
        "    def sound(self):\n",
        "        print(\"Moo\")\n",
        "\n",
        "\n",
        "class Sheep(Animal):\n",
        "    def sound(self):\n",
        "        print(\"Baa\")\n",
        "\n",
        "\n",
        "cow = Cow()\n",
        "sheep = Sheep()\n",
        "\n",
        "cow.sound()\n",
        "sheep.sound()\n",
        ""
      ],
      "metadata": {
        "colab": {
          "base_uri": "https://localhost:8080/"
        },
        "id": "R7c_KMXh67ff",
        "outputId": "4fc84bad-39ed-445e-a407-a60b4ccf1995"
      },
      "execution_count": 18,
      "outputs": [
        {
          "output_type": "stream",
          "name": "stdout",
          "text": [
            "Moo\n",
            "Baa\n"
          ]
        }
      ]
    },
    {
      "cell_type": "markdown",
      "source": [
        "**17. Create a class Book with attributes title, author, and year_published. Add a method get_book_info() that returns a formatted string with the book's details.**"
      ],
      "metadata": {
        "id": "isby4zGx7Lhu"
      }
    },
    {
      "cell_type": "code",
      "source": [
        "class Book:\n",
        "    def __init__(self, title, author, year_published):\n",
        "        self.title = title\n",
        "        self.author = author\n",
        "        self.year_published = year_published\n",
        "\n",
        "    def get_book_info(self):\n",
        "        return f\"'{self.title}' by {self.author}, published in {self.year_published}\"\n",
        "\n",
        "book1 = Book(\"1984\", \"George Orwell\", 1949)\n",
        "book_info = book1.get_book_info()\n",
        "print(book_info)"
      ],
      "metadata": {
        "colab": {
          "base_uri": "https://localhost:8080/"
        },
        "id": "lTOj15Wq7R6B",
        "outputId": "20961357-ebca-4dc7-8b7f-e0473f0d3460"
      },
      "execution_count": 19,
      "outputs": [
        {
          "output_type": "stream",
          "name": "stdout",
          "text": [
            "'1984' by George Orwell, published in 1949\n"
          ]
        }
      ]
    },
    {
      "cell_type": "markdown",
      "source": [
        "**18. Create a class House with attributes address and price. Create a derived class Mansion that adds an attribute number_of_rooms.**"
      ],
      "metadata": {
        "id": "HT4vgZVb7Q_-"
      }
    },
    {
      "cell_type": "code",
      "source": [
        "class House:\n",
        "    def __init__(self, address, price):\n",
        "        self.address = address\n",
        "        self.price = price\n",
        "\n",
        "    def get_info(self):\n",
        "        return f\"House at {self.address} costs ${self.price}\"\n",
        "\n",
        "class Mansion(House):\n",
        "    def __init__(self, address, price, number_of_rooms):\n",
        "        super().__init__(address, price)\n",
        "        self.number_of_rooms = number_of_rooms\n",
        "\n",
        "    def get_info(self):\n",
        "        base_info = super().get_info()\n",
        "        return f\"{base_info} and has {self.number_of_rooms} rooms.\"\n",
        "\n",
        "\n",
        "house = House(\"123 Main St\", 250000)\n",
        "mansion = Mansion(\"456 Luxury Ave\", 5000000, 10)\n",
        "\n",
        "print(house.get_info())\n",
        "print(mansion.get_info())"
      ],
      "metadata": {
        "colab": {
          "base_uri": "https://localhost:8080/"
        },
        "id": "7H8a-_HK7n8E",
        "outputId": "3325cd54-9c50-4cab-917a-7798acd0c278"
      },
      "execution_count": 20,
      "outputs": [
        {
          "output_type": "stream",
          "name": "stdout",
          "text": [
            "House at 123 Main St costs $250000\n",
            "House at 456 Luxury Ave costs $5000000 and has 10 rooms.\n"
          ]
        }
      ]
    }
  ]
}