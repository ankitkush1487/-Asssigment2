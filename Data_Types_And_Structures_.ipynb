{
  "nbformat": 4,
  "nbformat_minor": 0,
  "metadata": {
    "colab": {
      "provenance": [],
      "authorship_tag": "ABX9TyPfxEHNYb3VOz+MDF3X1Z2f",
      "include_colab_link": true
    },
    "kernelspec": {
      "name": "python3",
      "display_name": "Python 3"
    },
    "language_info": {
      "name": "python"
    }
  },
  "cells": [
    {
      "cell_type": "markdown",
      "metadata": {
        "id": "view-in-github",
        "colab_type": "text"
      },
      "source": [
        "<a href=\"https://colab.research.google.com/github/ankitkush1487/-Asssigment2/blob/master/Data_Types_And_Structures_.ipynb\" target=\"_parent\"><img src=\"https://colab.research.google.com/assets/colab-badge.svg\" alt=\"Open In Colab\"/></a>"
      ]
    },
    {
      "cell_type": "markdown",
      "source": [
        "# **Data Types and Structures Questions (Theory)**"
      ],
      "metadata": {
        "id": "IaqREeWhBbWI"
      }
    },
    {
      "cell_type": "markdown",
      "source": [
        "**1. What are data structures, and why are they important?**\n",
        "\n",
        "Data structures are specialized formats for organizing, managing, and storing data so that it can be used efficiently. They act like containers that hold data in a specific layout, depending on how the information will be accessed and manipulated.\n",
        "\n",
        "Example: Array, List, Stack, Queue, Tree, Graph\n",
        "\n",
        "Optimized Performance: Choosing the right structure can make your programs faster and less resource-intensive.\n",
        "\n",
        "Scalable Design: They help systems handle larger, more complex datasets.\n",
        "\n",
        "Code Efficiency: Good structures often mean cleaner, more readable and maintainable code.\n",
        "\n",
        "Algorithm Synergy: Many algorithms are built specifically to work with certain structures.\n",
        "\n",
        "Problem Solving: From search engines to banking systems, smart use of data structures is key to solving real-world challenges."
      ],
      "metadata": {
        "id": "HSrGSHGd01jK"
      }
    },
    {
      "cell_type": "markdown",
      "source": [
        "**2. Explain the difference between mutable and immutable data types with examples?**\n",
        "\n",
        "Mutable Data Type in Python\n",
        "\n",
        "In Python, a data type is mutable if its values can be changed, updated, or modified after the data type has been created. In other words, once an object of the mutable data type is initialized, you can update its content without creating a new object.\n",
        "\n",
        "Example:List, Dictionary,Set\n",
        "\n",
        "code:\n",
        "\n",
        "my_list = [1, 2, 3]\n",
        "\n",
        "my_list[0] = 99\n",
        "  \n",
        "print(my_list)  \n",
        "\n",
        "Immutable Data Type in Python\n",
        "\n",
        "Data types in Python whose values can’t be changed or modified are known as Immutable Data Types. Once the value or the object of the immutable data type is initialized, its value remains constant throughout its lifetime.\n",
        "\n",
        "But, if you want to change the original object, a new object will be created with the modified values\n",
        "\n",
        "Exmaple:int, float, bool, string, tuple\n",
        "\n",
        "code:\n",
        "\n",
        "name = \"John\"\n",
        "\n",
        "name[0] = \"K\"\n",
        "\n",
        "new_name = \"K\" + name[1:]\n",
        "\n",
        "print(new_name)\n",
        "\n",
        "\n",
        "\n"
      ],
      "metadata": {
        "id": "JfRl7SZy2kR1"
      }
    },
    {
      "cell_type": "markdown",
      "source": [
        "**3. What are the main differences between lists and tuples in Python?**\n",
        "\n",
        "A list is mutable, which means you can change, add, or remove its elements after it is created.\n",
        "Defined using square brackets [ ].\n",
        "Slightly slower because of the overhead involved in supporting changes.\n",
        "Has many built-in methods such as append(), remove(), insert(), etc.\n",
        "Used when you need a dynamic collection of items that may need to be changed.\n",
        "\n",
        "Example:   \n",
        "my_list = [1, 2, 3]\n",
        "\n",
        "my_list[0] = 99\n",
        "\n",
        "print(my_list)\n",
        "\n",
        "A tuple is immutable, which means once it is created, you cannot change its elements.\n",
        "Defined using parentheses ( ).\n",
        "Faster and more memory-efficient due to its fixed nature.\n",
        " Has fewer methods, mainly count() and index()\n",
        " Example:\n",
        "\n",
        " my_tuple = (1, 2, 3)\n",
        "\n",
        " my_tuple[0] = 99"
      ],
      "metadata": {
        "id": "uxSpfTkeIS3x"
      }
    },
    {
      "cell_type": "markdown",
      "source": [
        "**4. Describe how dictionaries store data?**\n",
        "\n",
        "Operations (Basic):\n",
        "Add: Use direct assignment (dictionary_name[key] = value) or .update() method.\n",
        "\n",
        "Access: Retrieve values using their keys (value = dictionary_name[key]).\n",
        "\n",
        "Remove: Use del dictionary_name[key], .pop(key), or .popitem().\n",
        "\n",
        "Check membership: Use the in operator (key in dictionary_name)"
      ],
      "metadata": {
        "id": "6aYu52ZELW1_"
      }
    },
    {
      "cell_type": "markdown",
      "source": [
        "**5. Why might you use a set instead of a list in Python?**\n",
        "\n",
        "Uniqueness: Sets automatically ensure all elements are unique. They discard duplicate values upon creation or insertion.\n",
        "\n",
        "Performance: Sets provide faster lookup times compared to lists. Membership tests (e.g., using in) are more efficient due to the underlying hash table implementation.\n",
        "\n",
        "Set Operations: Sets support built-in methods for mathematical set operations such as union, intersection, difference, and symmetric difference, which are not directly available for lists.\n",
        "\n",
        "Semantic Meaning: Using a set can make your code more expressive when your intent is to store unique items, emphasizing that duplicates are not allowed or needed."
      ],
      "metadata": {
        "id": "2wPs5ZX2i8TL"
      }
    },
    {
      "cell_type": "markdown",
      "source": [
        "**6. What is a string in Python, and how is it different from a list?**\n",
        "\n",
        "Data Type:\n",
        "\n",
        "String: Stores characters.\n",
        "List: Stores elements of any data type.\n",
        "\n",
        "Mutability:\n",
        "\n",
        "String: Immutable (cannot be modified).\n",
        "List: Mutable (can be modified).\n",
        "\n",
        "Element Type:\n",
        "\n",
        "String: Only characters.\n",
        "List: Can contain numbers, strings, objects, etc.\n",
        "\n",
        "Syntax:\n",
        "\n",
        "String: 'hello' or \"hello\".\n",
        "List: [1, 'a', 3.14].\n",
        "Usage:\n",
        "\n",
        "String: Used for text manipulation.\n",
        "List: Used for general-purpose data collection.\n",
        "\n",
        "Methods:\n",
        "\n",
        "String: Has text-related methods like .upper(), .lower(), .replace().\n",
        "List: Has collection-related methods like .append(), .remove(), .sort()."
      ],
      "metadata": {
        "id": "Js29DYNwjITy"
      }
    },
    {
      "cell_type": "markdown",
      "source": [
        "**7. How do tuples ensure data integrity in Python?**\n",
        "\n",
        "Tuples help ensure data integrity in Python primarily through immutability. Here's how that works and why it's important:\n",
        "1. Immutability\n",
        "Once a tuple is created, its contents cannot be changed (i.e., no adding, removing, or modifying elements).\n",
        "This prevents accidental or unauthorized modifications to the data, which is crucial in maintaining the consistency and reliability of the values.\n",
        "2. Hashability\n",
        "Because tuples are immutable, they are hashable (as long as all elements are hashable too), meaning they can be used as keys in dictionaries or stored in sets.\n",
        "This allows for consistent behavior when storing them in data structures that depend on immutability for fast access and integrity.\n",
        "3. Safer Function Arguments\n",
        "Tuples are often used to group related data and pass it as a single argument to functions, ensuring that the data received by the function cannot be altered unintentionally within the function scope.\n",
        "4. Predictability and Debugging\n",
        "Since the contents of a tuple don’t change, they are easier to reason about when debugging or maintaining code. You can rely on the fact that the data remains constant throughout its lifetime.\n"
      ],
      "metadata": {
        "id": "uNiIQeciEqEV"
      }
    },
    {
      "cell_type": "markdown",
      "source": [
        "**8. What is a hash table, and how does it relate to dictionaries in Python?**\n",
        "\n",
        "A hash table is a data structure that allows for efficient storage and retrieval of key-value pairs. It uses a hash function to compute an index into an array of buckets or slots, from which the desired value can be found.\n",
        "\n",
        "Relation to Python Dictionaries In Python, the dict type is a built-in implementation of a hash table.\n",
        "\n",
        "Keys in a dictionary are hashed using Python’s internal hashing mechanism.\n",
        "\n",
        "The values are stored at locations determined by those hash codes.\n",
        "\n",
        "Lookup, insertion, and deletion are highly efficient—again, close to  in average cases.\n",
        "\n",
        "example:\n",
        "\n",
        "\n",
        "person = {\n",
        "\n",
        "    \"name\": \"Ankit\",\n",
        "    \"age\": 24,\n",
        "    \"city\": \"Agra\"\n",
        "}\n",
        "\n",
        "print(person[\"name\"])\n"
      ],
      "metadata": {
        "id": "g4lbNPH1FU76"
      }
    },
    {
      "cell_type": "markdown",
      "source": [
        "**9. Can lists contain different data types in Python?**\n",
        "\n",
        "Yes, Python lists can contain elements of different data types. This is a key feature of Python's lists, making them highly versatile for storing collections of various kinds of data within a single structure\n",
        "\n",
        "For example, a single Python list can hold integers, floats, strings, booleans, other lists (creating nested lists), dictionaries, and even custom objects, all at the same time.\n",
        "\n",
        "my_list = [1, \"hello\", 3.14, True, [5, 6], {\"key\": \"value\"}]\n",
        "\n",
        "print(my_list)"
      ],
      "metadata": {
        "id": "vMb2pQ1xnWfp"
      }
    },
    {
      "cell_type": "markdown",
      "source": [
        "**10. Explain why strings are immutable in Python?**\n",
        "\n",
        "Python strings are immutable, meaning once a string is created, it cannot be changed.\n",
        "Memory Efficiency Immutable objects can be stored in a shared pool (like string interning), which helps reduce memory usage. For example, identical strings don't need to be recreated each time—they can reuse the same memory reference.\n",
        "\n",
        "Hashing and Dictionary Keys Strings can be used as keys in dictionaries. To maintain consistency while hashing, it’s crucial that the key doesn’t change. Immutability ensures the hash value remains stable.\n",
        "\n",
        "Thread Safety In multi-threaded programs, immutable objects are inherently thread-safe because their state cannot be modified by other threads.\n",
        "\n",
        "Performance Boost Since strings don’t change, operations like copying, slicing, or caching are faster and safer—no need to track or anticipate changes."
      ],
      "metadata": {
        "id": "MgdSOKa0gDEz"
      }
    },
    {
      "cell_type": "markdown",
      "source": [
        "**11. What advantages do dictionaries offer over lists for certain tasks?**\n",
        "\n",
        "Dictionaries offer several advantages over lists:\n",
        "Fast Lookups: O(1) time complexity for accessing values by key, while lists require O(n) for searching by value.\n",
        "\n",
        "Key-Value Mapping: Ideal for tasks that involve associating values with unique keys (e.g., storing user info with usernames).\n",
        "\n",
        "Efficient Updates: Easy to update values using keys without needing to search (unlike lists).\n",
        "\n",
        "Uniqueness of Keys: Keys in dictionaries are unique, helping avoid duplicates, unlike lists.\n",
        "\n",
        "Structured Data: Better for storing complex data like records or profiles with named fields.\n",
        "\n"
      ],
      "metadata": {
        "id": "gWQGDnfuglpS"
      }
    },
    {
      "cell_type": "markdown",
      "source": [
        "**12. Describe a scenario where using a tuple would be preferable over a list?**\n",
        "\n",
        "A tuple is preferable over a list when you need immutability and data integrity. For example, when storing fixed configuration data (like screen resolution, volume, and language settings), a tuple ensures that the values can't be accidentally modified. Tuples are also more memory-efficient and faster than lists.\n",
        "Example:\n",
        "config = ('1920x1080', 75, 'English')"
      ],
      "metadata": {
        "id": "MI2im5qchnqH"
      }
    },
    {
      "cell_type": "markdown",
      "source": [
        "**13. How do sets handle duplicate values in Python?**\n",
        "\n",
        "Sets in Python are designed to store only unique elements. When an attempt is made to add a duplicate value to a set, Python automatically ignores it, ensuring that the set contains only distinct elements. This behavior is a fundamental characteristic of sets, making them useful for tasks like removing duplicates from a list or checking for membership without concern for repetition.\n",
        "\n",
        "   my_set = {1, 2, 2, 3, 4, 4, 5}\n",
        "\n",
        "  print(my_set)"
      ],
      "metadata": {
        "id": "TjWc3JF7iE5e"
      }
    },
    {
      "cell_type": "markdown",
      "source": [
        "14. How does the “in” keyword work differently for lists and dictionaries?\n",
        "\n",
        "The in keyword works differently for lists and dictionaries in Python because of how they are structured:\n",
        "1. For Lists:\n",
        "The in keyword checks if a value exists in the list.\n",
        "It searches through the list to find the value and returns True if it’s found, otherwise False.\n",
        "\n",
        "my_list = [1, 2, 3]\n",
        "\n",
        "print(2 in my_list)\n",
        "\n",
        "print(4 in my_list)\n",
        "\n",
        "2. For Dictionaries:\n",
        "\n",
        "The in keyword checks if a key exists in the dictionary, not the value.\n",
        "It searches through the dictionary’s keys and returns True if the key exists, otherwise False.\n",
        "\n",
        "my_dict = {'a': 1, 'b': 2}\n",
        "\n",
        "print('a' in my_dict)\n",
        "\n",
        "print(1 in my_dict)    "
      ],
      "metadata": {
        "id": "8GXXd5lKiJ1l"
      }
    },
    {
      "cell_type": "markdown",
      "source": [
        "**15. Can you modify the elements of a tuple? Explain why or why not?**\n",
        "\n",
        "No, elements within a tuple cannot be directly modified after the tuple is created. Tuples are immutable, meaning their contents cannot be changed once they are defined. Attempting to modify a tuple element will result in a TypeError.\n",
        "\n",
        "Immutability:\n",
        "\n",
        "Tuples are designed to be immutable, providing a way to represent data that should not be altered. This characteristic is crucial for maintaining data integrity in certain contexts, like storing coordinates or configuration settings.\n",
        "\n",
        "Memory Efficiency:\n",
        "\n",
        "Due to their immutability, tuples are often more memory-efficient than lists, especially when dealing with large datasets\n",
        "\n",
        "my_tuple = (1, 2, 3)\n",
        "try:\n",
        "\n",
        "   my_tuple[0] = 4  \n",
        "\n",
        "except TypeError as e:\n",
        "\n",
        "   print(f\"Error: {e}\")"
      ],
      "metadata": {
        "id": "ehQhCdKoir35"
      }
    },
    {
      "cell_type": "markdown",
      "source": [
        "**16. What is a nested dictionary, and give an example of its use case?**\n",
        "\n",
        "A nested dictionary is a dictionary where the values themselves are dictionaries. This allows you to represent more complex structures, such as multi-level data.\n",
        "\n",
        "Use Case: Storing Information About Multiple Students\n",
        "Imagine you're managing a system that stores details about students. Each student has multiple attributes (like name, age, and grades), and you might want to store this information in a dictionary, with each student being a key and their attributes as nested dictionaries.\n",
        "\n",
        "Example:\n",
        "\n",
        "students = {\n",
        "\n",
        "    \"John\": {\n",
        "        \"age\": 18,\n",
        "        \"grades\": {\"math\": 90, \"english\": 85}\n",
        "    },\n",
        "    \"Alice\": {\n",
        "        \"age\": 20,\n",
        "        \"grades\": {\"math\": 95, \"english\": 88}\n",
        "    }\n",
        "}\n",
        "\n",
        "\n",
        "print(students[\"Alice\"][\"grades\"][\"math\"])  # Output: 95"
      ],
      "metadata": {
        "id": "77ZxpbBhjeYk"
      }
    },
    {
      "cell_type": "markdown",
      "source": [
        "**17. Describe the time complexity of accessing elements in a dictionary.**\n",
        "\n",
        "Accessing elements in a dictionary in Python typically has O(1) time complexity, meaning it's a constant-time operation. This efficiency comes from the underlying hash table data structure that dictionaries use.\n",
        "\n",
        "How It Works:\n",
        "\n",
        "Hashing: When you use a key to access a value (e.g., my_dict[key]), Python applies a hash function to the key to quickly determine the index in the dictionary's internal structure.\n",
        "Direct Access: The hashed index allows Python to jump directly to the location where the value is stored, resulting in fast access.\n",
        "\n",
        "Best Case (O(1)):\n",
        "\n",
        "Most dictionary lookups take constant time—regardless of the size of the dictionary—because Python can access the key directly using the hash.\n",
        "\n",
        "Worst Case (O(n)):\n",
        "\n",
        "In rare cases, such as when many keys hash to the same value (called hash collisions), the dictionary may need to check each key in the same \"bucket\" or index. This can degrade performance to O(n), where n is the number of elements in the dictionary.\n",
        "\n",
        "However, Python's implementation handles collisions efficiently, so this worst-case scenario is rare.\n",
        "Example:\n",
        "\n",
        "my_dict = {'a': 10, 'b': 20, 'c': 30}\n",
        "\n",
        "print(my_dict['b'])"
      ],
      "metadata": {
        "id": "fyr3rg4Yj7Iq"
      }
    },
    {
      "cell_type": "markdown",
      "source": [
        "**18. In what situations are lists preferred over dictionaries?**\n",
        "\n",
        "Lists are preferred over dictionaries when:\n",
        "Order Matters: Lists maintain the order of elements, while dictionaries do not.\n",
        "\n",
        "No Key-Value Pairs: Use lists when you just need a collection of items without key associations.\n",
        "Indexing: Lists allow access by index, making them suitable for sequence-based operations.\n",
        "\n",
        "Operations on Sequences: Lists provide methods like .append(), .remove(), and .pop() for managing collections.\n",
        "Smaller Data: Lists are simpler for smaller datasets without the need for fast lookups"
      ],
      "metadata": {
        "id": "BBbcJBUGkXRV"
      }
    },
    {
      "cell_type": "markdown",
      "source": [
        "**19. Why are dictionaries considered unordered, and how does that affect data retrieval?**\n",
        "\n",
        "Dictionaries in Python are considered unordered because they do not maintain the insertion order of their key-value pairs (though this behavior has changed in Python 3.7+, where dictionaries preserve insertion order). However, the order of the keys doesn’t affect how data is stored or retrieved.\n",
        "\n",
        "Why Are Dictionaries Unordered?\n",
        "\n",
        "Hashing: Python dictionaries are implemented using a hash table. When a key is added, Python computes its hash and uses it to store the key-value pair in a particular location in memory, which is not based on insertion order.\n",
        "\n",
        "Efficiency: This hashing mechanism allows for fast O(1) lookups, insertions, and deletions, but it doesn't concern itself with the order in which items were added.\n",
        "\n",
        "Impact on Data Retrieval:\n",
        "Unordered means you can't rely on the order of elements when iterating over a dictionary (before Python 3.7). However, you can still efficiently retrieve values by key using my_dict[key], regardless of insertion order.\n",
        "\n",
        "Example:\n",
        "\n",
        "my_dict = {'a': 1, 'b': 2, 'c': 3}\n",
        "\n",
        "print(my_dict['b'])"
      ],
      "metadata": {
        "id": "DbPrDPcWkjse"
      }
    },
    {
      "cell_type": "markdown",
      "source": [
        "**20. Explain the difference between a list and a dictionary in terms of data retrieval.**\n",
        "\n",
        "The main difference between a list and a dictionary in terms of data retrieval is how you access the data:\n",
        "1. List:\n",
        "Access by Index: Data is retrieved from a list using an index (integer position).\n",
        "Ordered: Lists maintain the order of elements as they are added.\n",
        "Time Complexity: Retrieving data by index is O(1), but searching for a specific value takes O(n), as you have to iterate through the list.\n",
        "Example:\n",
        "\n",
        "my_list = [10, 20, 30]\n",
        "\n",
        "print(my_list[1])  # Output: 20 (access by index)\n",
        "\n",
        "2. Dictionary:\n",
        "Access by Key: Data is retrieved using a key rather than an index.\n",
        "Unordered: Before Python 3.7, dictionaries were unordered, meaning the order of key-value pairs isn’t guaranteed (though they preserve order in Python 3.7+).\n",
        "Time Complexity: Accessing a value by key is O(1) on average, thanks to the hash table structure.\n",
        "\n",
        "Example:\n",
        "\n",
        "my_dict = {'a': 10, 'b': 20}\n",
        "\n",
        "print(my_dict['b'])  # Output: 20 (access by key)\n",
        "\n",
        "Key Differences in Data Retrieval:\n",
        "\n",
        "List: Access by index and maintains the order of items.\n",
        "Dictionary: Access by key and provides faster lookups due to hashing, but order was not preserved until Python 3.7.\n",
        "In short, lists are for ordered collections with indexed access, while dictionaries provide faster lookups by key"
      ],
      "metadata": {
        "id": "BcOcdyvKlDao"
      }
    },
    {
      "cell_type": "markdown",
      "source": [
        "#                              ***Practical Questions***"
      ],
      "metadata": {
        "id": "0G8fHz6zBZB7"
      }
    },
    {
      "cell_type": "code",
      "execution_count": null,
      "metadata": {
        "id": "FV_QZlYRuAUy",
        "colab": {
          "base_uri": "https://localhost:8080/"
        },
        "outputId": "b48bcd0a-40f6-45cc-914c-102543979eb8"
      },
      "outputs": [
        {
          "output_type": "stream",
          "name": "stdout",
          "text": [
            "Ankit Kumar Kushwaha\n"
          ]
        }
      ],
      "source": [
        "#1. Write a code to create a string with your name and print it?\n",
        "my_string= \"Ankit Kumar Kushwaha\"\n",
        "print(my_string)\n"
      ]
    },
    {
      "cell_type": "code",
      "source": [
        "# 2. Write a code to find the length of the string \"Hello World\"?\n",
        "my_string= \"Hello World\"\n",
        "length=len(my_string)\n",
        "print(length)"
      ],
      "metadata": {
        "colab": {
          "base_uri": "https://localhost:8080/"
        },
        "id": "PI37rd3vD2wk",
        "outputId": "3200d411-35f8-4b2a-b309-9cce71d059d0"
      },
      "execution_count": null,
      "outputs": [
        {
          "output_type": "stream",
          "name": "stdout",
          "text": [
            "11\n"
          ]
        }
      ]
    },
    {
      "cell_type": "code",
      "source": [
        "# 3. Write a code to slice the first 3 characters from the string \"Python Programming\".\n",
        "my_string = \"Python Programming\"\n",
        "Sliced_string= my_string[:3]\n",
        "print(Sliced_string)"
      ],
      "metadata": {
        "colab": {
          "base_uri": "https://localhost:8080/"
        },
        "id": "uenvaKN9Eo-n",
        "outputId": "0eb69343-7f30-43cf-d198-de1c302396e8"
      },
      "execution_count": null,
      "outputs": [
        {
          "output_type": "stream",
          "name": "stdout",
          "text": [
            "Pyt\n"
          ]
        }
      ]
    },
    {
      "cell_type": "code",
      "source": [
        "# 4. Write a code to convert the string \"hello\" to uppercase.\n",
        "my_string = \"hello\"\n",
        "uppercase_string= my_string.upper()\n",
        "print(uppercase_string)"
      ],
      "metadata": {
        "colab": {
          "base_uri": "https://localhost:8080/"
        },
        "id": "J336sLIHFZDC",
        "outputId": "fec97de0-f36f-40f7-c2a9-28ab79bec29d"
      },
      "execution_count": null,
      "outputs": [
        {
          "output_type": "stream",
          "name": "stdout",
          "text": [
            "HELLO\n"
          ]
        }
      ]
    },
    {
      "cell_type": "code",
      "source": [
        "# 5. Write a code to replace the word \"apple\" with \"orange\" in the string \"I like apple\".\n",
        "my_string= \"I Like apple\"\n",
        "new_string = my_string.replace(\"apple\", \"orange\")\n",
        "print(new_string)"
      ],
      "metadata": {
        "colab": {
          "base_uri": "https://localhost:8080/"
        },
        "id": "Xe8ZnpcSF3Rl",
        "outputId": "93161bb7-45e0-4e02-8981-3c998bde930f"
      },
      "execution_count": null,
      "outputs": [
        {
          "output_type": "stream",
          "name": "stdout",
          "text": [
            "I Like orange\n"
          ]
        }
      ]
    },
    {
      "cell_type": "code",
      "source": [
        "# 6. Write a code to create a list with numbers 1 to 5 and print it.\n",
        "list = [1,2,3,4,5]\n",
        "print(list)"
      ],
      "metadata": {
        "colab": {
          "base_uri": "https://localhost:8080/"
        },
        "id": "CSB1lAGJGbHx",
        "outputId": "c1c3e59c-e7d1-4cf2-f5df-4f291fcee592"
      },
      "execution_count": null,
      "outputs": [
        {
          "output_type": "stream",
          "name": "stdout",
          "text": [
            "[1, 2, 3, 4, 5]\n"
          ]
        }
      ]
    },
    {
      "cell_type": "code",
      "source": [
        "# 7. Write a code to append the number 10 to the list [1, 2, 3, 4].\n",
        "list=[1,2,3,4]\n",
        "list.append(10)\n",
        "print(list)"
      ],
      "metadata": {
        "colab": {
          "base_uri": "https://localhost:8080/"
        },
        "id": "MlH1ffYQHK7V",
        "outputId": "8a1d7eb9-bd53-454b-aed6-1b6810e2f9ad"
      },
      "execution_count": null,
      "outputs": [
        {
          "output_type": "stream",
          "name": "stdout",
          "text": [
            "[1, 2, 3, 4, 10]\n"
          ]
        }
      ]
    },
    {
      "cell_type": "code",
      "source": [
        "# 8. Write a code to remove the number 3 from the list [1, 2, 3, 4, 5].\n",
        "list = [1,2,3,4,5]\n",
        "list.remove(3)\n",
        "print(list)"
      ],
      "metadata": {
        "colab": {
          "base_uri": "https://localhost:8080/"
        },
        "id": "dOvfvF3ZH6Sz",
        "outputId": "8913daf7-343f-43b4-fdbc-2f9f13fc8fc5"
      },
      "execution_count": null,
      "outputs": [
        {
          "output_type": "stream",
          "name": "stdout",
          "text": [
            "[1, 2, 4, 5]\n"
          ]
        }
      ]
    },
    {
      "cell_type": "code",
      "source": [
        "# 9. Write a code to access the second element in the list ['a', 'b', 'c', 'd'].\n",
        "list= ['a', 'b', 'c', 'd']\n",
        "second_element=list[1]\n",
        "print(second_element)"
      ],
      "metadata": {
        "colab": {
          "base_uri": "https://localhost:8080/"
        },
        "id": "9lVBEc8iIWWr",
        "outputId": "7c81094c-0f03-4583-c76e-c340eee48eb5"
      },
      "execution_count": null,
      "outputs": [
        {
          "output_type": "stream",
          "name": "stdout",
          "text": [
            "b\n"
          ]
        }
      ]
    },
    {
      "cell_type": "code",
      "source": [
        "# 10. Write a code to reverse the list [10, 20, 30, 40, 50].\n",
        "list=[10, 20, 30, 40, 50]\n",
        "list_reverse=list[::-1]\n",
        "print(list_reverse)"
      ],
      "metadata": {
        "colab": {
          "base_uri": "https://localhost:8080/"
        },
        "id": "n3Y0l3EYI_fA",
        "outputId": "2f94f205-0491-42a3-d56f-4199dfd8a69b"
      },
      "execution_count": null,
      "outputs": [
        {
          "output_type": "stream",
          "name": "stdout",
          "text": [
            "[50, 40, 30, 20, 10]\n"
          ]
        }
      ]
    },
    {
      "cell_type": "code",
      "source": [
        "# 11. Write a code to create a tuple with the elements 100, 200, 300 and print it.\n",
        "my_tuple=(100,200,300)\n",
        "print(my_tuple)"
      ],
      "metadata": {
        "colab": {
          "base_uri": "https://localhost:8080/"
        },
        "id": "KTJKz-jLJhsI",
        "outputId": "34ff8f9f-80bb-4ba1-ea82-8056df9f1809"
      },
      "execution_count": null,
      "outputs": [
        {
          "output_type": "stream",
          "name": "stdout",
          "text": [
            "(100, 200, 300)\n"
          ]
        }
      ]
    },
    {
      "cell_type": "code",
      "source": [
        "# 12. Write a code to access the second-to-last element of the tuple ('red', 'green', 'blue', 'yellow').\n",
        "my_tuple= ('red', 'green', 'blue', 'yellow')\n",
        "second_last= my_tuple[-2]\n",
        "print(second_last)"
      ],
      "metadata": {
        "colab": {
          "base_uri": "https://localhost:8080/"
        },
        "id": "MZiYdn4fJ9U9",
        "outputId": "20eda080-1c50-4bd7-cb8c-abbb1cb1efd4"
      },
      "execution_count": null,
      "outputs": [
        {
          "output_type": "stream",
          "name": "stdout",
          "text": [
            "blue\n"
          ]
        }
      ]
    },
    {
      "cell_type": "code",
      "source": [
        "# 13. Write a code to find the minimum number in the tuple (10, 20, 5, 15).\n",
        "my_tuple = (10, 20, 5, 15)\n",
        "num_min = min(my_tuple)\n",
        "print(num_min)"
      ],
      "metadata": {
        "colab": {
          "base_uri": "https://localhost:8080/"
        },
        "id": "SUIkjRYfLSxw",
        "outputId": "1257aaec-06ba-4048-e791-dbe6fd2d8699"
      },
      "execution_count": null,
      "outputs": [
        {
          "output_type": "stream",
          "name": "stdout",
          "text": [
            "5\n"
          ]
        }
      ]
    },
    {
      "cell_type": "code",
      "source": [
        "# 14. Write a code to find the index of the element \"cat\" in the tuple ('dog', 'cat', 'rabbit').\n",
        "my_tuple =('dog', 'cat', 'rabbit')\n",
        "index_cat= my_tuple.index(\"cat\")\n",
        "print(index_cat)"
      ],
      "metadata": {
        "colab": {
          "base_uri": "https://localhost:8080/"
        },
        "id": "TOR8cYfJMk7P",
        "outputId": "df4d4977-b83c-434c-9460-19b2f4f29364"
      },
      "execution_count": null,
      "outputs": [
        {
          "output_type": "stream",
          "name": "stdout",
          "text": [
            "1\n"
          ]
        }
      ]
    },
    {
      "cell_type": "code",
      "source": [
        "# 15. Write a code to create a tuple containing three different fruits and check if \"kiwi\" is in it.\n",
        "\n",
        "fruits = (\"apple\", \"banana\", \"mango\")\n",
        "if \"kiwi\" in fruits:\n",
        "    print(\"Kiwi is in the tuple.\")\n",
        "else:\n",
        "    print(\"Kiwi is not in the tuple.\")\n"
      ],
      "metadata": {
        "colab": {
          "base_uri": "https://localhost:8080/"
        },
        "id": "6cfOwze7NOlt",
        "outputId": "bf817181-e661-4d09-e40f-86893007103e"
      },
      "execution_count": null,
      "outputs": [
        {
          "output_type": "stream",
          "name": "stdout",
          "text": [
            "Kiwi is not in the tuple.\n"
          ]
        }
      ]
    },
    {
      "cell_type": "code",
      "source": [
        "# 16. Write a code to create a set with the elements 'a', 'b', 'c' and print it.\n",
        "my_set ={'a', 'b', 'c'}\n",
        "print(my_set)"
      ],
      "metadata": {
        "colab": {
          "base_uri": "https://localhost:8080/"
        },
        "id": "GFN5Gf5gNZgR",
        "outputId": "bca669d3-9a09-4909-daa2-8f8c369c29b4"
      },
      "execution_count": null,
      "outputs": [
        {
          "output_type": "stream",
          "name": "stdout",
          "text": [
            "{'b', 'c', 'a'}\n"
          ]
        }
      ]
    },
    {
      "cell_type": "code",
      "source": [
        "# 17. Write a code to clear all elements from the set {1, 2, 3, 4, 5}.\n",
        "my_set= {1, 2, 3, 4, 5}\n",
        "my_set.clear()\n",
        "print(my_set)"
      ],
      "metadata": {
        "colab": {
          "base_uri": "https://localhost:8080/"
        },
        "id": "KGEgpzy5N6X-",
        "outputId": "44172291-9dd1-4082-d41a-805f1ec0f87a"
      },
      "execution_count": null,
      "outputs": [
        {
          "output_type": "stream",
          "name": "stdout",
          "text": [
            "set()\n"
          ]
        }
      ]
    },
    {
      "cell_type": "code",
      "source": [
        "# 18.  Write a code to remove the element 4 from the set {1, 2, 3, 4}.\n",
        "my_set= {1, 2, 3, 4}\n",
        "my_set.remove(4)\n",
        "print(my_set)"
      ],
      "metadata": {
        "colab": {
          "base_uri": "https://localhost:8080/"
        },
        "id": "zrXsSwBKOTqP",
        "outputId": "f7406cbd-0c58-4b9c-8a51-1e071e99f7ab"
      },
      "execution_count": null,
      "outputs": [
        {
          "output_type": "stream",
          "name": "stdout",
          "text": [
            "{1, 2, 3}\n"
          ]
        }
      ]
    },
    {
      "cell_type": "code",
      "source": [
        "# 19. Write a code to find the union of two sets {1, 2, 3} and {3, 4, 5}.\n",
        "my_set1 ={1, 2, 3}\n",
        "my_set2 ={3, 4, 5}\n",
        "union_set = my_set1.union(my_set2)\n",
        "print(union_set)"
      ],
      "metadata": {
        "colab": {
          "base_uri": "https://localhost:8080/"
        },
        "id": "D5soO6IrOn2_",
        "outputId": "e6517b7d-3f77-4002-ec45-b16d0e2b0ce8"
      },
      "execution_count": null,
      "outputs": [
        {
          "output_type": "stream",
          "name": "stdout",
          "text": [
            "{1, 2, 3, 4, 5}\n"
          ]
        }
      ]
    },
    {
      "cell_type": "code",
      "source": [
        "# 20. Write a code to find the intersection of two sets {1, 2, 3} and {2, 3, 4}.\n",
        "my_set1 ={1, 2, 3}\n",
        "my_set2 ={3, 4, 5}\n",
        "intersection_set =my_set1.intersection(my_set2)\n",
        "print(intersection_set)"
      ],
      "metadata": {
        "colab": {
          "base_uri": "https://localhost:8080/"
        },
        "id": "FShiLDzlPdbn",
        "outputId": "539f3fb1-a6c0-40d4-9175-75b2832c3a1f"
      },
      "execution_count": null,
      "outputs": [
        {
          "output_type": "stream",
          "name": "stdout",
          "text": [
            "{3}\n"
          ]
        }
      ]
    },
    {
      "cell_type": "code",
      "source": [
        "# 21. Write a code to create a dictionary with the keys \"name\", \"age\", and \"city\", and print it.\n",
        "my_dic= {\n",
        "    \"name\": \"Ankit\",\n",
        "    \"age\": 24,\n",
        "    \"city\": \"Agra\"\n",
        "}\n",
        "print(my_dic)"
      ],
      "metadata": {
        "colab": {
          "base_uri": "https://localhost:8080/"
        },
        "id": "afRGAcq6qAUd",
        "outputId": "99d41dbc-3d3b-4c47-e94e-4008fe18040e"
      },
      "execution_count": null,
      "outputs": [
        {
          "output_type": "stream",
          "name": "stdout",
          "text": [
            "{'name': 'Ankit', 'age': 24, 'city': 'Agra'}\n"
          ]
        }
      ]
    },
    {
      "cell_type": "code",
      "source": [
        "# 22. Write a code to add a new key-value pair \"country\": \"USA\" to the dictionary {'name': 'John', 'age': 25}.\n",
        "my_dic = {'name': 'John', 'age': 25}\n",
        "my_dic['country']= 'USA'\n",
        "print(my_dic)"
      ],
      "metadata": {
        "colab": {
          "base_uri": "https://localhost:8080/"
        },
        "id": "tur4t5sNqv0u",
        "outputId": "ac1ea6c1-257d-48e8-91c4-f07eb1abdff0"
      },
      "execution_count": null,
      "outputs": [
        {
          "output_type": "stream",
          "name": "stdout",
          "text": [
            "{'name': 'John', 'age': 25, 'country': 'USA'}\n"
          ]
        }
      ]
    },
    {
      "cell_type": "code",
      "source": [
        "# 23. Write a code to access the value associated with the key \"name\" in the dictionary {'name': 'Alice', 'age': 30}.\n",
        "my_dic={'name': 'Alice', 'age': 30}\n",
        "print(my_dic['name'])"
      ],
      "metadata": {
        "colab": {
          "base_uri": "https://localhost:8080/"
        },
        "id": "UAuFqCgprQxb",
        "outputId": "23672936-4cbb-42bc-d300-9914b376ceac"
      },
      "execution_count": null,
      "outputs": [
        {
          "output_type": "stream",
          "name": "stdout",
          "text": [
            "Alice\n"
          ]
        }
      ]
    },
    {
      "cell_type": "code",
      "source": [
        "# 24. Write a code to remove the key \"age\" from the dictionary c\n",
        "my_dic ={'name': 'Bob', 'age': 22, 'city': 'New York'}\n",
        "del my_dic['age']\n",
        "print(my_dic)"
      ],
      "metadata": {
        "colab": {
          "base_uri": "https://localhost:8080/"
        },
        "id": "NjxLR7zIr-bP",
        "outputId": "ced82123-7098-4423-b4c4-f2baecc47c72"
      },
      "execution_count": null,
      "outputs": [
        {
          "output_type": "stream",
          "name": "stdout",
          "text": [
            "{'name': 'Bob', 'city': 'New York'}\n"
          ]
        }
      ]
    },
    {
      "cell_type": "code",
      "source": [
        "# 25. Write a code to check if the key \"city\" exists in the dictionary {'name': 'Alice', 'city': 'Paris'}.\n",
        "my_dic = {'name': 'Alice', 'city': 'Paris'}\n",
        "\n",
        "if 'city' in my_dic:\n",
        "    print(\"Key 'city' exists in the dictionary.\")\n",
        "else:\n",
        "    print(\"Key 'city' does not exist in the dictionary.\")\n"
      ],
      "metadata": {
        "id": "F0g431XfskVB"
      },
      "execution_count": null,
      "outputs": []
    },
    {
      "cell_type": "code",
      "source": [
        "# 26. Write a code to create a list, a tuple, and a dictionary, and print them all.\n",
        "list= [1,2,3,4]\n",
        "tuple= (3,4,56,7)\n",
        "my_dic ={'name': 'Ankit', 'city': 'Agra'}\n",
        "print(list)\n",
        "print(tuple)\n",
        "print(my_dic)\n"
      ],
      "metadata": {
        "colab": {
          "base_uri": "https://localhost:8080/"
        },
        "id": "oF5JCEYfs84T",
        "outputId": "39ea65d5-6125-435e-fd8d-24ac203d0cf0"
      },
      "execution_count": null,
      "outputs": [
        {
          "output_type": "stream",
          "name": "stdout",
          "text": [
            "[1, 2, 3, 4]\n",
            "(3, 4, 56, 7)\n",
            "{'name': 'Ankit', 'city': 'Agra'}\n"
          ]
        }
      ]
    },
    {
      "cell_type": "code",
      "source": [
        "# 27. Write a code to create a list of 5 random numbers between 1 and 100, sort it in ascending order, and print the result.(replaced)\n",
        "import random\n",
        "\n",
        "numbers = random.sample(range(1, 101), 5)\n",
        "numbers.sort()\n",
        "print(\"Sorted random numbers:\", numbers)\n"
      ],
      "metadata": {
        "colab": {
          "base_uri": "https://localhost:8080/"
        },
        "id": "yLtnW4-1uJDv",
        "outputId": "83e06e20-3afd-4cf1-9155-c444d5a40e6e"
      },
      "execution_count": null,
      "outputs": [
        {
          "output_type": "stream",
          "name": "stdout",
          "text": [
            "Sorted random numbers: [28, 30, 70, 96, 98]\n"
          ]
        }
      ]
    },
    {
      "cell_type": "code",
      "source": [
        "# 28. Write a code to create a list with strings and print the element at the third index.\n",
        "fruits = [\"apple\", \"banana\", \"cherry\", \"date\", \"elderberry\"]\n",
        "print(fruits[3])\n"
      ],
      "metadata": {
        "colab": {
          "base_uri": "https://localhost:8080/"
        },
        "id": "vlguuNTevAMO",
        "outputId": "c54fca7e-1c93-4f92-a014-171578cf4114"
      },
      "execution_count": null,
      "outputs": [
        {
          "output_type": "stream",
          "name": "stdout",
          "text": [
            "date\n"
          ]
        }
      ]
    },
    {
      "cell_type": "code",
      "source": [
        "# 29. Write a code to combine two dictionaries into one and print the result.\n",
        "dict1 = {'a': 1, 'b': 2}\n",
        "dict2 = {'c': 3, 'd': 4}\n",
        "combined_dict = {**dict1, **dict2}\n",
        "print(\"Combined Dictionary:\", combined_dict)"
      ],
      "metadata": {
        "colab": {
          "base_uri": "https://localhost:8080/"
        },
        "id": "p2XNxC0mvh0V",
        "outputId": "4e598b13-351f-4315-9a14-368c391282ca"
      },
      "execution_count": null,
      "outputs": [
        {
          "output_type": "stream",
          "name": "stdout",
          "text": [
            "Combined Dictionary: {'a': 1, 'b': 2, 'c': 3, 'd': 4}\n"
          ]
        }
      ]
    },
    {
      "cell_type": "code",
      "source": [
        "# 30. Write a code to convert a list of strings into a set.\n",
        "my_list = [\"apple\", \"banana\", \"mango\", \"apple\", \"banana\"]\n",
        "my_set = set(my_list)\n",
        "print(\"Set from List:\", my_set)"
      ],
      "metadata": {
        "colab": {
          "base_uri": "https://localhost:8080/"
        },
        "id": "bnXkKIU6wP2k",
        "outputId": "9a3f7749-f3e7-45f6-ace5-9127c5f48fb4"
      },
      "execution_count": null,
      "outputs": [
        {
          "output_type": "stream",
          "name": "stdout",
          "text": [
            "Set from List: {'apple', 'mango', 'banana'}\n"
          ]
        }
      ]
    }
  ]
}